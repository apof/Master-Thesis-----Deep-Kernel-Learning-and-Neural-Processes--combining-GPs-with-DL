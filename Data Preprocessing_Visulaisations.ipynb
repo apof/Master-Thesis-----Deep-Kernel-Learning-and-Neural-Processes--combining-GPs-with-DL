{
 "cells": [
  {
   "cell_type": "code",
   "execution_count": 1,
   "metadata": {},
   "outputs": [],
   "source": [
    "import pandas as pd\n",
    "import os\n",
    "import matplotlib.pyplot as plt\n",
    "import numpy as np\n",
    "\n",
    "from matplotlib import pyplot as plt\n",
    "import math\n",
    "from IPython.display import clear_output\n",
    "from sklearn.preprocessing import StandardScaler\n",
    "import time\n",
    "import datetime as dt\n",
    "import matplotlib.dates as mdates\n",
    "import seaborn as sns; sns.set()\n",
    "from sklearn.decomposition import PCA\n",
    "import joblib\n",
    "\n",
    "import xlrd\n",
    "import csv\n",
    "from pandas import ExcelWriter\n",
    "from pandas import ExcelFile\n",
    "\n",
    "\n",
    "import utils\n",
    "\n",
    "\n",
    "%matplotlib inline\n",
    "%load_ext autoreload\n",
    "%autoreload 2"
   ]
  },
  {
   "cell_type": "code",
   "execution_count": 2,
   "metadata": {},
   "outputs": [],
   "source": [
    "input_data = './MSc Student Data 2021/data/v2/aluminium/aluminium_22_features.xlsx'\n",
    "target_data = 'MSc Student Data 2021/data/v2/aluminium/aluminium_22_target_lagged_log_returns.csv'\n",
    "\n",
    "#input_data = './MSc Student Data 2021/data/v2/copper/copper_22_features.xlsx'\n",
    "#target_data = 'MSc Student Data 2021/data/v2/copper/copper_22_target_lagged_log_returns.csv'"
   ]
  },
  {
   "cell_type": "code",
   "execution_count": 3,
   "metadata": {},
   "outputs": [],
   "source": [
    "input_df = pd.read_excel(input_data)\n",
    "target_df = pd.read_csv(target_data)"
   ]
  },
  {
   "cell_type": "code",
   "execution_count": 4,
   "metadata": {},
   "outputs": [],
   "source": [
    "input_df = input_df.rename(columns = {'Unnamed: 0': 'date'}, inplace = False)"
   ]
  },
  {
   "cell_type": "code",
   "execution_count": 5,
   "metadata": {},
   "outputs": [],
   "source": [
    "input_df = input_df.iloc[3: , :]"
   ]
  },
  {
   "cell_type": "code",
   "execution_count": 6,
   "metadata": {},
   "outputs": [
    {
     "data": {
      "text/plain": [
       "(4187, 56)"
      ]
     },
     "execution_count": 6,
     "metadata": {},
     "output_type": "execute_result"
    }
   ],
   "source": [
    "input_df.shape"
   ]
  },
  {
   "cell_type": "code",
   "execution_count": 7,
   "metadata": {},
   "outputs": [
    {
     "data": {
      "text/plain": [
       "(4187, 2)"
      ]
     },
     "execution_count": 7,
     "metadata": {},
     "output_type": "execute_result"
    }
   ],
   "source": [
    "target_df.shape"
   ]
  },
  {
   "cell_type": "code",
   "execution_count": 8,
   "metadata": {},
   "outputs": [],
   "source": [
    "input_df['y'] = target_df['y'].values"
   ]
  },
  {
   "cell_type": "code",
   "execution_count": 9,
   "metadata": {},
   "outputs": [
    {
     "data": {
      "text/plain": [
       "Index(['date', 'FeatureFamily.COT', 'FeatureFamily.COT.1', 'FeatureFamily.CTA',\n",
       "       'FeatureFamily.CTA.1', 'FeatureFamily.CURVE', 'FeatureFamily.CURVE.1',\n",
       "       'FeatureFamily.CURVE.2', 'FeatureFamily.CURRENCY',\n",
       "       'FeatureFamily.CURRENCY.1', 'FeatureFamily.CURRENCY.2',\n",
       "       'FeatureFamily.CURRENCY.3', 'FeatureFamily.CURRENCY.4',\n",
       "       'FeatureFamily.CURRENCY.5', 'FeatureFamily.CURRENCY.6',\n",
       "       'FeatureFamily.CURRENCY.7', 'FeatureFamily.CURRENCY.8',\n",
       "       'FeatureFamily.CURRENCY.9', 'FeatureFamily.FREIGHT',\n",
       "       'FeatureFamily.FREIGHT.1', 'FeatureFamily.FREIGHT.2',\n",
       "       'FeatureFamily.FREIGHT.3', 'FeatureFamily.FREIGHT.4',\n",
       "       'FeatureFamily.FREIGHT.5', 'FeatureFamily.FREIGHT.6',\n",
       "       'FeatureFamily.FREIGHT.7', 'FeatureFamily.FREIGHT.8',\n",
       "       'FeatureFamily.FREIGHT.9', 'FeatureFamily.INVENTORIES',\n",
       "       'FeatureFamily.INVENTORIES.1', 'FeatureFamily.INVENTORIES.2',\n",
       "       'FeatureFamily.INVENTORIES.3', 'FeatureFamily.INVENTORIES.4',\n",
       "       'FeatureFamily.INVENTORIES.5', 'FeatureFamily.SATELLITE',\n",
       "       'FeatureFamily.SATELLITE.1', 'FeatureFamily.SATELLITE.2',\n",
       "       'FeatureFamily.SATELLITE.3', 'FeatureFamily.SATELLITE.4',\n",
       "       'FeatureFamily.SATELLITE.5', 'FeatureFamily.SATELLITE.6',\n",
       "       'FeatureFamily.SATELLITE.7', 'FeatureFamily.SATELLITE.8',\n",
       "       'FeatureFamily.SATELLITE.9', 'FeatureFamily.SATELLITE.10',\n",
       "       'FeatureFamily.SEASONALITY', 'FeatureFamily.MACRO',\n",
       "       'FeatureFamily.MACRO.1', 'FeatureFamily.MACRO.2',\n",
       "       'FeatureFamily.MACRO.3', 'FeatureFamily.MACRO.4',\n",
       "       'FeatureFamily.MACRO.5', 'FeatureFamily.MACRO.6',\n",
       "       'FeatureFamily.MACRO.7', 'FeatureFamily.MACRO.8',\n",
       "       'FeatureFamily.TECHNICAL', 'y'],\n",
       "      dtype='object')"
      ]
     },
     "execution_count": 9,
     "metadata": {},
     "output_type": "execute_result"
    }
   ],
   "source": [
    "input_df.columns"
   ]
  },
  {
   "cell_type": "code",
   "execution_count": 10,
   "metadata": {},
   "outputs": [
    {
     "name": "stdout",
     "output_type": "stream",
     "text": [
      "date 0 Nan values\n",
      "FeatureFamily.COT 2723 Nan values\n",
      "FeatureFamily.COT.1 3326 Nan values\n",
      "FeatureFamily.CTA 63 Nan values\n",
      "FeatureFamily.CTA.1 32 Nan values\n",
      "FeatureFamily.CURVE 0 Nan values\n",
      "FeatureFamily.CURVE.1 348 Nan values\n",
      "FeatureFamily.CURVE.2 348 Nan values\n",
      "FeatureFamily.CURRENCY 349 Nan values\n",
      "FeatureFamily.CURRENCY.1 349 Nan values\n",
      "FeatureFamily.CURRENCY.2 349 Nan values\n",
      "FeatureFamily.CURRENCY.3 349 Nan values\n",
      "FeatureFamily.CURRENCY.4 349 Nan values\n",
      "FeatureFamily.CURRENCY.5 349 Nan values\n",
      "FeatureFamily.CURRENCY.6 349 Nan values\n",
      "FeatureFamily.CURRENCY.7 349 Nan values\n",
      "FeatureFamily.CURRENCY.8 349 Nan values\n",
      "FeatureFamily.CURRENCY.9 349 Nan values\n",
      "FeatureFamily.FREIGHT 2537 Nan values\n",
      "FeatureFamily.FREIGHT.1 2537 Nan values\n",
      "FeatureFamily.FREIGHT.2 2537 Nan values\n",
      "FeatureFamily.FREIGHT.3 2537 Nan values\n",
      "FeatureFamily.FREIGHT.4 2537 Nan values\n",
      "FeatureFamily.FREIGHT.5 2537 Nan values\n",
      "FeatureFamily.FREIGHT.6 2537 Nan values\n",
      "FeatureFamily.FREIGHT.7 2537 Nan values\n",
      "FeatureFamily.FREIGHT.8 2537 Nan values\n",
      "FeatureFamily.FREIGHT.9 2537 Nan values\n",
      "FeatureFamily.INVENTORIES 2798 Nan values\n",
      "FeatureFamily.INVENTORIES.1 2798 Nan values\n",
      "FeatureFamily.INVENTORIES.2 2798 Nan values\n",
      "FeatureFamily.INVENTORIES.3 2798 Nan values\n",
      "FeatureFamily.INVENTORIES.4 2798 Nan values\n",
      "FeatureFamily.INVENTORIES.5 2798 Nan values\n",
      "FeatureFamily.SATELLITE 0 Nan values\n",
      "FeatureFamily.SATELLITE.1 0 Nan values\n",
      "FeatureFamily.SATELLITE.2 0 Nan values\n",
      "FeatureFamily.SATELLITE.3 0 Nan values\n",
      "FeatureFamily.SATELLITE.4 0 Nan values\n",
      "FeatureFamily.SATELLITE.5 0 Nan values\n",
      "FeatureFamily.SATELLITE.6 0 Nan values\n",
      "FeatureFamily.SATELLITE.7 0 Nan values\n",
      "FeatureFamily.SATELLITE.8 0 Nan values\n",
      "FeatureFamily.SATELLITE.9 0 Nan values\n",
      "FeatureFamily.SATELLITE.10 0 Nan values\n",
      "FeatureFamily.SEASONALITY 0 Nan values\n",
      "FeatureFamily.MACRO 2672 Nan values\n",
      "FeatureFamily.MACRO.1 2672 Nan values\n",
      "FeatureFamily.MACRO.2 2672 Nan values\n",
      "FeatureFamily.MACRO.3 2672 Nan values\n",
      "FeatureFamily.MACRO.4 2672 Nan values\n",
      "FeatureFamily.MACRO.5 2672 Nan values\n",
      "FeatureFamily.MACRO.6 2672 Nan values\n",
      "FeatureFamily.MACRO.7 2672 Nan values\n",
      "FeatureFamily.MACRO.8 2672 Nan values\n",
      "FeatureFamily.TECHNICAL 1 Nan values\n",
      "y 0 Nan values\n"
     ]
    }
   ],
   "source": [
    "## collect the features with more than 2000 instances\n",
    "ambudant_features = []\n",
    "amdudant_features_indexes = []\n",
    "index = 0\n",
    "for col_name in input_df.columns:\n",
    "    number = input_df[col_name].isnull().sum()\n",
    "    print(col_name + \" \" + str(number) + \" Nan values\")\n",
    "    if(number < 500):\n",
    "        ambudant_features.append(col_name)\n",
    "        amdudant_features_indexes.append(index)\n",
    "    index += 1"
   ]
  },
  {
   "cell_type": "code",
   "execution_count": 11,
   "metadata": {},
   "outputs": [
    {
     "data": {
      "text/plain": [
       "[0,\n",
       " 3,\n",
       " 4,\n",
       " 5,\n",
       " 6,\n",
       " 7,\n",
       " 8,\n",
       " 9,\n",
       " 10,\n",
       " 11,\n",
       " 12,\n",
       " 13,\n",
       " 14,\n",
       " 15,\n",
       " 16,\n",
       " 17,\n",
       " 34,\n",
       " 35,\n",
       " 36,\n",
       " 37,\n",
       " 38,\n",
       " 39,\n",
       " 40,\n",
       " 41,\n",
       " 42,\n",
       " 43,\n",
       " 44,\n",
       " 45,\n",
       " 55,\n",
       " 56]"
      ]
     },
     "execution_count": 11,
     "metadata": {},
     "output_type": "execute_result"
    }
   ],
   "source": [
    "amdudant_features_indexes"
   ]
  },
  {
   "cell_type": "code",
   "execution_count": 12,
   "metadata": {},
   "outputs": [
    {
     "data": {
      "text/plain": [
       "['date',\n",
       " 'FeatureFamily.CTA',\n",
       " 'FeatureFamily.CTA.1',\n",
       " 'FeatureFamily.CURVE',\n",
       " 'FeatureFamily.CURVE.1',\n",
       " 'FeatureFamily.CURVE.2',\n",
       " 'FeatureFamily.CURRENCY',\n",
       " 'FeatureFamily.CURRENCY.1',\n",
       " 'FeatureFamily.CURRENCY.2',\n",
       " 'FeatureFamily.CURRENCY.3',\n",
       " 'FeatureFamily.CURRENCY.4',\n",
       " 'FeatureFamily.CURRENCY.5',\n",
       " 'FeatureFamily.CURRENCY.6',\n",
       " 'FeatureFamily.CURRENCY.7',\n",
       " 'FeatureFamily.CURRENCY.8',\n",
       " 'FeatureFamily.CURRENCY.9',\n",
       " 'FeatureFamily.SATELLITE',\n",
       " 'FeatureFamily.SATELLITE.1',\n",
       " 'FeatureFamily.SATELLITE.2',\n",
       " 'FeatureFamily.SATELLITE.3',\n",
       " 'FeatureFamily.SATELLITE.4',\n",
       " 'FeatureFamily.SATELLITE.5',\n",
       " 'FeatureFamily.SATELLITE.6',\n",
       " 'FeatureFamily.SATELLITE.7',\n",
       " 'FeatureFamily.SATELLITE.8',\n",
       " 'FeatureFamily.SATELLITE.9',\n",
       " 'FeatureFamily.SATELLITE.10',\n",
       " 'FeatureFamily.SEASONALITY',\n",
       " 'FeatureFamily.TECHNICAL',\n",
       " 'y']"
      ]
     },
     "execution_count": 12,
     "metadata": {},
     "output_type": "execute_result"
    }
   ],
   "source": [
    "ambudant_features"
   ]
  },
  {
   "cell_type": "code",
   "execution_count": 13,
   "metadata": {},
   "outputs": [],
   "source": [
    "#input_df = input_df.dropna()"
   ]
  },
  {
   "cell_type": "code",
   "execution_count": 14,
   "metadata": {},
   "outputs": [],
   "source": [
    "input_df = input_df.dropna(subset=ambudant_features)"
   ]
  },
  {
   "cell_type": "code",
   "execution_count": 15,
   "metadata": {},
   "outputs": [],
   "source": [
    "def normalize(df):\n",
    "    result = df.copy()\n",
    "    for i,feature_name in enumerate(df.columns):\n",
    "        if(i!=0):\n",
    "            mean_value = df[feature_name].mean()\n",
    "            std = df[feature_name].std()\n",
    "            result[feature_name] = (df[feature_name] - mean_value) / (std)\n",
    "        return result"
   ]
  },
  {
   "cell_type": "code",
   "execution_count": 16,
   "metadata": {},
   "outputs": [],
   "source": [
    "input_df = normalize(input_df)"
   ]
  },
  {
   "cell_type": "code",
   "execution_count": 17,
   "metadata": {},
   "outputs": [
    {
     "data": {
      "text/plain": [
       "-0.00469882807311695"
      ]
     },
     "execution_count": 17,
     "metadata": {},
     "output_type": "execute_result"
    }
   ],
   "source": [
    "input_df['FeatureFamily.CURRENCY.5'].mean()"
   ]
  },
  {
   "cell_type": "code",
   "execution_count": 18,
   "metadata": {},
   "outputs": [
    {
     "data": {
      "text/html": [
       "<div>\n",
       "<style scoped>\n",
       "    .dataframe tbody tr th:only-of-type {\n",
       "        vertical-align: middle;\n",
       "    }\n",
       "\n",
       "    .dataframe tbody tr th {\n",
       "        vertical-align: top;\n",
       "    }\n",
       "\n",
       "    .dataframe thead th {\n",
       "        text-align: right;\n",
       "    }\n",
       "</style>\n",
       "<table border=\"1\" class=\"dataframe\">\n",
       "  <thead>\n",
       "    <tr style=\"text-align: right;\">\n",
       "      <th></th>\n",
       "      <th>date</th>\n",
       "      <th>FeatureFamily.COT</th>\n",
       "      <th>FeatureFamily.COT.1</th>\n",
       "      <th>FeatureFamily.CTA</th>\n",
       "      <th>FeatureFamily.CTA.1</th>\n",
       "      <th>FeatureFamily.CURVE</th>\n",
       "      <th>FeatureFamily.CURVE.1</th>\n",
       "      <th>FeatureFamily.CURVE.2</th>\n",
       "      <th>FeatureFamily.CURRENCY</th>\n",
       "      <th>FeatureFamily.CURRENCY.1</th>\n",
       "      <th>...</th>\n",
       "      <th>FeatureFamily.MACRO.1</th>\n",
       "      <th>FeatureFamily.MACRO.2</th>\n",
       "      <th>FeatureFamily.MACRO.3</th>\n",
       "      <th>FeatureFamily.MACRO.4</th>\n",
       "      <th>FeatureFamily.MACRO.5</th>\n",
       "      <th>FeatureFamily.MACRO.6</th>\n",
       "      <th>FeatureFamily.MACRO.7</th>\n",
       "      <th>FeatureFamily.MACRO.8</th>\n",
       "      <th>FeatureFamily.TECHNICAL</th>\n",
       "      <th>y</th>\n",
       "    </tr>\n",
       "  </thead>\n",
       "  <tbody>\n",
       "    <tr>\n",
       "      <th>352</th>\n",
       "      <td>2006-08-30 00:00:00</td>\n",
       "      <td>NaN</td>\n",
       "      <td>NaN</td>\n",
       "      <td>0.783177</td>\n",
       "      <td>0.062513</td>\n",
       "      <td>-0.647852</td>\n",
       "      <td>-5.115819</td>\n",
       "      <td>5.181058</td>\n",
       "      <td>-0.316221</td>\n",
       "      <td>-0.272158</td>\n",
       "      <td>...</td>\n",
       "      <td>NaN</td>\n",
       "      <td>NaN</td>\n",
       "      <td>NaN</td>\n",
       "      <td>NaN</td>\n",
       "      <td>NaN</td>\n",
       "      <td>NaN</td>\n",
       "      <td>NaN</td>\n",
       "      <td>NaN</td>\n",
       "      <td>-1.083741</td>\n",
       "      <td>0.044768</td>\n",
       "    </tr>\n",
       "    <tr>\n",
       "      <th>353</th>\n",
       "      <td>2006-08-31 00:00:00</td>\n",
       "      <td>NaN</td>\n",
       "      <td>NaN</td>\n",
       "      <td>0.810548</td>\n",
       "      <td>0.156671</td>\n",
       "      <td>-0.659636</td>\n",
       "      <td>-5.066796</td>\n",
       "      <td>5.193303</td>\n",
       "      <td>0.025616</td>\n",
       "      <td>-0.311132</td>\n",
       "      <td>...</td>\n",
       "      <td>NaN</td>\n",
       "      <td>NaN</td>\n",
       "      <td>NaN</td>\n",
       "      <td>NaN</td>\n",
       "      <td>NaN</td>\n",
       "      <td>NaN</td>\n",
       "      <td>NaN</td>\n",
       "      <td>NaN</td>\n",
       "      <td>-0.986369</td>\n",
       "      <td>0.027742</td>\n",
       "    </tr>\n",
       "    <tr>\n",
       "      <th>354</th>\n",
       "      <td>2006-09-01 00:00:00</td>\n",
       "      <td>NaN</td>\n",
       "      <td>NaN</td>\n",
       "      <td>0.816633</td>\n",
       "      <td>0.165796</td>\n",
       "      <td>-0.672428</td>\n",
       "      <td>-5.055683</td>\n",
       "      <td>5.40935</td>\n",
       "      <td>-0.224412</td>\n",
       "      <td>-0.447944</td>\n",
       "      <td>...</td>\n",
       "      <td>NaN</td>\n",
       "      <td>NaN</td>\n",
       "      <td>NaN</td>\n",
       "      <td>NaN</td>\n",
       "      <td>NaN</td>\n",
       "      <td>NaN</td>\n",
       "      <td>NaN</td>\n",
       "      <td>NaN</td>\n",
       "      <td>-1.045859</td>\n",
       "      <td>0.034136</td>\n",
       "    </tr>\n",
       "    <tr>\n",
       "      <th>355</th>\n",
       "      <td>2006-09-04 00:00:00</td>\n",
       "      <td>NaN</td>\n",
       "      <td>NaN</td>\n",
       "      <td>0.818147</td>\n",
       "      <td>0.161189</td>\n",
       "      <td>-0.686043</td>\n",
       "      <td>-5.063133</td>\n",
       "      <td>5.765975</td>\n",
       "      <td>-0.383604</td>\n",
       "      <td>-0.233346</td>\n",
       "      <td>...</td>\n",
       "      <td>NaN</td>\n",
       "      <td>NaN</td>\n",
       "      <td>NaN</td>\n",
       "      <td>NaN</td>\n",
       "      <td>NaN</td>\n",
       "      <td>NaN</td>\n",
       "      <td>NaN</td>\n",
       "      <td>NaN</td>\n",
       "      <td>-1.055632</td>\n",
       "      <td>-0.001535</td>\n",
       "    </tr>\n",
       "    <tr>\n",
       "      <th>356</th>\n",
       "      <td>2006-09-05 00:00:00</td>\n",
       "      <td>NaN</td>\n",
       "      <td>NaN</td>\n",
       "      <td>0.921575</td>\n",
       "      <td>0.424266</td>\n",
       "      <td>-0.699731</td>\n",
       "      <td>-5.016574</td>\n",
       "      <td>6.056988</td>\n",
       "      <td>-0.195961</td>\n",
       "      <td>-0.291979</td>\n",
       "      <td>...</td>\n",
       "      <td>NaN</td>\n",
       "      <td>NaN</td>\n",
       "      <td>NaN</td>\n",
       "      <td>NaN</td>\n",
       "      <td>NaN</td>\n",
       "      <td>NaN</td>\n",
       "      <td>NaN</td>\n",
       "      <td>NaN</td>\n",
       "      <td>-0.694914</td>\n",
       "      <td>-0.005060</td>\n",
       "    </tr>\n",
       "    <tr>\n",
       "      <th>...</th>\n",
       "      <td>...</td>\n",
       "      <td>...</td>\n",
       "      <td>...</td>\n",
       "      <td>...</td>\n",
       "      <td>...</td>\n",
       "      <td>...</td>\n",
       "      <td>...</td>\n",
       "      <td>...</td>\n",
       "      <td>...</td>\n",
       "      <td>...</td>\n",
       "      <td>...</td>\n",
       "      <td>...</td>\n",
       "      <td>...</td>\n",
       "      <td>...</td>\n",
       "      <td>...</td>\n",
       "      <td>...</td>\n",
       "      <td>...</td>\n",
       "      <td>...</td>\n",
       "      <td>...</td>\n",
       "      <td>...</td>\n",
       "      <td>...</td>\n",
       "    </tr>\n",
       "    <tr>\n",
       "      <th>4185</th>\n",
       "      <td>2021-05-10 00:00:00</td>\n",
       "      <td>-1.141022</td>\n",
       "      <td>0.999853</td>\n",
       "      <td>1.460542</td>\n",
       "      <td>1.330509</td>\n",
       "      <td>0.348604</td>\n",
       "      <td>1.987793</td>\n",
       "      <td>1.558843</td>\n",
       "      <td>-0.382762</td>\n",
       "      <td>-0.029803</td>\n",
       "      <td>...</td>\n",
       "      <td>0.062821</td>\n",
       "      <td>-1.59183</td>\n",
       "      <td>1.456286</td>\n",
       "      <td>0.674601</td>\n",
       "      <td>1.997921</td>\n",
       "      <td>1.389776</td>\n",
       "      <td>-0.869097</td>\n",
       "      <td>-0.252418</td>\n",
       "      <td>2.307379</td>\n",
       "      <td>-0.019463</td>\n",
       "    </tr>\n",
       "    <tr>\n",
       "      <th>4186</th>\n",
       "      <td>2021-05-11 00:00:00</td>\n",
       "      <td>-1.142959</td>\n",
       "      <td>0.984702</td>\n",
       "      <td>1.453966</td>\n",
       "      <td>1.333379</td>\n",
       "      <td>0.347817</td>\n",
       "      <td>1.995444</td>\n",
       "      <td>1.553612</td>\n",
       "      <td>-0.386787</td>\n",
       "      <td>-0.028482</td>\n",
       "      <td>...</td>\n",
       "      <td>0.196926</td>\n",
       "      <td>-1.409277</td>\n",
       "      <td>2.290697</td>\n",
       "      <td>1.169359</td>\n",
       "      <td>1.856215</td>\n",
       "      <td>1.089062</td>\n",
       "      <td>-0.535756</td>\n",
       "      <td>-0.067858</td>\n",
       "      <td>2.174891</td>\n",
       "      <td>-0.005795</td>\n",
       "    </tr>\n",
       "    <tr>\n",
       "      <th>4187</th>\n",
       "      <td>2021-05-12 00:00:00</td>\n",
       "      <td>-1.144863</td>\n",
       "      <td>0.969741</td>\n",
       "      <td>1.45781</td>\n",
       "      <td>1.355394</td>\n",
       "      <td>0.349703</td>\n",
       "      <td>2.003963</td>\n",
       "      <td>1.547617</td>\n",
       "      <td>-0.283898</td>\n",
       "      <td>-0.025516</td>\n",
       "      <td>...</td>\n",
       "      <td>0.081405</td>\n",
       "      <td>-0.87749</td>\n",
       "      <td>2.914608</td>\n",
       "      <td>2.21683</td>\n",
       "      <td>1.631053</td>\n",
       "      <td>1.161719</td>\n",
       "      <td>-0.730524</td>\n",
       "      <td>-0.267517</td>\n",
       "      <td>1.942721</td>\n",
       "      <td>0.000580</td>\n",
       "    </tr>\n",
       "    <tr>\n",
       "      <th>4188</th>\n",
       "      <td>2021-05-13 00:00:00</td>\n",
       "      <td>-1.146734</td>\n",
       "      <td>0.954968</td>\n",
       "      <td>1.468199</td>\n",
       "      <td>1.331541</td>\n",
       "      <td>0.353848</td>\n",
       "      <td>2.013286</td>\n",
       "      <td>1.543232</td>\n",
       "      <td>-0.276504</td>\n",
       "      <td>-0.024817</td>\n",
       "      <td>...</td>\n",
       "      <td>-0.351799</td>\n",
       "      <td>-1.050876</td>\n",
       "      <td>3.233204</td>\n",
       "      <td>1.888402</td>\n",
       "      <td>1.233569</td>\n",
       "      <td>1.492586</td>\n",
       "      <td>-0.742348</td>\n",
       "      <td>0.191163</td>\n",
       "      <td>1.769301</td>\n",
       "      <td>0.029313</td>\n",
       "    </tr>\n",
       "    <tr>\n",
       "      <th>4189</th>\n",
       "      <td>2021-05-14 00:00:00</td>\n",
       "      <td>-1.148573</td>\n",
       "      <td>0.931332</td>\n",
       "      <td>1.477694</td>\n",
       "      <td>1.294734</td>\n",
       "      <td>0.348594</td>\n",
       "      <td>2.018875</td>\n",
       "      <td>1.542131</td>\n",
       "      <td>-0.389677</td>\n",
       "      <td>0.322731</td>\n",
       "      <td>...</td>\n",
       "      <td>-1.651155</td>\n",
       "      <td>-0.593</td>\n",
       "      <td>4.153079</td>\n",
       "      <td>3.005452</td>\n",
       "      <td>0.099431</td>\n",
       "      <td>2.553193</td>\n",
       "      <td>-1.133884</td>\n",
       "      <td>0.925083</td>\n",
       "      <td>1.743767</td>\n",
       "      <td>0.009998</td>\n",
       "    </tr>\n",
       "  </tbody>\n",
       "</table>\n",
       "<p>3838 rows × 57 columns</p>\n",
       "</div>"
      ],
      "text/plain": [
       "                     date FeatureFamily.COT FeatureFamily.COT.1  \\\n",
       "352   2006-08-30 00:00:00               NaN                 NaN   \n",
       "353   2006-08-31 00:00:00               NaN                 NaN   \n",
       "354   2006-09-01 00:00:00               NaN                 NaN   \n",
       "355   2006-09-04 00:00:00               NaN                 NaN   \n",
       "356   2006-09-05 00:00:00               NaN                 NaN   \n",
       "...                   ...               ...                 ...   \n",
       "4185  2021-05-10 00:00:00         -1.141022            0.999853   \n",
       "4186  2021-05-11 00:00:00         -1.142959            0.984702   \n",
       "4187  2021-05-12 00:00:00         -1.144863            0.969741   \n",
       "4188  2021-05-13 00:00:00         -1.146734            0.954968   \n",
       "4189  2021-05-14 00:00:00         -1.148573            0.931332   \n",
       "\n",
       "     FeatureFamily.CTA FeatureFamily.CTA.1 FeatureFamily.CURVE  \\\n",
       "352           0.783177            0.062513           -0.647852   \n",
       "353           0.810548            0.156671           -0.659636   \n",
       "354           0.816633            0.165796           -0.672428   \n",
       "355           0.818147            0.161189           -0.686043   \n",
       "356           0.921575            0.424266           -0.699731   \n",
       "...                ...                 ...                 ...   \n",
       "4185          1.460542            1.330509            0.348604   \n",
       "4186          1.453966            1.333379            0.347817   \n",
       "4187           1.45781            1.355394            0.349703   \n",
       "4188          1.468199            1.331541            0.353848   \n",
       "4189          1.477694            1.294734            0.348594   \n",
       "\n",
       "     FeatureFamily.CURVE.1 FeatureFamily.CURVE.2 FeatureFamily.CURRENCY  \\\n",
       "352              -5.115819              5.181058              -0.316221   \n",
       "353              -5.066796              5.193303               0.025616   \n",
       "354              -5.055683               5.40935              -0.224412   \n",
       "355              -5.063133              5.765975              -0.383604   \n",
       "356              -5.016574              6.056988              -0.195961   \n",
       "...                    ...                   ...                    ...   \n",
       "4185              1.987793              1.558843              -0.382762   \n",
       "4186              1.995444              1.553612              -0.386787   \n",
       "4187              2.003963              1.547617              -0.283898   \n",
       "4188              2.013286              1.543232              -0.276504   \n",
       "4189              2.018875              1.542131              -0.389677   \n",
       "\n",
       "     FeatureFamily.CURRENCY.1  ... FeatureFamily.MACRO.1  \\\n",
       "352                 -0.272158  ...                   NaN   \n",
       "353                 -0.311132  ...                   NaN   \n",
       "354                 -0.447944  ...                   NaN   \n",
       "355                 -0.233346  ...                   NaN   \n",
       "356                 -0.291979  ...                   NaN   \n",
       "...                       ...  ...                   ...   \n",
       "4185                -0.029803  ...              0.062821   \n",
       "4186                -0.028482  ...              0.196926   \n",
       "4187                -0.025516  ...              0.081405   \n",
       "4188                -0.024817  ...             -0.351799   \n",
       "4189                 0.322731  ...             -1.651155   \n",
       "\n",
       "     FeatureFamily.MACRO.2 FeatureFamily.MACRO.3 FeatureFamily.MACRO.4  \\\n",
       "352                    NaN                   NaN                   NaN   \n",
       "353                    NaN                   NaN                   NaN   \n",
       "354                    NaN                   NaN                   NaN   \n",
       "355                    NaN                   NaN                   NaN   \n",
       "356                    NaN                   NaN                   NaN   \n",
       "...                    ...                   ...                   ...   \n",
       "4185              -1.59183              1.456286              0.674601   \n",
       "4186             -1.409277              2.290697              1.169359   \n",
       "4187              -0.87749              2.914608               2.21683   \n",
       "4188             -1.050876              3.233204              1.888402   \n",
       "4189                -0.593              4.153079              3.005452   \n",
       "\n",
       "     FeatureFamily.MACRO.5 FeatureFamily.MACRO.6 FeatureFamily.MACRO.7  \\\n",
       "352                    NaN                   NaN                   NaN   \n",
       "353                    NaN                   NaN                   NaN   \n",
       "354                    NaN                   NaN                   NaN   \n",
       "355                    NaN                   NaN                   NaN   \n",
       "356                    NaN                   NaN                   NaN   \n",
       "...                    ...                   ...                   ...   \n",
       "4185              1.997921              1.389776             -0.869097   \n",
       "4186              1.856215              1.089062             -0.535756   \n",
       "4187              1.631053              1.161719             -0.730524   \n",
       "4188              1.233569              1.492586             -0.742348   \n",
       "4189              0.099431              2.553193             -1.133884   \n",
       "\n",
       "     FeatureFamily.MACRO.8 FeatureFamily.TECHNICAL         y  \n",
       "352                    NaN               -1.083741  0.044768  \n",
       "353                    NaN               -0.986369  0.027742  \n",
       "354                    NaN               -1.045859  0.034136  \n",
       "355                    NaN               -1.055632 -0.001535  \n",
       "356                    NaN               -0.694914 -0.005060  \n",
       "...                    ...                     ...       ...  \n",
       "4185             -0.252418                2.307379 -0.019463  \n",
       "4186             -0.067858                2.174891 -0.005795  \n",
       "4187             -0.267517                1.942721  0.000580  \n",
       "4188              0.191163                1.769301  0.029313  \n",
       "4189              0.925083                1.743767  0.009998  \n",
       "\n",
       "[3838 rows x 57 columns]"
      ]
     },
     "execution_count": 18,
     "metadata": {},
     "output_type": "execute_result"
    }
   ],
   "source": [
    "input_df"
   ]
  },
  {
   "cell_type": "code",
   "execution_count": 19,
   "metadata": {},
   "outputs": [],
   "source": [
    "features = []\n",
    "for feature in ambudant_features:\n",
    "    features.append(input_df[feature].values)"
   ]
  },
  {
   "cell_type": "code",
   "execution_count": 20,
   "metadata": {},
   "outputs": [],
   "source": [
    "filtered_dates = np.array(features[0])\n",
    "filtered_targets = np.array(features[-1])"
   ]
  },
  {
   "cell_type": "code",
   "execution_count": 21,
   "metadata": {},
   "outputs": [],
   "source": [
    "features = features[1:-1]"
   ]
  },
  {
   "cell_type": "code",
   "execution_count": 22,
   "metadata": {},
   "outputs": [],
   "source": [
    "features = np.array(features).transpose()"
   ]
  },
  {
   "cell_type": "code",
   "execution_count": 23,
   "metadata": {},
   "outputs": [
    {
     "data": {
      "text/plain": [
       "(3838, 28)"
      ]
     },
     "execution_count": 23,
     "metadata": {},
     "output_type": "execute_result"
    }
   ],
   "source": [
    "features.shape"
   ]
  },
  {
   "cell_type": "code",
   "execution_count": 24,
   "metadata": {},
   "outputs": [
    {
     "data": {
      "image/png": "[encoded data removed]",
      "text/plain": [
       "<Figure size 432x288 with 1 Axes>"
      ]
     },
     "metadata": {
      "needs_background": "light"
     },
     "output_type": "display_data"
    },
    {
     "name": "stdout",
     "output_type": "stream",
     "text": [
      "\n"
     ]
    }
   ],
   "source": [
    "y = filtered_targets\n",
    "index = [i+1 for i in range(len(filtered_targets))]\n",
    "\n",
    "plt.plot(index, y ,label = \"y\")\n",
    "plt.xlabel('Dates')\n",
    "plt.ylabel('Y')\n",
    "plt.title('Y timeseries')\n",
    "plt.legend()\n",
    "plt.show()\n",
    "print()"
   ]
  },
  {
   "cell_type": "code",
   "execution_count": 25,
   "metadata": {},
   "outputs": [],
   "source": [
    "inp,lbl,dates = utils.split_timeseries(5,22-2,features,filtered_targets,filtered_dates)"
   ]
  },
  {
   "cell_type": "code",
   "execution_count": 26,
   "metadata": {},
   "outputs": [
    {
     "name": "stdout",
     "output_type": "stream",
     "text": [
      "(3813, 5, 28)\n",
      "(3813,)\n"
     ]
    }
   ],
   "source": [
    "print(inp.shape)\n",
    "print(lbl.shape)"
   ]
  },
  {
   "cell_type": "code",
   "execution_count": 27,
   "metadata": {},
   "outputs": [
    {
     "data": {
      "text/plain": [
       "\"joblib.dump(inp, '../Vectors/h_copper_vectors')\\njoblib.dump(lbl, '../Vectors/h_copper_labels')\\njoblib.dump(dates, '../Vectors/h_copper_dates')\""
      ]
     },
     "execution_count": 27,
     "metadata": {},
     "output_type": "execute_result"
    }
   ],
   "source": [
    "joblib.dump(inp, '../Vectors/h_aluminium_vectors')\n",
    "joblib.dump(lbl, '../Vectors/h_aluminium_labels')\n",
    "joblib.dump(dates, '../Vectors/h_aluminium_dates')\n",
    "\n",
    "'''joblib.dump(inp, '../Vectors/h_copper_vectors')\n",
    "joblib.dump(lbl, '../Vectors/h_copper_labels')\n",
    "joblib.dump(dates, '../Vectors/h_copper_dates')'''"
   ]
  },
  {
   "cell_type": "code",
   "execution_count": null,
   "metadata": {},
   "outputs": [],
   "source": []
  }
 ],
 "metadata": {
  "kernelspec": {
   "display_name": "Python 3",
   "language": "python",
   "name": "python3"
  },
  "language_info": {
   "codemirror_mode": {
    "name": "ipython",
    "version": 3
   },
   "file_extension": ".py",
   "mimetype": "text/x-python",
   "name": "python",
   "nbconvert_exporter": "python",
   "pygments_lexer": "ipython3",
   "version": "3.8.8"
  }
 },
 "nbformat": 4,
 "nbformat_minor": 4
}
