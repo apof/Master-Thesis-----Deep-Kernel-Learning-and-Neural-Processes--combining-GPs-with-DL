{
 "cells": [
  {
   "cell_type": "code",
   "execution_count": 1,
   "metadata": {},
   "outputs": [],
   "source": [
    "import pandas as pd\n",
    "import os\n",
    "import matplotlib.pyplot as plt\n",
    "import numpy as np\n",
    "\n",
    "from matplotlib import pyplot as plt\n",
    "import math\n",
    "from IPython.display import clear_output\n",
    "from sklearn.preprocessing import StandardScaler\n",
    "import time\n",
    "import datetime as dt\n",
    "import matplotlib.dates as mdates\n",
    "import seaborn as sns; sns.set()\n",
    "from sklearn.decomposition import PCA\n",
    "import joblib\n",
    "\n",
    "import xlrd\n",
    "import csv\n",
    "from pandas import ExcelWriter\n",
    "from pandas import ExcelFile\n",
    "\n",
    "\n",
    "import utils\n",
    "\n",
    "\n",
    "%matplotlib inline\n",
    "%load_ext autoreload\n",
    "%autoreload 2"
   ]
  },
  {
   "cell_type": "code",
   "execution_count": 2,
   "metadata": {},
   "outputs": [],
   "source": [
    "#METAL = 'A'\n",
    "METAL = 'C'"
   ]
  },
  {
   "cell_type": "code",
   "execution_count": 3,
   "metadata": {},
   "outputs": [],
   "source": [
    "if(METAL == 'A'):\n",
    "    input_data = './MSc Student Data 2021/data/v2/aluminium/aluminium_22_features.xlsx'\n",
    "    target_data = 'MSc Student Data 2021/data/v2/aluminium/aluminium_22_target_lagged_log_returns.csv'\n",
    "else:\n",
    "    input_data = './MSc Student Data 2021/data/v2/copper/copper_22_features.xlsx'\n",
    "    target_data = 'MSc Student Data 2021/data/v2/copper/copper_22_target_lagged_log_returns.csv'"
   ]
  },
  {
   "cell_type": "code",
   "execution_count": 4,
   "metadata": {},
   "outputs": [],
   "source": [
    "input_df = pd.read_excel(input_data)\n",
    "target_df = pd.read_csv(target_data)"
   ]
  },
  {
   "cell_type": "code",
   "execution_count": 5,
   "metadata": {},
   "outputs": [],
   "source": [
    "input_df = input_df.rename(columns = {'Unnamed: 0': 'date'}, inplace = False)"
   ]
  },
  {
   "cell_type": "code",
   "execution_count": 6,
   "metadata": {},
   "outputs": [],
   "source": [
    "input_df = input_df.iloc[3: , :]"
   ]
  },
  {
   "cell_type": "code",
   "execution_count": 7,
   "metadata": {},
   "outputs": [
    {
     "data": {
      "text/plain": [
       "(4187, 45)"
      ]
     },
     "execution_count": 7,
     "metadata": {},
     "output_type": "execute_result"
    }
   ],
   "source": [
    "input_df.shape"
   ]
  },
  {
   "cell_type": "code",
   "execution_count": 8,
   "metadata": {},
   "outputs": [
    {
     "data": {
      "text/plain": [
       "(4187, 2)"
      ]
     },
     "execution_count": 8,
     "metadata": {},
     "output_type": "execute_result"
    }
   ],
   "source": [
    "target_df.shape"
   ]
  },
  {
   "cell_type": "code",
   "execution_count": 9,
   "metadata": {},
   "outputs": [],
   "source": [
    "input_df['y'] = target_df['y'].values"
   ]
  },
  {
   "cell_type": "code",
   "execution_count": 10,
   "metadata": {},
   "outputs": [
    {
     "data": {
      "text/plain": [
       "Index(['date', 'FeatureFamily.COT', 'FeatureFamily.COT.1',\n",
       "       'FeatureFamily.COT.2', 'FeatureFamily.CTA', 'FeatureFamily.CTA.1',\n",
       "       'FeatureFamily.CURVE', 'FeatureFamily.CURVE.1', 'FeatureFamily.CURVE.2',\n",
       "       'FeatureFamily.CURRENCY', 'FeatureFamily.CURRENCY.1',\n",
       "       'FeatureFamily.CURRENCY.2', 'FeatureFamily.CURRENCY.3',\n",
       "       'FeatureFamily.CURRENCY.4', 'FeatureFamily.CURRENCY.5',\n",
       "       'FeatureFamily.FREIGHT', 'FeatureFamily.FREIGHT.1',\n",
       "       'FeatureFamily.FREIGHT.2', 'FeatureFamily.FREIGHT.3',\n",
       "       'FeatureFamily.FREIGHT.4', 'FeatureFamily.FREIGHT.5',\n",
       "       'FeatureFamily.FREIGHT.6', 'FeatureFamily.FREIGHT.7',\n",
       "       'FeatureFamily.FREIGHT.8', 'FeatureFamily.FREIGHT.9',\n",
       "       'FeatureFamily.INVENTORIES', 'FeatureFamily.INVENTORIES.1',\n",
       "       'FeatureFamily.INVENTORIES.2', 'FeatureFamily.INVENTORIES.3',\n",
       "       'FeatureFamily.INVENTORIES.4', 'FeatureFamily.INVENTORIES.5',\n",
       "       'FeatureFamily.SATELLITE', 'FeatureFamily.SATELLITE.1',\n",
       "       'FeatureFamily.SATELLITE.2', 'FeatureFamily.SEASONALITY',\n",
       "       'FeatureFamily.MACRO', 'FeatureFamily.MACRO.1', 'FeatureFamily.MACRO.2',\n",
       "       'FeatureFamily.MACRO.3', 'FeatureFamily.MACRO.4',\n",
       "       'FeatureFamily.MACRO.5', 'FeatureFamily.MACRO.6',\n",
       "       'FeatureFamily.MACRO.7', 'FeatureFamily.MACRO.8',\n",
       "       'FeatureFamily.TECHNICAL', 'y'],\n",
       "      dtype='object')"
      ]
     },
     "execution_count": 10,
     "metadata": {},
     "output_type": "execute_result"
    }
   ],
   "source": [
    "input_df.columns"
   ]
  },
  {
   "cell_type": "code",
   "execution_count": 11,
   "metadata": {},
   "outputs": [
    {
     "name": "stdout",
     "output_type": "stream",
     "text": [
      "date 0 Nan values\n",
      "FeatureFamily.COT 293 Nan values\n",
      "FeatureFamily.COT.1 3326 Nan values\n",
      "FeatureFamily.COT.2 293 Nan values\n",
      "FeatureFamily.CTA 63 Nan values\n",
      "FeatureFamily.CTA.1 32 Nan values\n",
      "FeatureFamily.CURVE 0 Nan values\n",
      "FeatureFamily.CURVE.1 348 Nan values\n",
      "FeatureFamily.CURVE.2 348 Nan values\n",
      "FeatureFamily.CURRENCY 349 Nan values\n",
      "FeatureFamily.CURRENCY.1 349 Nan values\n",
      "FeatureFamily.CURRENCY.2 349 Nan values\n",
      "FeatureFamily.CURRENCY.3 349 Nan values\n",
      "FeatureFamily.CURRENCY.4 349 Nan values\n",
      "FeatureFamily.CURRENCY.5 349 Nan values\n",
      "FeatureFamily.FREIGHT 2582 Nan values\n",
      "FeatureFamily.FREIGHT.1 2582 Nan values\n",
      "FeatureFamily.FREIGHT.2 2582 Nan values\n",
      "FeatureFamily.FREIGHT.3 2582 Nan values\n",
      "FeatureFamily.FREIGHT.4 2582 Nan values\n",
      "FeatureFamily.FREIGHT.5 2587 Nan values\n",
      "FeatureFamily.FREIGHT.6 2587 Nan values\n",
      "FeatureFamily.FREIGHT.7 2587 Nan values\n",
      "FeatureFamily.FREIGHT.8 2587 Nan values\n",
      "FeatureFamily.FREIGHT.9 2587 Nan values\n",
      "FeatureFamily.INVENTORIES 2789 Nan values\n",
      "FeatureFamily.INVENTORIES.1 2789 Nan values\n",
      "FeatureFamily.INVENTORIES.2 2789 Nan values\n",
      "FeatureFamily.INVENTORIES.3 2789 Nan values\n",
      "FeatureFamily.INVENTORIES.4 2789 Nan values\n",
      "FeatureFamily.INVENTORIES.5 2789 Nan values\n",
      "FeatureFamily.SATELLITE 0 Nan values\n",
      "FeatureFamily.SATELLITE.1 0 Nan values\n",
      "FeatureFamily.SATELLITE.2 0 Nan values\n",
      "FeatureFamily.SEASONALITY 0 Nan values\n",
      "FeatureFamily.MACRO 2672 Nan values\n",
      "FeatureFamily.MACRO.1 2672 Nan values\n",
      "FeatureFamily.MACRO.2 2672 Nan values\n",
      "FeatureFamily.MACRO.3 2672 Nan values\n",
      "FeatureFamily.MACRO.4 2672 Nan values\n",
      "FeatureFamily.MACRO.5 2672 Nan values\n",
      "FeatureFamily.MACRO.6 2672 Nan values\n",
      "FeatureFamily.MACRO.7 2672 Nan values\n",
      "FeatureFamily.MACRO.8 2672 Nan values\n",
      "FeatureFamily.TECHNICAL 1 Nan values\n",
      "y 0 Nan values\n"
     ]
    }
   ],
   "source": [
    "## collect the features with more than 2000 instances\n",
    "ambudant_features = []\n",
    "amdudant_features_indexes = []\n",
    "new_features = []\n",
    "index = 0\n",
    "for col_name in input_df.columns:\n",
    "    number = input_df[col_name].isnull().sum()\n",
    "    print(col_name + \" \" + str(number) + \" Nan values\")\n",
    "    if(number < 500):\n",
    "        ambudant_features.append(col_name)\n",
    "        amdudant_features_indexes.append(index)\n",
    "    if(number > 1500):\n",
    "        new_features.append(col_name)\n",
    "    index += 1"
   ]
  },
  {
   "cell_type": "code",
   "execution_count": 12,
   "metadata": {},
   "outputs": [
    {
     "name": "stdout",
     "output_type": "stream",
     "text": [
      "['date', 'FeatureFamily.COT', 'FeatureFamily.COT.2', 'FeatureFamily.CTA', 'FeatureFamily.CTA.1', 'FeatureFamily.CURVE', 'FeatureFamily.CURVE.1', 'FeatureFamily.CURVE.2', 'FeatureFamily.CURRENCY', 'FeatureFamily.CURRENCY.1', 'FeatureFamily.CURRENCY.2', 'FeatureFamily.CURRENCY.3', 'FeatureFamily.CURRENCY.4', 'FeatureFamily.CURRENCY.5', 'FeatureFamily.SATELLITE', 'FeatureFamily.SATELLITE.1', 'FeatureFamily.SATELLITE.2', 'FeatureFamily.SEASONALITY', 'FeatureFamily.TECHNICAL', 'y']\n",
      "['FeatureFamily.COT.1', 'FeatureFamily.FREIGHT', 'FeatureFamily.FREIGHT.1', 'FeatureFamily.FREIGHT.2', 'FeatureFamily.FREIGHT.3', 'FeatureFamily.FREIGHT.4', 'FeatureFamily.FREIGHT.5', 'FeatureFamily.FREIGHT.6', 'FeatureFamily.FREIGHT.7', 'FeatureFamily.FREIGHT.8', 'FeatureFamily.FREIGHT.9', 'FeatureFamily.INVENTORIES', 'FeatureFamily.INVENTORIES.1', 'FeatureFamily.INVENTORIES.2', 'FeatureFamily.INVENTORIES.3', 'FeatureFamily.INVENTORIES.4', 'FeatureFamily.INVENTORIES.5', 'FeatureFamily.MACRO', 'FeatureFamily.MACRO.1', 'FeatureFamily.MACRO.2', 'FeatureFamily.MACRO.3', 'FeatureFamily.MACRO.4', 'FeatureFamily.MACRO.5', 'FeatureFamily.MACRO.6', 'FeatureFamily.MACRO.7', 'FeatureFamily.MACRO.8']\n",
      "46\n",
      "46\n"
     ]
    }
   ],
   "source": [
    "print(ambudant_features)\n",
    "print(new_features)\n",
    "print(len(new_features) + len(ambudant_features))\n",
    "print(len(input_df.columns))"
   ]
  },
  {
   "cell_type": "code",
   "execution_count": 13,
   "metadata": {},
   "outputs": [],
   "source": [
    "historical_features_df = input_df.dropna(subset=ambudant_features)"
   ]
  },
  {
   "cell_type": "code",
   "execution_count": 14,
   "metadata": {},
   "outputs": [],
   "source": [
    "full_features_df = input_df.dropna(subset=ambudant_features + new_features)"
   ]
  },
  {
   "cell_type": "code",
   "execution_count": 15,
   "metadata": {},
   "outputs": [],
   "source": [
    "historical_filtered_dates = historical_features_df['date'].values\n",
    "full_filtered_dates = full_features_df['date'].values"
   ]
  },
  {
   "cell_type": "code",
   "execution_count": 16,
   "metadata": {},
   "outputs": [
    {
     "name": "stdout",
     "output_type": "stream",
     "text": [
      "[datetime.datetime(2006, 8, 30, 0, 0) datetime.datetime(2006, 8, 31, 0, 0)\n",
      " datetime.datetime(2006, 9, 1, 0, 0) ...\n",
      " datetime.datetime(2021, 5, 12, 0, 0) datetime.datetime(2021, 5, 13, 0, 0)\n",
      " datetime.datetime(2021, 5, 14, 0, 0)]\n",
      "3838\n"
     ]
    }
   ],
   "source": [
    "print(historical_filtered_dates)\n",
    "print(len(historical_filtered_dates))"
   ]
  },
  {
   "cell_type": "code",
   "execution_count": 17,
   "metadata": {},
   "outputs": [
    {
     "name": "stdout",
     "output_type": "stream",
     "text": [
      "[datetime.datetime(2018, 1, 26, 0, 0) datetime.datetime(2018, 1, 29, 0, 0)\n",
      " datetime.datetime(2018, 1, 30, 0, 0) datetime.datetime(2018, 1, 31, 0, 0)\n",
      " datetime.datetime(2018, 2, 1, 0, 0) datetime.datetime(2018, 2, 2, 0, 0)\n",
      " datetime.datetime(2018, 2, 5, 0, 0) datetime.datetime(2018, 2, 6, 0, 0)\n",
      " datetime.datetime(2018, 2, 7, 0, 0) datetime.datetime(2018, 2, 8, 0, 0)\n",
      " datetime.datetime(2018, 2, 9, 0, 0) datetime.datetime(2018, 2, 12, 0, 0)\n",
      " datetime.datetime(2018, 2, 13, 0, 0) datetime.datetime(2018, 2, 14, 0, 0)\n",
      " datetime.datetime(2018, 2, 15, 0, 0) datetime.datetime(2018, 2, 16, 0, 0)\n",
      " datetime.datetime(2018, 2, 19, 0, 0) datetime.datetime(2018, 2, 20, 0, 0)\n",
      " datetime.datetime(2018, 2, 21, 0, 0) datetime.datetime(2018, 2, 22, 0, 0)\n",
      " datetime.datetime(2018, 2, 23, 0, 0) datetime.datetime(2018, 2, 26, 0, 0)\n",
      " datetime.datetime(2018, 2, 27, 0, 0) datetime.datetime(2018, 2, 28, 0, 0)\n",
      " datetime.datetime(2018, 3, 1, 0, 0) datetime.datetime(2018, 3, 2, 0, 0)\n",
      " datetime.datetime(2018, 3, 5, 0, 0) datetime.datetime(2018, 3, 6, 0, 0)\n",
      " datetime.datetime(2018, 3, 7, 0, 0) datetime.datetime(2018, 3, 8, 0, 0)\n",
      " datetime.datetime(2018, 3, 9, 0, 0) datetime.datetime(2018, 3, 12, 0, 0)\n",
      " datetime.datetime(2018, 3, 13, 0, 0) datetime.datetime(2018, 3, 14, 0, 0)\n",
      " datetime.datetime(2018, 3, 15, 0, 0) datetime.datetime(2018, 3, 16, 0, 0)\n",
      " datetime.datetime(2018, 3, 19, 0, 0) datetime.datetime(2018, 3, 20, 0, 0)\n",
      " datetime.datetime(2018, 3, 21, 0, 0) datetime.datetime(2018, 3, 22, 0, 0)\n",
      " datetime.datetime(2018, 3, 23, 0, 0) datetime.datetime(2018, 3, 26, 0, 0)\n",
      " datetime.datetime(2018, 3, 27, 0, 0) datetime.datetime(2018, 3, 28, 0, 0)\n",
      " datetime.datetime(2018, 3, 29, 0, 0) datetime.datetime(2018, 3, 30, 0, 0)\n",
      " datetime.datetime(2018, 4, 2, 0, 0) datetime.datetime(2018, 4, 3, 0, 0)\n",
      " datetime.datetime(2018, 4, 4, 0, 0) datetime.datetime(2018, 4, 5, 0, 0)\n",
      " datetime.datetime(2018, 4, 6, 0, 0) datetime.datetime(2018, 4, 9, 0, 0)\n",
      " datetime.datetime(2018, 4, 10, 0, 0) datetime.datetime(2018, 4, 11, 0, 0)\n",
      " datetime.datetime(2018, 4, 12, 0, 0) datetime.datetime(2018, 4, 13, 0, 0)\n",
      " datetime.datetime(2018, 4, 16, 0, 0) datetime.datetime(2018, 4, 17, 0, 0)\n",
      " datetime.datetime(2018, 4, 18, 0, 0) datetime.datetime(2018, 4, 19, 0, 0)\n",
      " datetime.datetime(2018, 4, 20, 0, 0) datetime.datetime(2018, 4, 23, 0, 0)\n",
      " datetime.datetime(2018, 4, 24, 0, 0) datetime.datetime(2018, 4, 25, 0, 0)\n",
      " datetime.datetime(2018, 4, 26, 0, 0) datetime.datetime(2018, 4, 27, 0, 0)\n",
      " datetime.datetime(2018, 4, 30, 0, 0) datetime.datetime(2018, 5, 1, 0, 0)\n",
      " datetime.datetime(2018, 5, 2, 0, 0) datetime.datetime(2018, 5, 3, 0, 0)\n",
      " datetime.datetime(2018, 5, 4, 0, 0) datetime.datetime(2018, 5, 7, 0, 0)\n",
      " datetime.datetime(2018, 5, 8, 0, 0) datetime.datetime(2018, 5, 9, 0, 0)\n",
      " datetime.datetime(2018, 5, 10, 0, 0) datetime.datetime(2018, 5, 11, 0, 0)\n",
      " datetime.datetime(2018, 5, 14, 0, 0) datetime.datetime(2018, 5, 15, 0, 0)\n",
      " datetime.datetime(2018, 5, 16, 0, 0) datetime.datetime(2018, 5, 17, 0, 0)\n",
      " datetime.datetime(2018, 5, 18, 0, 0) datetime.datetime(2018, 5, 21, 0, 0)\n",
      " datetime.datetime(2018, 5, 22, 0, 0) datetime.datetime(2018, 5, 23, 0, 0)\n",
      " datetime.datetime(2018, 5, 24, 0, 0) datetime.datetime(2018, 5, 25, 0, 0)\n",
      " datetime.datetime(2018, 5, 28, 0, 0) datetime.datetime(2018, 5, 29, 0, 0)\n",
      " datetime.datetime(2018, 5, 30, 0, 0) datetime.datetime(2018, 5, 31, 0, 0)\n",
      " datetime.datetime(2018, 6, 1, 0, 0) datetime.datetime(2018, 6, 4, 0, 0)\n",
      " datetime.datetime(2018, 6, 5, 0, 0) datetime.datetime(2018, 6, 6, 0, 0)\n",
      " datetime.datetime(2018, 6, 7, 0, 0) datetime.datetime(2018, 6, 8, 0, 0)\n",
      " datetime.datetime(2018, 6, 11, 0, 0) datetime.datetime(2018, 6, 12, 0, 0)\n",
      " datetime.datetime(2018, 6, 13, 0, 0) datetime.datetime(2018, 6, 14, 0, 0)\n",
      " datetime.datetime(2018, 6, 15, 0, 0) datetime.datetime(2018, 6, 18, 0, 0)\n",
      " datetime.datetime(2018, 6, 19, 0, 0) datetime.datetime(2018, 6, 20, 0, 0)\n",
      " datetime.datetime(2018, 6, 21, 0, 0) datetime.datetime(2018, 6, 22, 0, 0)\n",
      " datetime.datetime(2018, 6, 25, 0, 0) datetime.datetime(2018, 6, 26, 0, 0)\n",
      " datetime.datetime(2018, 6, 27, 0, 0) datetime.datetime(2018, 6, 28, 0, 0)\n",
      " datetime.datetime(2018, 6, 29, 0, 0) datetime.datetime(2018, 7, 2, 0, 0)\n",
      " datetime.datetime(2018, 7, 3, 0, 0) datetime.datetime(2018, 7, 4, 0, 0)\n",
      " datetime.datetime(2018, 7, 5, 0, 0) datetime.datetime(2018, 7, 6, 0, 0)\n",
      " datetime.datetime(2018, 7, 9, 0, 0) datetime.datetime(2018, 7, 10, 0, 0)\n",
      " datetime.datetime(2018, 7, 11, 0, 0) datetime.datetime(2018, 7, 12, 0, 0)\n",
      " datetime.datetime(2018, 7, 13, 0, 0) datetime.datetime(2018, 7, 16, 0, 0)\n",
      " datetime.datetime(2018, 7, 17, 0, 0) datetime.datetime(2018, 7, 18, 0, 0)\n",
      " datetime.datetime(2018, 7, 19, 0, 0) datetime.datetime(2018, 7, 20, 0, 0)\n",
      " datetime.datetime(2018, 7, 23, 0, 0) datetime.datetime(2018, 7, 24, 0, 0)\n",
      " datetime.datetime(2018, 7, 25, 0, 0) datetime.datetime(2018, 7, 26, 0, 0)\n",
      " datetime.datetime(2018, 7, 27, 0, 0) datetime.datetime(2018, 7, 30, 0, 0)\n",
      " datetime.datetime(2018, 7, 31, 0, 0) datetime.datetime(2018, 8, 1, 0, 0)\n",
      " datetime.datetime(2018, 8, 2, 0, 0) datetime.datetime(2018, 8, 3, 0, 0)\n",
      " datetime.datetime(2018, 8, 6, 0, 0) datetime.datetime(2018, 8, 7, 0, 0)\n",
      " datetime.datetime(2018, 8, 8, 0, 0) datetime.datetime(2018, 8, 9, 0, 0)\n",
      " datetime.datetime(2018, 8, 10, 0, 0) datetime.datetime(2018, 8, 13, 0, 0)\n",
      " datetime.datetime(2018, 8, 14, 0, 0) datetime.datetime(2018, 8, 15, 0, 0)\n",
      " datetime.datetime(2018, 8, 16, 0, 0) datetime.datetime(2018, 8, 17, 0, 0)\n",
      " datetime.datetime(2018, 8, 20, 0, 0) datetime.datetime(2018, 8, 21, 0, 0)\n",
      " datetime.datetime(2018, 8, 22, 0, 0) datetime.datetime(2018, 8, 23, 0, 0)\n",
      " datetime.datetime(2018, 8, 24, 0, 0) datetime.datetime(2018, 8, 27, 0, 0)\n",
      " datetime.datetime(2018, 8, 28, 0, 0) datetime.datetime(2018, 8, 29, 0, 0)\n",
      " datetime.datetime(2018, 8, 30, 0, 0) datetime.datetime(2018, 8, 31, 0, 0)\n",
      " datetime.datetime(2018, 9, 3, 0, 0) datetime.datetime(2018, 9, 4, 0, 0)\n",
      " datetime.datetime(2018, 9, 5, 0, 0) datetime.datetime(2018, 9, 6, 0, 0)\n",
      " datetime.datetime(2018, 9, 7, 0, 0) datetime.datetime(2018, 9, 10, 0, 0)\n",
      " datetime.datetime(2018, 9, 11, 0, 0) datetime.datetime(2018, 9, 12, 0, 0)\n",
      " datetime.datetime(2018, 9, 13, 0, 0) datetime.datetime(2018, 9, 14, 0, 0)\n",
      " datetime.datetime(2018, 9, 17, 0, 0) datetime.datetime(2018, 9, 18, 0, 0)\n",
      " datetime.datetime(2018, 9, 19, 0, 0) datetime.datetime(2018, 9, 20, 0, 0)\n",
      " datetime.datetime(2018, 9, 21, 0, 0) datetime.datetime(2018, 9, 24, 0, 0)\n",
      " datetime.datetime(2018, 9, 25, 0, 0) datetime.datetime(2018, 9, 26, 0, 0)\n",
      " datetime.datetime(2018, 9, 27, 0, 0) datetime.datetime(2018, 9, 28, 0, 0)\n",
      " datetime.datetime(2018, 10, 1, 0, 0) datetime.datetime(2018, 10, 2, 0, 0)\n",
      " datetime.datetime(2018, 10, 3, 0, 0) datetime.datetime(2018, 10, 4, 0, 0)\n",
      " datetime.datetime(2018, 10, 5, 0, 0) datetime.datetime(2018, 10, 8, 0, 0)\n",
      " datetime.datetime(2018, 10, 9, 0, 0)\n",
      " datetime.datetime(2018, 10, 10, 0, 0)\n",
      " datetime.datetime(2018, 10, 11, 0, 0)\n",
      " datetime.datetime(2018, 10, 12, 0, 0)\n",
      " datetime.datetime(2018, 10, 15, 0, 0)\n",
      " datetime.datetime(2018, 10, 16, 0, 0)\n",
      " datetime.datetime(2018, 10, 17, 0, 0)\n",
      " datetime.datetime(2018, 10, 18, 0, 0)\n",
      " datetime.datetime(2018, 10, 19, 0, 0)\n",
      " datetime.datetime(2018, 10, 22, 0, 0)\n",
      " datetime.datetime(2018, 10, 23, 0, 0)\n",
      " datetime.datetime(2018, 10, 24, 0, 0)\n",
      " datetime.datetime(2018, 10, 25, 0, 0)\n",
      " datetime.datetime(2018, 10, 26, 0, 0)\n",
      " datetime.datetime(2018, 10, 29, 0, 0)\n",
      " datetime.datetime(2018, 10, 30, 0, 0)\n",
      " datetime.datetime(2018, 10, 31, 0, 0)\n",
      " datetime.datetime(2018, 11, 1, 0, 0) datetime.datetime(2018, 11, 2, 0, 0)\n",
      " datetime.datetime(2018, 11, 5, 0, 0) datetime.datetime(2018, 11, 6, 0, 0)\n",
      " datetime.datetime(2018, 11, 7, 0, 0) datetime.datetime(2018, 11, 8, 0, 0)\n",
      " datetime.datetime(2018, 11, 9, 0, 0)\n",
      " datetime.datetime(2018, 11, 12, 0, 0)\n",
      " datetime.datetime(2018, 11, 13, 0, 0)\n",
      " datetime.datetime(2018, 11, 14, 0, 0)\n",
      " datetime.datetime(2018, 11, 15, 0, 0)\n",
      " datetime.datetime(2018, 11, 16, 0, 0)\n",
      " datetime.datetime(2018, 11, 19, 0, 0)\n",
      " datetime.datetime(2018, 11, 20, 0, 0)\n",
      " datetime.datetime(2018, 11, 21, 0, 0)\n",
      " datetime.datetime(2018, 11, 22, 0, 0)\n",
      " datetime.datetime(2018, 11, 23, 0, 0)\n",
      " datetime.datetime(2018, 11, 26, 0, 0)\n",
      " datetime.datetime(2018, 11, 27, 0, 0)\n",
      " datetime.datetime(2018, 11, 28, 0, 0)\n",
      " datetime.datetime(2018, 11, 29, 0, 0)\n",
      " datetime.datetime(2018, 11, 30, 0, 0)\n",
      " datetime.datetime(2018, 12, 3, 0, 0) datetime.datetime(2018, 12, 4, 0, 0)\n",
      " datetime.datetime(2018, 12, 5, 0, 0) datetime.datetime(2018, 12, 6, 0, 0)\n",
      " datetime.datetime(2018, 12, 7, 0, 0)\n",
      " datetime.datetime(2018, 12, 10, 0, 0)\n",
      " datetime.datetime(2018, 12, 11, 0, 0)\n",
      " datetime.datetime(2018, 12, 12, 0, 0)\n",
      " datetime.datetime(2018, 12, 13, 0, 0)\n",
      " datetime.datetime(2018, 12, 14, 0, 0)\n",
      " datetime.datetime(2018, 12, 17, 0, 0)\n",
      " datetime.datetime(2018, 12, 18, 0, 0)\n",
      " datetime.datetime(2018, 12, 19, 0, 0)\n",
      " datetime.datetime(2018, 12, 20, 0, 0)\n",
      " datetime.datetime(2018, 12, 21, 0, 0)\n",
      " datetime.datetime(2018, 12, 24, 0, 0)\n",
      " datetime.datetime(2018, 12, 25, 0, 0)\n",
      " datetime.datetime(2018, 12, 26, 0, 0)\n",
      " datetime.datetime(2018, 12, 27, 0, 0)\n",
      " datetime.datetime(2018, 12, 28, 0, 0)\n",
      " datetime.datetime(2018, 12, 31, 0, 0) datetime.datetime(2019, 1, 1, 0, 0)\n",
      " datetime.datetime(2019, 1, 2, 0, 0) datetime.datetime(2019, 1, 3, 0, 0)\n",
      " datetime.datetime(2019, 1, 4, 0, 0) datetime.datetime(2019, 1, 7, 0, 0)\n",
      " datetime.datetime(2019, 1, 8, 0, 0) datetime.datetime(2019, 1, 9, 0, 0)\n",
      " datetime.datetime(2019, 1, 10, 0, 0) datetime.datetime(2019, 1, 11, 0, 0)\n",
      " datetime.datetime(2019, 1, 14, 0, 0) datetime.datetime(2019, 1, 15, 0, 0)\n",
      " datetime.datetime(2019, 1, 16, 0, 0) datetime.datetime(2019, 1, 17, 0, 0)\n",
      " datetime.datetime(2019, 1, 18, 0, 0) datetime.datetime(2019, 1, 21, 0, 0)\n",
      " datetime.datetime(2019, 1, 22, 0, 0) datetime.datetime(2019, 1, 23, 0, 0)\n",
      " datetime.datetime(2019, 1, 24, 0, 0) datetime.datetime(2019, 1, 25, 0, 0)\n",
      " datetime.datetime(2019, 1, 28, 0, 0) datetime.datetime(2019, 1, 29, 0, 0)\n",
      " datetime.datetime(2019, 1, 30, 0, 0) datetime.datetime(2019, 1, 31, 0, 0)\n",
      " datetime.datetime(2019, 2, 1, 0, 0) datetime.datetime(2019, 2, 4, 0, 0)\n",
      " datetime.datetime(2019, 2, 5, 0, 0) datetime.datetime(2019, 2, 6, 0, 0)\n",
      " datetime.datetime(2019, 2, 7, 0, 0) datetime.datetime(2019, 2, 8, 0, 0)\n",
      " datetime.datetime(2019, 2, 11, 0, 0) datetime.datetime(2019, 2, 12, 0, 0)\n",
      " datetime.datetime(2019, 2, 13, 0, 0) datetime.datetime(2019, 2, 14, 0, 0)\n",
      " datetime.datetime(2019, 2, 15, 0, 0) datetime.datetime(2019, 2, 18, 0, 0)\n",
      " datetime.datetime(2019, 2, 19, 0, 0) datetime.datetime(2019, 2, 20, 0, 0)\n",
      " datetime.datetime(2019, 2, 21, 0, 0) datetime.datetime(2019, 2, 22, 0, 0)\n",
      " datetime.datetime(2019, 2, 25, 0, 0) datetime.datetime(2019, 2, 26, 0, 0)\n",
      " datetime.datetime(2019, 2, 27, 0, 0) datetime.datetime(2019, 2, 28, 0, 0)\n",
      " datetime.datetime(2019, 3, 1, 0, 0) datetime.datetime(2019, 3, 4, 0, 0)\n",
      " datetime.datetime(2019, 3, 5, 0, 0) datetime.datetime(2019, 3, 6, 0, 0)\n",
      " datetime.datetime(2019, 3, 7, 0, 0) datetime.datetime(2019, 3, 8, 0, 0)\n",
      " datetime.datetime(2019, 3, 11, 0, 0) datetime.datetime(2019, 3, 12, 0, 0)\n",
      " datetime.datetime(2019, 3, 13, 0, 0) datetime.datetime(2019, 3, 14, 0, 0)\n",
      " datetime.datetime(2019, 3, 15, 0, 0) datetime.datetime(2019, 3, 18, 0, 0)\n",
      " datetime.datetime(2019, 3, 19, 0, 0) datetime.datetime(2019, 3, 20, 0, 0)\n",
      " datetime.datetime(2019, 3, 21, 0, 0) datetime.datetime(2019, 3, 22, 0, 0)\n",
      " datetime.datetime(2019, 3, 25, 0, 0) datetime.datetime(2019, 3, 26, 0, 0)\n",
      " datetime.datetime(2019, 3, 27, 0, 0) datetime.datetime(2019, 3, 28, 0, 0)\n",
      " datetime.datetime(2019, 3, 29, 0, 0) datetime.datetime(2019, 4, 1, 0, 0)\n",
      " datetime.datetime(2019, 4, 2, 0, 0) datetime.datetime(2019, 4, 3, 0, 0)\n",
      " datetime.datetime(2019, 4, 4, 0, 0) datetime.datetime(2019, 4, 5, 0, 0)\n",
      " datetime.datetime(2019, 4, 8, 0, 0) datetime.datetime(2019, 4, 9, 0, 0)\n",
      " datetime.datetime(2019, 4, 10, 0, 0) datetime.datetime(2019, 4, 11, 0, 0)\n",
      " datetime.datetime(2019, 4, 12, 0, 0) datetime.datetime(2019, 4, 15, 0, 0)\n",
      " datetime.datetime(2019, 4, 16, 0, 0) datetime.datetime(2019, 4, 17, 0, 0)\n",
      " datetime.datetime(2019, 4, 18, 0, 0) datetime.datetime(2019, 4, 19, 0, 0)\n",
      " datetime.datetime(2019, 4, 22, 0, 0) datetime.datetime(2019, 4, 23, 0, 0)\n",
      " datetime.datetime(2019, 4, 24, 0, 0) datetime.datetime(2019, 4, 25, 0, 0)\n",
      " datetime.datetime(2019, 4, 26, 0, 0) datetime.datetime(2019, 4, 29, 0, 0)\n",
      " datetime.datetime(2019, 4, 30, 0, 0) datetime.datetime(2019, 5, 1, 0, 0)\n",
      " datetime.datetime(2019, 5, 2, 0, 0) datetime.datetime(2019, 5, 3, 0, 0)\n",
      " datetime.datetime(2019, 5, 6, 0, 0) datetime.datetime(2019, 5, 7, 0, 0)\n",
      " datetime.datetime(2019, 5, 8, 0, 0) datetime.datetime(2019, 5, 9, 0, 0)\n",
      " datetime.datetime(2019, 5, 10, 0, 0) datetime.datetime(2019, 5, 13, 0, 0)\n",
      " datetime.datetime(2019, 5, 14, 0, 0) datetime.datetime(2019, 5, 15, 0, 0)\n",
      " datetime.datetime(2019, 5, 16, 0, 0) datetime.datetime(2019, 5, 17, 0, 0)\n",
      " datetime.datetime(2019, 5, 20, 0, 0) datetime.datetime(2019, 5, 21, 0, 0)\n",
      " datetime.datetime(2019, 5, 22, 0, 0) datetime.datetime(2019, 5, 23, 0, 0)\n",
      " datetime.datetime(2019, 5, 24, 0, 0) datetime.datetime(2019, 5, 27, 0, 0)\n",
      " datetime.datetime(2019, 5, 28, 0, 0) datetime.datetime(2019, 5, 29, 0, 0)\n",
      " datetime.datetime(2019, 5, 30, 0, 0) datetime.datetime(2019, 5, 31, 0, 0)\n",
      " datetime.datetime(2019, 6, 3, 0, 0) datetime.datetime(2019, 6, 4, 0, 0)\n",
      " datetime.datetime(2019, 6, 5, 0, 0) datetime.datetime(2019, 6, 6, 0, 0)\n",
      " datetime.datetime(2019, 6, 7, 0, 0) datetime.datetime(2019, 6, 10, 0, 0)\n",
      " datetime.datetime(2019, 6, 11, 0, 0) datetime.datetime(2019, 6, 12, 0, 0)\n",
      " datetime.datetime(2019, 6, 13, 0, 0) datetime.datetime(2019, 6, 14, 0, 0)\n",
      " datetime.datetime(2019, 6, 17, 0, 0) datetime.datetime(2019, 6, 18, 0, 0)\n",
      " datetime.datetime(2019, 6, 19, 0, 0) datetime.datetime(2019, 6, 20, 0, 0)\n",
      " datetime.datetime(2019, 6, 21, 0, 0) datetime.datetime(2019, 6, 24, 0, 0)\n",
      " datetime.datetime(2019, 6, 25, 0, 0) datetime.datetime(2019, 6, 26, 0, 0)\n",
      " datetime.datetime(2019, 6, 27, 0, 0) datetime.datetime(2019, 6, 28, 0, 0)\n",
      " datetime.datetime(2019, 7, 1, 0, 0) datetime.datetime(2019, 7, 2, 0, 0)\n",
      " datetime.datetime(2019, 7, 3, 0, 0) datetime.datetime(2019, 7, 4, 0, 0)\n",
      " datetime.datetime(2019, 7, 5, 0, 0) datetime.datetime(2019, 7, 8, 0, 0)\n",
      " datetime.datetime(2019, 7, 9, 0, 0) datetime.datetime(2019, 7, 10, 0, 0)\n",
      " datetime.datetime(2019, 7, 11, 0, 0) datetime.datetime(2019, 7, 12, 0, 0)\n",
      " datetime.datetime(2019, 7, 15, 0, 0) datetime.datetime(2019, 7, 16, 0, 0)\n",
      " datetime.datetime(2019, 7, 17, 0, 0) datetime.datetime(2019, 7, 18, 0, 0)\n",
      " datetime.datetime(2019, 7, 19, 0, 0) datetime.datetime(2019, 7, 22, 0, 0)\n",
      " datetime.datetime(2019, 7, 23, 0, 0) datetime.datetime(2019, 7, 24, 0, 0)\n",
      " datetime.datetime(2019, 7, 25, 0, 0) datetime.datetime(2019, 7, 26, 0, 0)\n",
      " datetime.datetime(2019, 7, 29, 0, 0) datetime.datetime(2019, 7, 30, 0, 0)\n",
      " datetime.datetime(2019, 7, 31, 0, 0) datetime.datetime(2019, 8, 1, 0, 0)\n",
      " datetime.datetime(2019, 8, 2, 0, 0) datetime.datetime(2019, 8, 5, 0, 0)\n",
      " datetime.datetime(2019, 8, 6, 0, 0) datetime.datetime(2019, 8, 7, 0, 0)\n",
      " datetime.datetime(2019, 8, 8, 0, 0) datetime.datetime(2019, 8, 9, 0, 0)\n",
      " datetime.datetime(2019, 8, 12, 0, 0) datetime.datetime(2019, 8, 13, 0, 0)\n",
      " datetime.datetime(2019, 8, 14, 0, 0) datetime.datetime(2019, 8, 15, 0, 0)\n",
      " datetime.datetime(2019, 8, 16, 0, 0) datetime.datetime(2019, 8, 19, 0, 0)\n",
      " datetime.datetime(2019, 8, 20, 0, 0) datetime.datetime(2019, 8, 21, 0, 0)\n",
      " datetime.datetime(2019, 8, 22, 0, 0) datetime.datetime(2019, 8, 23, 0, 0)\n",
      " datetime.datetime(2019, 8, 26, 0, 0) datetime.datetime(2019, 8, 27, 0, 0)\n",
      " datetime.datetime(2019, 8, 28, 0, 0) datetime.datetime(2019, 8, 29, 0, 0)\n",
      " datetime.datetime(2019, 8, 30, 0, 0) datetime.datetime(2019, 9, 2, 0, 0)\n",
      " datetime.datetime(2019, 9, 3, 0, 0) datetime.datetime(2019, 9, 4, 0, 0)\n",
      " datetime.datetime(2019, 9, 5, 0, 0) datetime.datetime(2019, 9, 6, 0, 0)\n",
      " datetime.datetime(2019, 9, 9, 0, 0) datetime.datetime(2019, 9, 10, 0, 0)\n",
      " datetime.datetime(2019, 9, 11, 0, 0) datetime.datetime(2019, 9, 12, 0, 0)\n",
      " datetime.datetime(2019, 9, 13, 0, 0) datetime.datetime(2019, 9, 16, 0, 0)\n",
      " datetime.datetime(2019, 9, 17, 0, 0) datetime.datetime(2019, 9, 18, 0, 0)\n",
      " datetime.datetime(2019, 9, 19, 0, 0) datetime.datetime(2019, 9, 20, 0, 0)\n",
      " datetime.datetime(2019, 9, 23, 0, 0) datetime.datetime(2019, 9, 24, 0, 0)\n",
      " datetime.datetime(2019, 9, 25, 0, 0) datetime.datetime(2019, 9, 26, 0, 0)\n",
      " datetime.datetime(2019, 9, 27, 0, 0) datetime.datetime(2019, 9, 30, 0, 0)\n",
      " datetime.datetime(2019, 10, 1, 0, 0) datetime.datetime(2019, 10, 2, 0, 0)\n",
      " datetime.datetime(2019, 10, 3, 0, 0) datetime.datetime(2019, 10, 4, 0, 0)\n",
      " datetime.datetime(2019, 10, 7, 0, 0) datetime.datetime(2019, 10, 8, 0, 0)\n",
      " datetime.datetime(2019, 10, 9, 0, 0)\n",
      " datetime.datetime(2019, 10, 10, 0, 0)\n",
      " datetime.datetime(2019, 10, 11, 0, 0)\n",
      " datetime.datetime(2019, 10, 14, 0, 0)\n",
      " datetime.datetime(2019, 10, 15, 0, 0)\n",
      " datetime.datetime(2019, 10, 16, 0, 0)\n",
      " datetime.datetime(2019, 10, 17, 0, 0)\n",
      " datetime.datetime(2019, 10, 18, 0, 0)\n",
      " datetime.datetime(2019, 10, 21, 0, 0)\n",
      " datetime.datetime(2019, 10, 22, 0, 0)\n",
      " datetime.datetime(2019, 10, 23, 0, 0)\n",
      " datetime.datetime(2019, 10, 24, 0, 0)\n",
      " datetime.datetime(2019, 10, 25, 0, 0)\n",
      " datetime.datetime(2019, 10, 28, 0, 0)\n",
      " datetime.datetime(2019, 10, 29, 0, 0)\n",
      " datetime.datetime(2019, 10, 30, 0, 0)\n",
      " datetime.datetime(2019, 10, 31, 0, 0)\n",
      " datetime.datetime(2019, 11, 1, 0, 0) datetime.datetime(2019, 11, 4, 0, 0)\n",
      " datetime.datetime(2019, 11, 5, 0, 0) datetime.datetime(2019, 11, 6, 0, 0)\n",
      " datetime.datetime(2019, 11, 7, 0, 0) datetime.datetime(2019, 11, 8, 0, 0)\n",
      " datetime.datetime(2019, 11, 11, 0, 0)\n",
      " datetime.datetime(2019, 11, 12, 0, 0)\n",
      " datetime.datetime(2019, 11, 13, 0, 0)\n",
      " datetime.datetime(2019, 11, 14, 0, 0)\n",
      " datetime.datetime(2019, 11, 15, 0, 0)\n",
      " datetime.datetime(2019, 11, 18, 0, 0)\n",
      " datetime.datetime(2019, 11, 19, 0, 0)\n",
      " datetime.datetime(2019, 11, 20, 0, 0)\n",
      " datetime.datetime(2019, 11, 21, 0, 0)\n",
      " datetime.datetime(2019, 11, 22, 0, 0)\n",
      " datetime.datetime(2019, 11, 25, 0, 0)\n",
      " datetime.datetime(2019, 11, 26, 0, 0)\n",
      " datetime.datetime(2019, 11, 27, 0, 0)\n",
      " datetime.datetime(2019, 11, 28, 0, 0)\n",
      " datetime.datetime(2019, 11, 29, 0, 0)\n",
      " datetime.datetime(2019, 12, 2, 0, 0) datetime.datetime(2019, 12, 3, 0, 0)\n",
      " datetime.datetime(2019, 12, 4, 0, 0) datetime.datetime(2019, 12, 5, 0, 0)\n",
      " datetime.datetime(2019, 12, 6, 0, 0) datetime.datetime(2019, 12, 9, 0, 0)\n",
      " datetime.datetime(2019, 12, 10, 0, 0)\n",
      " datetime.datetime(2019, 12, 11, 0, 0)\n",
      " datetime.datetime(2019, 12, 12, 0, 0)\n",
      " datetime.datetime(2019, 12, 13, 0, 0)\n",
      " datetime.datetime(2019, 12, 16, 0, 0)\n",
      " datetime.datetime(2019, 12, 17, 0, 0)\n",
      " datetime.datetime(2019, 12, 18, 0, 0)\n",
      " datetime.datetime(2019, 12, 19, 0, 0)\n",
      " datetime.datetime(2019, 12, 20, 0, 0)\n",
      " datetime.datetime(2019, 12, 23, 0, 0)\n",
      " datetime.datetime(2019, 12, 24, 0, 0)\n",
      " datetime.datetime(2019, 12, 25, 0, 0)\n",
      " datetime.datetime(2019, 12, 26, 0, 0)\n",
      " datetime.datetime(2019, 12, 27, 0, 0)\n",
      " datetime.datetime(2019, 12, 30, 0, 0)\n",
      " datetime.datetime(2019, 12, 31, 0, 0) datetime.datetime(2020, 1, 1, 0, 0)\n",
      " datetime.datetime(2020, 1, 2, 0, 0) datetime.datetime(2020, 1, 3, 0, 0)\n",
      " datetime.datetime(2020, 1, 6, 0, 0) datetime.datetime(2020, 1, 7, 0, 0)\n",
      " datetime.datetime(2020, 1, 8, 0, 0) datetime.datetime(2020, 1, 9, 0, 0)\n",
      " datetime.datetime(2020, 1, 10, 0, 0) datetime.datetime(2020, 1, 13, 0, 0)\n",
      " datetime.datetime(2020, 1, 14, 0, 0) datetime.datetime(2020, 1, 15, 0, 0)\n",
      " datetime.datetime(2020, 1, 16, 0, 0) datetime.datetime(2020, 1, 17, 0, 0)\n",
      " datetime.datetime(2020, 1, 20, 0, 0) datetime.datetime(2020, 1, 21, 0, 0)\n",
      " datetime.datetime(2020, 1, 22, 0, 0) datetime.datetime(2020, 1, 23, 0, 0)\n",
      " datetime.datetime(2020, 1, 24, 0, 0) datetime.datetime(2020, 1, 27, 0, 0)\n",
      " datetime.datetime(2020, 1, 28, 0, 0) datetime.datetime(2020, 1, 29, 0, 0)\n",
      " datetime.datetime(2020, 1, 30, 0, 0) datetime.datetime(2020, 1, 31, 0, 0)\n",
      " datetime.datetime(2020, 2, 3, 0, 0) datetime.datetime(2020, 2, 4, 0, 0)\n",
      " datetime.datetime(2020, 2, 5, 0, 0) datetime.datetime(2020, 2, 6, 0, 0)\n",
      " datetime.datetime(2020, 2, 7, 0, 0) datetime.datetime(2020, 2, 10, 0, 0)\n",
      " datetime.datetime(2020, 2, 11, 0, 0) datetime.datetime(2020, 2, 12, 0, 0)\n",
      " datetime.datetime(2020, 2, 13, 0, 0) datetime.datetime(2020, 2, 14, 0, 0)\n",
      " datetime.datetime(2020, 2, 17, 0, 0) datetime.datetime(2020, 2, 18, 0, 0)\n",
      " datetime.datetime(2020, 2, 19, 0, 0) datetime.datetime(2020, 2, 20, 0, 0)\n",
      " datetime.datetime(2020, 2, 21, 0, 0) datetime.datetime(2020, 2, 24, 0, 0)\n",
      " datetime.datetime(2020, 2, 25, 0, 0) datetime.datetime(2020, 2, 26, 0, 0)\n",
      " datetime.datetime(2020, 2, 27, 0, 0) datetime.datetime(2020, 2, 28, 0, 0)\n",
      " datetime.datetime(2020, 3, 2, 0, 0) datetime.datetime(2020, 3, 3, 0, 0)\n",
      " datetime.datetime(2020, 3, 4, 0, 0) datetime.datetime(2020, 3, 5, 0, 0)\n",
      " datetime.datetime(2020, 3, 6, 0, 0) datetime.datetime(2020, 3, 9, 0, 0)\n",
      " datetime.datetime(2020, 3, 10, 0, 0) datetime.datetime(2020, 3, 11, 0, 0)\n",
      " datetime.datetime(2020, 3, 12, 0, 0) datetime.datetime(2020, 3, 13, 0, 0)\n",
      " datetime.datetime(2020, 3, 16, 0, 0) datetime.datetime(2020, 3, 17, 0, 0)\n",
      " datetime.datetime(2020, 3, 18, 0, 0) datetime.datetime(2020, 3, 19, 0, 0)\n",
      " datetime.datetime(2020, 3, 20, 0, 0) datetime.datetime(2020, 3, 23, 0, 0)\n",
      " datetime.datetime(2020, 3, 24, 0, 0) datetime.datetime(2020, 3, 25, 0, 0)\n",
      " datetime.datetime(2020, 3, 26, 0, 0) datetime.datetime(2020, 3, 27, 0, 0)\n",
      " datetime.datetime(2020, 3, 30, 0, 0) datetime.datetime(2020, 3, 31, 0, 0)\n",
      " datetime.datetime(2020, 4, 1, 0, 0) datetime.datetime(2020, 4, 2, 0, 0)\n",
      " datetime.datetime(2020, 4, 3, 0, 0) datetime.datetime(2020, 4, 6, 0, 0)\n",
      " datetime.datetime(2020, 4, 7, 0, 0) datetime.datetime(2020, 4, 8, 0, 0)\n",
      " datetime.datetime(2020, 4, 9, 0, 0) datetime.datetime(2020, 4, 10, 0, 0)\n",
      " datetime.datetime(2020, 4, 13, 0, 0) datetime.datetime(2020, 4, 14, 0, 0)\n",
      " datetime.datetime(2020, 4, 15, 0, 0) datetime.datetime(2020, 4, 16, 0, 0)\n",
      " datetime.datetime(2020, 4, 17, 0, 0) datetime.datetime(2020, 4, 20, 0, 0)\n",
      " datetime.datetime(2020, 4, 21, 0, 0) datetime.datetime(2020, 4, 22, 0, 0)\n",
      " datetime.datetime(2020, 4, 23, 0, 0) datetime.datetime(2020, 4, 24, 0, 0)\n",
      " datetime.datetime(2020, 4, 27, 0, 0) datetime.datetime(2020, 4, 28, 0, 0)\n",
      " datetime.datetime(2020, 4, 29, 0, 0) datetime.datetime(2020, 4, 30, 0, 0)\n",
      " datetime.datetime(2020, 5, 1, 0, 0) datetime.datetime(2020, 5, 4, 0, 0)\n",
      " datetime.datetime(2020, 5, 5, 0, 0) datetime.datetime(2020, 5, 6, 0, 0)\n",
      " datetime.datetime(2020, 5, 7, 0, 0) datetime.datetime(2020, 5, 8, 0, 0)\n",
      " datetime.datetime(2020, 5, 11, 0, 0) datetime.datetime(2020, 5, 12, 0, 0)\n",
      " datetime.datetime(2020, 5, 13, 0, 0) datetime.datetime(2020, 5, 14, 0, 0)\n",
      " datetime.datetime(2020, 5, 15, 0, 0) datetime.datetime(2020, 5, 18, 0, 0)\n",
      " datetime.datetime(2020, 5, 19, 0, 0) datetime.datetime(2020, 5, 20, 0, 0)\n",
      " datetime.datetime(2020, 5, 21, 0, 0) datetime.datetime(2020, 5, 22, 0, 0)\n",
      " datetime.datetime(2020, 5, 25, 0, 0) datetime.datetime(2020, 5, 26, 0, 0)\n",
      " datetime.datetime(2020, 5, 27, 0, 0) datetime.datetime(2020, 5, 28, 0, 0)\n",
      " datetime.datetime(2020, 5, 29, 0, 0) datetime.datetime(2020, 6, 1, 0, 0)\n",
      " datetime.datetime(2020, 6, 2, 0, 0) datetime.datetime(2020, 6, 3, 0, 0)\n",
      " datetime.datetime(2020, 6, 4, 0, 0) datetime.datetime(2020, 6, 5, 0, 0)\n",
      " datetime.datetime(2020, 6, 8, 0, 0) datetime.datetime(2020, 6, 9, 0, 0)\n",
      " datetime.datetime(2020, 6, 10, 0, 0) datetime.datetime(2020, 6, 11, 0, 0)\n",
      " datetime.datetime(2020, 6, 12, 0, 0) datetime.datetime(2020, 6, 15, 0, 0)\n",
      " datetime.datetime(2020, 6, 16, 0, 0) datetime.datetime(2020, 6, 17, 0, 0)\n",
      " datetime.datetime(2020, 6, 18, 0, 0) datetime.datetime(2020, 6, 19, 0, 0)\n",
      " datetime.datetime(2020, 6, 22, 0, 0) datetime.datetime(2020, 6, 23, 0, 0)\n",
      " datetime.datetime(2020, 6, 24, 0, 0) datetime.datetime(2020, 6, 25, 0, 0)\n",
      " datetime.datetime(2020, 6, 26, 0, 0) datetime.datetime(2020, 6, 29, 0, 0)\n",
      " datetime.datetime(2020, 6, 30, 0, 0) datetime.datetime(2020, 7, 1, 0, 0)\n",
      " datetime.datetime(2020, 7, 2, 0, 0) datetime.datetime(2020, 7, 3, 0, 0)\n",
      " datetime.datetime(2020, 7, 6, 0, 0) datetime.datetime(2020, 7, 7, 0, 0)\n",
      " datetime.datetime(2020, 7, 8, 0, 0) datetime.datetime(2020, 7, 9, 0, 0)\n",
      " datetime.datetime(2020, 7, 10, 0, 0) datetime.datetime(2020, 7, 13, 0, 0)\n",
      " datetime.datetime(2020, 7, 14, 0, 0) datetime.datetime(2020, 7, 15, 0, 0)\n",
      " datetime.datetime(2020, 7, 16, 0, 0) datetime.datetime(2020, 7, 17, 0, 0)\n",
      " datetime.datetime(2020, 7, 20, 0, 0) datetime.datetime(2020, 7, 21, 0, 0)\n",
      " datetime.datetime(2020, 7, 22, 0, 0) datetime.datetime(2020, 7, 23, 0, 0)\n",
      " datetime.datetime(2020, 7, 24, 0, 0) datetime.datetime(2020, 7, 27, 0, 0)\n",
      " datetime.datetime(2020, 7, 28, 0, 0) datetime.datetime(2020, 7, 29, 0, 0)\n",
      " datetime.datetime(2020, 7, 30, 0, 0) datetime.datetime(2020, 7, 31, 0, 0)\n",
      " datetime.datetime(2020, 8, 3, 0, 0) datetime.datetime(2020, 8, 4, 0, 0)\n",
      " datetime.datetime(2020, 8, 5, 0, 0) datetime.datetime(2020, 8, 6, 0, 0)\n",
      " datetime.datetime(2020, 8, 7, 0, 0) datetime.datetime(2020, 8, 10, 0, 0)\n",
      " datetime.datetime(2020, 8, 11, 0, 0) datetime.datetime(2020, 8, 12, 0, 0)\n",
      " datetime.datetime(2020, 8, 13, 0, 0) datetime.datetime(2020, 8, 14, 0, 0)\n",
      " datetime.datetime(2020, 8, 17, 0, 0) datetime.datetime(2020, 8, 18, 0, 0)\n",
      " datetime.datetime(2020, 8, 19, 0, 0) datetime.datetime(2020, 8, 20, 0, 0)\n",
      " datetime.datetime(2020, 8, 21, 0, 0) datetime.datetime(2020, 8, 24, 0, 0)\n",
      " datetime.datetime(2020, 8, 25, 0, 0) datetime.datetime(2020, 8, 26, 0, 0)\n",
      " datetime.datetime(2020, 8, 27, 0, 0) datetime.datetime(2020, 8, 28, 0, 0)\n",
      " datetime.datetime(2020, 8, 31, 0, 0) datetime.datetime(2020, 9, 1, 0, 0)\n",
      " datetime.datetime(2020, 9, 2, 0, 0) datetime.datetime(2020, 9, 3, 0, 0)\n",
      " datetime.datetime(2020, 9, 4, 0, 0) datetime.datetime(2020, 9, 7, 0, 0)\n",
      " datetime.datetime(2020, 9, 8, 0, 0) datetime.datetime(2020, 9, 9, 0, 0)\n",
      " datetime.datetime(2020, 9, 10, 0, 0) datetime.datetime(2020, 9, 11, 0, 0)\n",
      " datetime.datetime(2020, 9, 14, 0, 0) datetime.datetime(2020, 9, 15, 0, 0)\n",
      " datetime.datetime(2020, 9, 16, 0, 0) datetime.datetime(2020, 9, 17, 0, 0)\n",
      " datetime.datetime(2020, 9, 18, 0, 0) datetime.datetime(2020, 9, 21, 0, 0)\n",
      " datetime.datetime(2020, 9, 22, 0, 0) datetime.datetime(2020, 9, 23, 0, 0)\n",
      " datetime.datetime(2020, 9, 24, 0, 0) datetime.datetime(2020, 9, 25, 0, 0)\n",
      " datetime.datetime(2020, 9, 28, 0, 0) datetime.datetime(2020, 9, 29, 0, 0)\n",
      " datetime.datetime(2020, 9, 30, 0, 0) datetime.datetime(2020, 10, 1, 0, 0)\n",
      " datetime.datetime(2020, 10, 2, 0, 0) datetime.datetime(2020, 10, 5, 0, 0)\n",
      " datetime.datetime(2020, 10, 6, 0, 0) datetime.datetime(2020, 10, 7, 0, 0)\n",
      " datetime.datetime(2020, 10, 8, 0, 0) datetime.datetime(2020, 10, 9, 0, 0)\n",
      " datetime.datetime(2020, 10, 12, 0, 0)\n",
      " datetime.datetime(2020, 10, 13, 0, 0)\n",
      " datetime.datetime(2020, 10, 14, 0, 0)\n",
      " datetime.datetime(2020, 10, 15, 0, 0)\n",
      " datetime.datetime(2020, 10, 16, 0, 0)\n",
      " datetime.datetime(2020, 10, 19, 0, 0)\n",
      " datetime.datetime(2020, 10, 20, 0, 0)\n",
      " datetime.datetime(2020, 10, 21, 0, 0)\n",
      " datetime.datetime(2020, 10, 22, 0, 0)\n",
      " datetime.datetime(2020, 10, 23, 0, 0)\n",
      " datetime.datetime(2020, 10, 26, 0, 0)\n",
      " datetime.datetime(2020, 10, 27, 0, 0)\n",
      " datetime.datetime(2020, 10, 28, 0, 0)\n",
      " datetime.datetime(2020, 10, 29, 0, 0)\n",
      " datetime.datetime(2020, 10, 30, 0, 0)\n",
      " datetime.datetime(2020, 11, 2, 0, 0) datetime.datetime(2020, 11, 3, 0, 0)\n",
      " datetime.datetime(2020, 11, 4, 0, 0) datetime.datetime(2020, 11, 5, 0, 0)\n",
      " datetime.datetime(2020, 11, 6, 0, 0) datetime.datetime(2020, 11, 9, 0, 0)\n",
      " datetime.datetime(2020, 11, 10, 0, 0)\n",
      " datetime.datetime(2020, 11, 11, 0, 0)\n",
      " datetime.datetime(2020, 11, 12, 0, 0)\n",
      " datetime.datetime(2020, 11, 13, 0, 0)\n",
      " datetime.datetime(2020, 11, 16, 0, 0)\n",
      " datetime.datetime(2020, 11, 17, 0, 0)\n",
      " datetime.datetime(2020, 11, 18, 0, 0)\n",
      " datetime.datetime(2020, 11, 19, 0, 0)\n",
      " datetime.datetime(2020, 11, 20, 0, 0)\n",
      " datetime.datetime(2020, 11, 23, 0, 0)\n",
      " datetime.datetime(2020, 11, 24, 0, 0)\n",
      " datetime.datetime(2020, 11, 25, 0, 0)\n",
      " datetime.datetime(2020, 11, 26, 0, 0)\n",
      " datetime.datetime(2020, 11, 27, 0, 0)\n",
      " datetime.datetime(2020, 11, 30, 0, 0)\n",
      " datetime.datetime(2020, 12, 1, 0, 0) datetime.datetime(2020, 12, 2, 0, 0)\n",
      " datetime.datetime(2020, 12, 3, 0, 0) datetime.datetime(2020, 12, 4, 0, 0)\n",
      " datetime.datetime(2020, 12, 7, 0, 0) datetime.datetime(2020, 12, 8, 0, 0)\n",
      " datetime.datetime(2020, 12, 9, 0, 0)\n",
      " datetime.datetime(2020, 12, 10, 0, 0)\n",
      " datetime.datetime(2020, 12, 11, 0, 0)\n",
      " datetime.datetime(2020, 12, 14, 0, 0)\n",
      " datetime.datetime(2020, 12, 15, 0, 0)\n",
      " datetime.datetime(2020, 12, 16, 0, 0)\n",
      " datetime.datetime(2020, 12, 17, 0, 0)\n",
      " datetime.datetime(2020, 12, 18, 0, 0)\n",
      " datetime.datetime(2020, 12, 21, 0, 0)\n",
      " datetime.datetime(2020, 12, 22, 0, 0)\n",
      " datetime.datetime(2020, 12, 23, 0, 0)\n",
      " datetime.datetime(2020, 12, 24, 0, 0)\n",
      " datetime.datetime(2020, 12, 25, 0, 0)\n",
      " datetime.datetime(2020, 12, 28, 0, 0)\n",
      " datetime.datetime(2020, 12, 29, 0, 0)\n",
      " datetime.datetime(2020, 12, 30, 0, 0)\n",
      " datetime.datetime(2020, 12, 31, 0, 0) datetime.datetime(2021, 1, 1, 0, 0)\n",
      " datetime.datetime(2021, 1, 4, 0, 0) datetime.datetime(2021, 1, 5, 0, 0)\n",
      " datetime.datetime(2021, 1, 6, 0, 0) datetime.datetime(2021, 1, 7, 0, 0)\n",
      " datetime.datetime(2021, 1, 8, 0, 0) datetime.datetime(2021, 1, 11, 0, 0)\n",
      " datetime.datetime(2021, 1, 12, 0, 0) datetime.datetime(2021, 1, 13, 0, 0)\n",
      " datetime.datetime(2021, 1, 14, 0, 0) datetime.datetime(2021, 1, 15, 0, 0)\n",
      " datetime.datetime(2021, 1, 18, 0, 0) datetime.datetime(2021, 1, 19, 0, 0)\n",
      " datetime.datetime(2021, 1, 20, 0, 0) datetime.datetime(2021, 1, 21, 0, 0)\n",
      " datetime.datetime(2021, 1, 22, 0, 0) datetime.datetime(2021, 1, 25, 0, 0)\n",
      " datetime.datetime(2021, 1, 26, 0, 0) datetime.datetime(2021, 1, 27, 0, 0)\n",
      " datetime.datetime(2021, 1, 28, 0, 0) datetime.datetime(2021, 1, 29, 0, 0)\n",
      " datetime.datetime(2021, 2, 1, 0, 0) datetime.datetime(2021, 2, 2, 0, 0)\n",
      " datetime.datetime(2021, 2, 3, 0, 0) datetime.datetime(2021, 2, 4, 0, 0)\n",
      " datetime.datetime(2021, 2, 5, 0, 0) datetime.datetime(2021, 2, 8, 0, 0)\n",
      " datetime.datetime(2021, 2, 9, 0, 0) datetime.datetime(2021, 2, 10, 0, 0)\n",
      " datetime.datetime(2021, 2, 11, 0, 0) datetime.datetime(2021, 2, 12, 0, 0)\n",
      " datetime.datetime(2021, 2, 15, 0, 0) datetime.datetime(2021, 2, 16, 0, 0)\n",
      " datetime.datetime(2021, 2, 17, 0, 0) datetime.datetime(2021, 2, 18, 0, 0)\n",
      " datetime.datetime(2021, 2, 19, 0, 0) datetime.datetime(2021, 2, 22, 0, 0)\n",
      " datetime.datetime(2021, 2, 23, 0, 0) datetime.datetime(2021, 2, 24, 0, 0)\n",
      " datetime.datetime(2021, 2, 25, 0, 0) datetime.datetime(2021, 2, 26, 0, 0)\n",
      " datetime.datetime(2021, 3, 1, 0, 0) datetime.datetime(2021, 3, 2, 0, 0)\n",
      " datetime.datetime(2021, 3, 3, 0, 0) datetime.datetime(2021, 3, 4, 0, 0)\n",
      " datetime.datetime(2021, 3, 5, 0, 0) datetime.datetime(2021, 3, 8, 0, 0)\n",
      " datetime.datetime(2021, 3, 9, 0, 0) datetime.datetime(2021, 3, 10, 0, 0)\n",
      " datetime.datetime(2021, 3, 11, 0, 0) datetime.datetime(2021, 3, 12, 0, 0)\n",
      " datetime.datetime(2021, 3, 15, 0, 0) datetime.datetime(2021, 3, 16, 0, 0)\n",
      " datetime.datetime(2021, 3, 17, 0, 0) datetime.datetime(2021, 3, 18, 0, 0)\n",
      " datetime.datetime(2021, 3, 19, 0, 0) datetime.datetime(2021, 3, 22, 0, 0)\n",
      " datetime.datetime(2021, 3, 23, 0, 0) datetime.datetime(2021, 3, 24, 0, 0)\n",
      " datetime.datetime(2021, 3, 25, 0, 0) datetime.datetime(2021, 3, 26, 0, 0)\n",
      " datetime.datetime(2021, 3, 29, 0, 0) datetime.datetime(2021, 3, 30, 0, 0)\n",
      " datetime.datetime(2021, 3, 31, 0, 0) datetime.datetime(2021, 4, 1, 0, 0)\n",
      " datetime.datetime(2021, 4, 2, 0, 0) datetime.datetime(2021, 4, 5, 0, 0)\n",
      " datetime.datetime(2021, 4, 6, 0, 0) datetime.datetime(2021, 4, 7, 0, 0)\n",
      " datetime.datetime(2021, 4, 8, 0, 0) datetime.datetime(2021, 4, 9, 0, 0)\n",
      " datetime.datetime(2021, 4, 12, 0, 0) datetime.datetime(2021, 4, 13, 0, 0)\n",
      " datetime.datetime(2021, 4, 14, 0, 0) datetime.datetime(2021, 4, 15, 0, 0)\n",
      " datetime.datetime(2021, 4, 16, 0, 0) datetime.datetime(2021, 4, 19, 0, 0)\n",
      " datetime.datetime(2021, 4, 20, 0, 0) datetime.datetime(2021, 4, 21, 0, 0)\n",
      " datetime.datetime(2021, 4, 22, 0, 0) datetime.datetime(2021, 4, 23, 0, 0)\n",
      " datetime.datetime(2021, 4, 26, 0, 0) datetime.datetime(2021, 4, 27, 0, 0)\n",
      " datetime.datetime(2021, 4, 28, 0, 0) datetime.datetime(2021, 4, 29, 0, 0)\n",
      " datetime.datetime(2021, 4, 30, 0, 0) datetime.datetime(2021, 5, 3, 0, 0)\n",
      " datetime.datetime(2021, 5, 4, 0, 0) datetime.datetime(2021, 5, 5, 0, 0)\n",
      " datetime.datetime(2021, 5, 6, 0, 0) datetime.datetime(2021, 5, 7, 0, 0)\n",
      " datetime.datetime(2021, 5, 10, 0, 0) datetime.datetime(2021, 5, 11, 0, 0)\n",
      " datetime.datetime(2021, 5, 12, 0, 0) datetime.datetime(2021, 5, 13, 0, 0)\n",
      " datetime.datetime(2021, 5, 14, 0, 0)]\n",
      "861\n"
     ]
    }
   ],
   "source": [
    "print(full_filtered_dates)\n",
    "print(len(full_filtered_dates))"
   ]
  },
  {
   "cell_type": "code",
   "execution_count": 18,
   "metadata": {},
   "outputs": [],
   "source": [
    "historical_features_df = historical_features_df.loc[:, historical_features_df.columns != 'date']\n",
    "historical_features_df=historical_features_df.astype(float)\n",
    "full_features_df = full_features_df.loc[:, full_features_df.columns != 'date']\n",
    "full_features_df=full_features_df.astype(float)"
   ]
  },
  {
   "cell_type": "code",
   "execution_count": 19,
   "metadata": {},
   "outputs": [
    {
     "data": {
      "image/png": "[encoded data removed]",
      "text/plain": [
       "<Figure size 432x288 with 1 Axes>"
      ]
     },
     "metadata": {
      "needs_background": "light"
     },
     "output_type": "display_data"
    }
   ],
   "source": [
    "hist = historical_features_df.hist(column = 'y',bins = 100)"
   ]
  },
  {
   "cell_type": "code",
   "execution_count": 20,
   "metadata": {},
   "outputs": [
    {
     "data": {
      "image/png": "[encoded data removed]",
      "text/plain": [
       "<Figure size 432x288 with 1 Axes>"
      ]
     },
     "metadata": {
      "needs_background": "light"
     },
     "output_type": "display_data"
    }
   ],
   "source": [
    "hist = full_features_df.hist(column = 'y',bins = 100)"
   ]
  },
  {
   "cell_type": "code",
   "execution_count": 21,
   "metadata": {},
   "outputs": [],
   "source": [
    "def normalize(df):\n",
    "    result = df.copy()\n",
    "    for i,feature_name in enumerate(df.columns):\n",
    "        if(i!=0):\n",
    "            mean_value = df[feature_name].mean()\n",
    "            std = df[feature_name].std()\n",
    "            result[feature_name] = (df[feature_name] - mean_value) / (std)\n",
    "        return result"
   ]
  },
  {
   "cell_type": "code",
   "execution_count": 22,
   "metadata": {},
   "outputs": [],
   "source": [
    "historical_features = []\n",
    "for feature in ambudant_features:\n",
    "    if(feature!='date'):\n",
    "        historical_features.append(historical_features_df[feature].values)"
   ]
  },
  {
   "cell_type": "code",
   "execution_count": 23,
   "metadata": {},
   "outputs": [],
   "source": [
    "full_features = []\n",
    "for feature in ambudant_features + new_features:\n",
    "    if(feature!='date'):\n",
    "        full_features.append(full_features_df[feature].values)"
   ]
  },
  {
   "cell_type": "code",
   "execution_count": 24,
   "metadata": {},
   "outputs": [],
   "source": [
    "historical_filtered_targets = np.array(historical_features[-1])"
   ]
  },
  {
   "cell_type": "code",
   "execution_count": 25,
   "metadata": {},
   "outputs": [],
   "source": [
    "full_filtered_targets = np.array(full_features[-1])"
   ]
  },
  {
   "cell_type": "code",
   "execution_count": 26,
   "metadata": {},
   "outputs": [],
   "source": [
    "historical_features = historical_features[0:-1]"
   ]
  },
  {
   "cell_type": "code",
   "execution_count": 27,
   "metadata": {},
   "outputs": [],
   "source": [
    "full_features = full_features[0:-1]"
   ]
  },
  {
   "cell_type": "code",
   "execution_count": 28,
   "metadata": {},
   "outputs": [],
   "source": [
    "historical_features = np.array(historical_features).transpose()"
   ]
  },
  {
   "cell_type": "code",
   "execution_count": 29,
   "metadata": {},
   "outputs": [],
   "source": [
    "full_features = np.array(full_features).transpose()"
   ]
  },
  {
   "cell_type": "code",
   "execution_count": 30,
   "metadata": {},
   "outputs": [
    {
     "data": {
      "text/plain": [
       "(3838, 18)"
      ]
     },
     "execution_count": 30,
     "metadata": {},
     "output_type": "execute_result"
    }
   ],
   "source": [
    "historical_features.shape"
   ]
  },
  {
   "cell_type": "code",
   "execution_count": 31,
   "metadata": {},
   "outputs": [
    {
     "data": {
      "text/plain": [
       "(861, 44)"
      ]
     },
     "execution_count": 31,
     "metadata": {},
     "output_type": "execute_result"
    }
   ],
   "source": [
    "full_features.shape"
   ]
  },
  {
   "cell_type": "code",
   "execution_count": 32,
   "metadata": {},
   "outputs": [
    {
     "data": {
      "image/png": "[encoded data removed]",
      "text/plain": [
       "<Figure size 432x288 with 1 Axes>"
      ]
     },
     "metadata": {
      "needs_background": "light"
     },
     "output_type": "display_data"
    },
    {
     "name": "stdout",
     "output_type": "stream",
     "text": [
      "\n"
     ]
    }
   ],
   "source": [
    "index = [i+1 for i in range(len(historical_filtered_targets))]\n",
    "\n",
    "plt.plot(index, historical_filtered_targets ,label = \"y\")\n",
    "plt.xlabel('Dates')\n",
    "plt.ylabel('Y')\n",
    "plt.title('Y timeseries')\n",
    "plt.legend()\n",
    "plt.show()\n",
    "print()"
   ]
  },
  {
   "cell_type": "code",
   "execution_count": 33,
   "metadata": {},
   "outputs": [],
   "source": [
    "timesteps = 100\n",
    "inp,lbl,dates = utils.split_timeseries(timesteps,22-2,historical_features,historical_filtered_targets,historical_filtered_dates)"
   ]
  },
  {
   "cell_type": "code",
   "execution_count": 34,
   "metadata": {},
   "outputs": [],
   "source": [
    "f_inp,f_lbl,f_dates = utils.split_timeseries(timesteps,22-2,full_features,full_filtered_targets,full_filtered_dates)"
   ]
  },
  {
   "cell_type": "code",
   "execution_count": 35,
   "metadata": {},
   "outputs": [
    {
     "name": "stdout",
     "output_type": "stream",
     "text": [
      "(3718, 100, 18)\n",
      "(3718,)\n"
     ]
    }
   ],
   "source": [
    "print(inp.shape)\n",
    "print(lbl.shape)"
   ]
  },
  {
   "cell_type": "code",
   "execution_count": 36,
   "metadata": {},
   "outputs": [
    {
     "name": "stdout",
     "output_type": "stream",
     "text": [
      "(741, 100, 44)\n",
      "(741,)\n"
     ]
    }
   ],
   "source": [
    "print(f_inp.shape)\n",
    "print(f_lbl.shape)"
   ]
  },
  {
   "cell_type": "code",
   "execution_count": 37,
   "metadata": {},
   "outputs": [],
   "source": [
    "if(METAL == 'A'):\n",
    "    joblib.dump(inp, '../Vectors/h_aluminium_vectors')\n",
    "    joblib.dump(lbl, '../Vectors/h_aluminium_labels')\n",
    "    joblib.dump(dates, '../Vectors/h_aluminium_dates')\n",
    "    \n",
    "    joblib.dump(f_inp, '../Vectors/f_aluminium_vectors')\n",
    "    joblib.dump(f_lbl, '../Vectors/f_aluminium_labels')\n",
    "    joblib.dump(f_dates, '../Vectors/f_aluminium_dates')\n",
    "else:\n",
    "    joblib.dump(inp, '../Vectors/h_copper_vectors')\n",
    "    joblib.dump(lbl, '../Vectors/h_copper_labels')\n",
    "    joblib.dump(dates, '../Vectors/h_copper_dates')\n",
    "    \n",
    "    joblib.dump(f_inp, '../Vectors/f_copper_vectors')\n",
    "    joblib.dump(f_lbl, '../Vectors/f_copper_labels')\n",
    "    joblib.dump(f_dates, '../Vectors/f_copper_dates')"
   ]
  },
  {
   "cell_type": "code",
   "execution_count": 38,
   "metadata": {},
   "outputs": [
    {
     "data": {
      "image/png": "[encoded data removed]",
      "text/plain": [
       "<Figure size 432x288 with 1 Axes>"
      ]
     },
     "metadata": {
      "needs_background": "light"
     },
     "output_type": "display_data"
    }
   ],
   "source": [
    "index = 300\n",
    "#data = inp[index]\n",
    "data = f_inp[index]\n",
    "\n",
    "timesteps = [i+1 for i in range(data.shape[0])]\n",
    "for i in range(data.shape[1]):\n",
    "    plt.plot(timesteps, data.T[i], label = input_df.columns[i])\n",
    "    #plt.plot(timesteps, data.T[i])\n",
    "\n",
    "plt.xlabel('Timesteps')\n",
    "# Set the y axis label of the current axis.\n",
    "plt.ylabel('Features')\n",
    "# Set a title of the current axes.\n",
    "plt.title('Visualisation of a timeseries sequence')\n",
    "# show a legend on the plot\n",
    "plt.legend()\n",
    "# Display a figure.\n",
    "plt.show()"
   ]
  }
 ],
 "metadata": {
  "kernelspec": {
   "display_name": "Python 3",
   "language": "python",
   "name": "python3"
  },
  "language_info": {
   "codemirror_mode": {
    "name": "ipython",
    "version": 3
   },
   "file_extension": ".py",
   "mimetype": "text/x-python",
   "name": "python",
   "nbconvert_exporter": "python",
   "pygments_lexer": "ipython3",
   "version": "3.8.8"
  }
 },
 "nbformat": 4,
 "nbformat_minor": 4
}
