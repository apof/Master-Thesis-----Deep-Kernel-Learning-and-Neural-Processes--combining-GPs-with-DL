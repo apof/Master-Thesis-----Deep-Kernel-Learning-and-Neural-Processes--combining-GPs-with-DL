{
 "cells": [
  {
   "cell_type": "code",
   "execution_count": 1,
   "id": "c7122c8a",
   "metadata": {},
   "outputs": [],
   "source": [
    "import torch\n",
    "import torch.nn as nn\n",
    "import torch.nn.functional as F\n",
    "import numpy as np\n",
    "import joblib\n",
    "from IPython.display import clear_output\n",
    "import matplotlib.pyplot as plt\n",
    "from torch.autograd import Variable\n",
    "import copy\n",
    "\n",
    "\n",
    "import math\n",
    "import tqdm\n",
    "import torch\n",
    "import gpytorch\n",
    "from matplotlib import pyplot as plt\n",
    "\n",
    "# Make plots inline\n",
    "%matplotlib inline\n",
    "\n",
    "import utils"
   ]
  },
  {
   "cell_type": "code",
   "execution_count": 2,
   "id": "051640f6",
   "metadata": {},
   "outputs": [],
   "source": [
    "aluminium_inputs = joblib.load('../Vectors/single_h_aluminium_vectors')\n",
    "aluminium_labels = joblib.load('../Vectors/single_h_aluminium_labels')\n",
    "aluminium_dates = joblib.load('../Vectors/single_h_aluminium_dates')"
   ]
  },
  {
   "cell_type": "code",
   "execution_count": 3,
   "id": "fe60f47a",
   "metadata": {},
   "outputs": [],
   "source": [
    "train_batches,validation_batches,test_batches = utils.train_test_split(aluminium_inputs,aluminium_labels,aluminium_dates,aluminium_inputs.shape[0],0.8,0.7,0)"
   ]
  },
  {
   "cell_type": "code",
   "execution_count": 4,
   "id": "dfbdf0a2",
   "metadata": {},
   "outputs": [],
   "source": [
    "train_data,train_labels,train_dates = train_batches[0]\n",
    "test_data,test_labels,test_dates = test_batches[0]\n",
    "val_data,val_labels,val_dates = validation_batches[0]"
   ]
  },
  {
   "cell_type": "code",
   "execution_count": 5,
   "id": "bb7fa056",
   "metadata": {},
   "outputs": [],
   "source": [
    "train_data = torch.from_numpy(train_data)\n",
    "train_labels = torch.from_numpy(train_labels)\n",
    "test_data = torch.from_numpy(test_data)\n",
    "test_labels = torch.from_numpy(test_labels)\n",
    "val_data = torch.from_numpy(val_data)\n",
    "val_labels = torch.from_numpy(val_labels)\n",
    "train_data = torch.squeeze(train_data, dim = 1)\n",
    "test_data = torch.squeeze(test_data, dim = 1)\n",
    "val_data = torch.squeeze(val_data, dim = 1)"
   ]
  },
  {
   "cell_type": "code",
   "execution_count": 6,
   "id": "e6217881",
   "metadata": {},
   "outputs": [
    {
     "name": "stdout",
     "output_type": "stream",
     "text": [
      "torch.Size([3054, 28])\n",
      "torch.Size([3054])\n",
      "torch.Size([229, 28])\n",
      "torch.Size([229])\n",
      "torch.Size([534, 28])\n",
      "torch.Size([534])\n"
     ]
    }
   ],
   "source": [
    "print(train_data.shape)\n",
    "print(train_labels.shape)\n",
    "print(test_data.shape)\n",
    "print(test_labels.shape)\n",
    "print(val_data.shape)\n",
    "print(val_labels.shape)"
   ]
  },
  {
   "cell_type": "code",
   "execution_count": 7,
   "id": "bcdbc32b",
   "metadata": {},
   "outputs": [],
   "source": [
    "representation_dim = 10\n",
    "#representation_dim = 2\n",
    "KERNEL = 'RADIAL'\n",
    "#KERNEL = 'SKI'"
   ]
  },
  {
   "cell_type": "code",
   "execution_count": 8,
   "id": "f21f8b8e",
   "metadata": {},
   "outputs": [],
   "source": [
    "data_dim = train_data.size(-1)\n",
    "\n",
    "class LargeFeatureExtractor(torch.nn.Sequential):\n",
    "    def __init__(self):\n",
    "        super(LargeFeatureExtractor, self).__init__()\n",
    "        self.add_module('linear1', torch.nn.Linear(data_dim, 100))\n",
    "        self.add_module('relu1', torch.nn.ReLU())\n",
    "        self.add_module('linear2', torch.nn.Linear(100, 20))\n",
    "        self.add_module('relu3', torch.nn.ReLU())\n",
    "        self.add_module('linear4', torch.nn.Linear(20, representation_dim))\n",
    "\n",
    "feature_extractor = LargeFeatureExtractor()"
   ]
  },
  {
   "cell_type": "code",
   "execution_count": 9,
   "id": "18534ecc",
   "metadata": {},
   "outputs": [],
   "source": [
    "class GPRegressionModel(gpytorch.models.ExactGP):\n",
    "        def __init__(self, train_x, train_y, likelihood):\n",
    "            super(GPRegressionModel, self).__init__(train_x, train_y, likelihood)\n",
    "            self.mean_module = gpytorch.means.ConstantMean()\n",
    "            if(KERNEL == 'SKI'):\n",
    "                self.covar_module = gpytorch.kernels.GridInterpolationKernel(\n",
    "                    gpytorch.kernels.ScaleKernel(gpytorch.kernels.RBFKernel(ard_num_dims=representation_dim)),\n",
    "                    num_dims=representation_dim, grid_size=100\n",
    "                )\n",
    "            else:\n",
    "                self.covar_module = gpytorch.kernels.ScaleKernel(gpytorch.kernels.RBFKernel())\n",
    "            self.feature_extractor = feature_extractor\n",
    "\n",
    "        def forward(self, x):\n",
    "            # We're first putting our data through a deep net (feature extractor)\n",
    "            # We're also scaling the features so that they're nice values\n",
    "            projected_x = self.feature_extractor(x)\n",
    "            projected_x = projected_x - projected_x.min(0)[0]\n",
    "            projected_x = 2 * (projected_x / projected_x.max(0)[0]) - 1\n",
    "\n",
    "            mean_x = self.mean_module(projected_x)\n",
    "            covar_x = self.covar_module(projected_x)\n",
    "            return gpytorch.distributions.MultivariateNormal(mean_x, covar_x)"
   ]
  },
  {
   "cell_type": "code",
   "execution_count": 10,
   "id": "9c47efc1",
   "metadata": {},
   "outputs": [],
   "source": [
    "likelihood = gpytorch.likelihoods.GaussianLikelihood()\n",
    "model = GPRegressionModel(train_data,train_labels, likelihood).double()\n",
    "\n",
    "if torch.cuda.is_available():\n",
    "    model = model.cuda()\n",
    "    likelihood = likelihood.cuda()"
   ]
  },
  {
   "cell_type": "code",
   "execution_count": 11,
   "id": "4e491c29",
   "metadata": {},
   "outputs": [
    {
     "name": "stdout",
     "output_type": "stream",
     "text": [
      "No improvement found during the last iterations, stopping optimization at epoch: 588\n",
      "Wall time: 4min 52s\n"
     ]
    }
   ],
   "source": [
    "\n",
    "# Find optimal model hyperparameters\n",
    "model.train()\n",
    "likelihood.train()\n",
    "\n",
    "# Use the adam optimizer\n",
    "optimizer = torch.optim.Adam([\n",
    "    {'params': model.feature_extractor.parameters()},\n",
    "    {'params': model.covar_module.parameters()},\n",
    "    {'params': model.mean_module.parameters()},\n",
    "    {'params': model.likelihood.parameters()},\n",
    "], lr=0.01)\n",
    "\n",
    "# \"Loss\" for GPs - the marginal log likelihood\n",
    "mll = gpytorch.mlls.ExactMarginalLogLikelihood(likelihood, model)\n",
    "\n",
    "training_iterations = 5000\n",
    "\n",
    "training_loss = []\n",
    "validation_loss = []\n",
    "\n",
    "def train():\n",
    "    \n",
    "    best_cost=1000000 \n",
    "    stop = False\n",
    "    last_improvement=0\n",
    "    require_improvement = 100\n",
    "    best_model = None\n",
    "    epoch = 0\n",
    "    \n",
    "    while(stop == False):\n",
    "        # Find optimal model hyperparameters\n",
    "        model.train()\n",
    "        likelihood.train()\n",
    "        \n",
    "        epoch += 1\n",
    "        \n",
    "        # Zero backprop gradients\n",
    "        optimizer.zero_grad()\n",
    "        # Get output from model\n",
    "        output = model(train_data)\n",
    "        # Calc loss and backprop derivatives\n",
    "        loss = -mll(output, train_labels)\n",
    "        training_loss.append(loss.item())\n",
    "        loss.backward()\n",
    "        optimizer.step()\n",
    "        \n",
    "        print(\"epoch  \" + str(epoch+1) + \" \" + str(training_loss[-1]))\n",
    "        clear_output(wait=True)\n",
    "        \n",
    "        # Get into evaluation (predictive posterior) mode\n",
    "        model.eval()\n",
    "        likelihood.eval()\n",
    "                \n",
    "        with torch.no_grad(), gpytorch.settings.fast_pred_var(), gpytorch.settings.use_toeplitz(False):\n",
    "            ## Calculate the validation loss\n",
    "            val_loss = -mll(model(val_data), val_labels)\n",
    "            validation_loss.append(val_loss.item())\n",
    "            \n",
    "            \n",
    "            avg_cost = val_loss\n",
    "            if avg_cost < best_cost:\n",
    "                best_cost = avg_cost\n",
    "                last_improvement = 0\n",
    "                best_model_state = copy.deepcopy(model.state_dict())\n",
    "                torch.save(best_model_state, 'DKL.pt')\n",
    "            else:\n",
    "                last_improvement +=1\n",
    "                \n",
    "            if last_improvement > require_improvement:\n",
    "                print(\"No improvement found during the last iterations, stopping optimization at epoch: \" + str(epoch))\n",
    "                # Break out from the loop.\n",
    "                stop = True\n",
    "        \n",
    "\n",
    "%time train()"
   ]
  },
  {
   "cell_type": "code",
   "execution_count": 12,
   "id": "62d57477",
   "metadata": {},
   "outputs": [
    {
     "data": {
      "image/png": "[encoded data removed]",
      "text/plain": [
       "<Figure size 432x288 with 1 Axes>"
      ]
     },
     "metadata": {
      "needs_background": "light"
     },
     "output_type": "display_data"
    }
   ],
   "source": [
    "index = [i+1 for i in range(len(training_loss))]\n",
    "plt.plot(index, training_loss, label = \"train loss\")\n",
    "plt.plot(index, validation_loss, label = \"val loss\")\n",
    "plt.xlabel('Iters')\n",
    "plt.ylabel('Loss')\n",
    "plt.title('Loss')\n",
    "plt.legend()\n",
    "plt.show()"
   ]
  },
  {
   "cell_type": "code",
   "execution_count": 13,
   "id": "674e3958",
   "metadata": {},
   "outputs": [],
   "source": [
    "model.eval()\n",
    "likelihood.eval()\n",
    "predictions = []\n",
    "\n",
    "#data= torch.cat((val_data, test_data), 0)\n",
    "#labels = torch.cat((val_labels, test_labels), 0)\n",
    "data = val_data\n",
    "labels = val_labels\n",
    "\n",
    "\n",
    "with torch.no_grad(), gpytorch.settings.fast_pred_var():\n",
    "    predictions.append(likelihood(model(data)))\n"
   ]
  },
  {
   "cell_type": "code",
   "execution_count": 14,
   "id": "16de62cd",
   "metadata": {},
   "outputs": [],
   "source": [
    "pred_means = []\n",
    "pred_uconf = []\n",
    "pred_lconf = []\n",
    "\n",
    "for p in predictions:\n",
    "    pred_means.append(p.mean.numpy())\n",
    "    l, u = p.confidence_region()\n",
    "    pred_lconf.append(l.detach().numpy())\n",
    "    pred_uconf.append(u.detach().numpy())\n",
    "pred_means = pred_means[0]\n",
    "pred_uconf  = pred_uconf[0]\n",
    "pred_lconf = pred_lconf[0]"
   ]
  },
  {
   "cell_type": "code",
   "execution_count": 15,
   "id": "17dcf847",
   "metadata": {},
   "outputs": [],
   "source": [
    "def find_bound_coverage(pred,u_bound,l_bound):\n",
    "    inside = 0\n",
    "    outside = 0\n",
    "    for i,p in enumerate(pred):\n",
    "        if(p < u_bound[i] and p > l_bound[i]):\n",
    "            inside += 1\n",
    "        else:\n",
    "            outside += 1\n",
    "    return (inside * 100)/len(pred), (outside * 100)/len(pred)"
   ]
  },
  {
   "cell_type": "code",
   "execution_count": 16,
   "id": "2bf052a8",
   "metadata": {},
   "outputs": [],
   "source": [
    "inside_percenatge, outside_percentage = find_bound_coverage(labels,pred_uconf,pred_lconf)"
   ]
  },
  {
   "cell_type": "code",
   "execution_count": 17,
   "id": "c518eaf0",
   "metadata": {},
   "outputs": [
    {
     "name": "stdout",
     "output_type": "stream",
     "text": [
      "Inside Percenatge: 74.53183520599251\n",
      "Outside Percenatge: 25.46816479400749\n"
     ]
    }
   ],
   "source": [
    "print('Inside Percenatge: ' + str(inside_percenatge))\n",
    "print('Outside Percenatge: ' + str(outside_percentage))"
   ]
  },
  {
   "cell_type": "code",
   "execution_count": 18,
   "id": "f699cff6",
   "metadata": {},
   "outputs": [],
   "source": [
    "index = [i+1 for i in range(pred_means.shape[0])]"
   ]
  },
  {
   "cell_type": "code",
   "execution_count": 19,
   "id": "5e5d3ac8",
   "metadata": {},
   "outputs": [
    {
     "name": "stdout",
     "output_type": "stream",
     "text": [
      "534\n",
      "534\n"
     ]
    }
   ],
   "source": [
    "print(len(labels))\n",
    "print(len(pred_means))"
   ]
  },
  {
   "cell_type": "code",
   "execution_count": 20,
   "id": "8ed0580a",
   "metadata": {},
   "outputs": [
    {
     "data": {
      "image/png": "[encoded data removed]",
      "text/plain": [
       "<Figure size 432x288 with 1 Axes>"
      ]
     },
     "metadata": {
      "needs_background": "light"
     },
     "output_type": "display_data"
    }
   ],
   "source": [
    "fig, ax = plt.subplots()\n",
    "ax.plot(index,pred_means,label = 'predictions')\n",
    "ax.plot(index,labels,label = 'labels')\n",
    "ax.fill_between(index, pred_lconf, pred_uconf, color='b', alpha=.25)\n",
    "plt.xlabel('Timesteps')\n",
    "plt.ylabel('Predictions')\n",
    "plt.title('Validation and Testing Period')\n",
    "plt.legend()\n",
    "plt.show()"
   ]
  },
  {
   "cell_type": "code",
   "execution_count": null,
   "id": "18f4787b",
   "metadata": {},
   "outputs": [],
   "source": []
  }
 ],
 "metadata": {
  "kernelspec": {
   "display_name": "Python 3",
   "language": "python",
   "name": "python3"
  },
  "language_info": {
   "codemirror_mode": {
    "name": "ipython",
    "version": 3
   },
   "file_extension": ".py",
   "mimetype": "text/x-python",
   "name": "python",
   "nbconvert_exporter": "python",
   "pygments_lexer": "ipython3",
   "version": "3.8.8"
  }
 },
 "nbformat": 4,
 "nbformat_minor": 5
}
