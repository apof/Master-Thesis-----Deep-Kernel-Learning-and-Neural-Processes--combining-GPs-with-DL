{
  "nbformat": 4,
  "nbformat_minor": 5,
  "metadata": {
    "accelerator": "GPU",
    "colab": {
      "name": "Αντίγραφο Deep Kernel Learning.ipynb",
      "provenance": [],
      "collapsed_sections": [],
      "machine_shape": "hm",
      "include_colab_link": true
    },
    "kernelspec": {
      "display_name": "Python 3",
      "language": "python",
      "name": "python3"
    },
    "language_info": {
      "codemirror_mode": {
        "name": "ipython",
        "version": 3
      },
      "file_extension": ".py",
      "mimetype": "text/x-python",
      "name": "python",
      "nbconvert_exporter": "python",
      "pygments_lexer": "ipython3",
      "version": "3.8.8"
    }
  },
  "cells": [
    {
      "cell_type": "markdown",
      "metadata": {
        "id": "view-in-github",
        "colab_type": "text"
      },
      "source": [
        "<a href=\"https://colab.research.google.com/github/apof/ChAI---Deep-Kernel-Learning-combining-GPs-with-DL/blob/main/%CE%91%CE%BD%CF%84%CE%AF%CE%B3%CF%81%CE%B1%CF%86%CE%BF_Deep_Kernel_Learning.ipynb\" target=\"_parent\"><img src=\"https://colab.research.google.com/assets/colab-badge.svg\" alt=\"Open In Colab\"/></a>"
      ]
    },
    {
      "cell_type": "code",
      "metadata": {
        "colab": {
          "base_uri": "https://localhost:8080/"
        },
        "id": "64uVW5pgsQS7",
        "outputId": "3669377e-4dc3-4d15-b167-bbb148b59f22"
      },
      "source": [
        "!pip install gpytorch"
      ],
      "id": "64uVW5pgsQS7",
      "execution_count": null,
      "outputs": [
        {
          "output_type": "stream",
          "text": [
            "Requirement already satisfied: gpytorch in /usr/local/lib/python3.7/dist-packages (1.5.0)\n",
            "Requirement already satisfied: scikit-learn in /usr/local/lib/python3.7/dist-packages (from gpytorch) (0.22.2.post1)\n",
            "Requirement already satisfied: torch>=1.8.1 in /usr/local/lib/python3.7/dist-packages (from gpytorch) (1.9.0+cu102)\n",
            "Requirement already satisfied: scipy in /usr/local/lib/python3.7/dist-packages (from gpytorch) (1.4.1)\n",
            "Requirement already satisfied: numpy>=1.11.0 in /usr/local/lib/python3.7/dist-packages (from scikit-learn->gpytorch) (1.19.5)\n",
            "Requirement already satisfied: joblib>=0.11 in /usr/local/lib/python3.7/dist-packages (from scikit-learn->gpytorch) (1.0.1)\n",
            "Requirement already satisfied: typing-extensions in /usr/local/lib/python3.7/dist-packages (from torch>=1.8.1->gpytorch) (3.7.4.3)\n"
          ],
          "name": "stdout"
        }
      ]
    },
    {
      "cell_type": "code",
      "metadata": {
        "id": "c7122c8a"
      },
      "source": [
        "import torch\n",
        "import torch.nn as nn\n",
        "import torch.nn.functional as F\n",
        "import numpy as np\n",
        "import joblib\n",
        "from IPython.display import clear_output\n",
        "import matplotlib.pyplot as plt\n",
        "from torch.autograd import Variable\n",
        "import copy\n",
        "\n",
        "\n",
        "import math\n",
        "import tqdm\n",
        "import torch\n",
        "import gpytorch\n",
        "from matplotlib import pyplot as plt\n",
        "\n",
        "# Make plots inline\n",
        "%matplotlib inline"
      ],
      "id": "c7122c8a",
      "execution_count": null,
      "outputs": []
    },
    {
      "cell_type": "code",
      "metadata": {
        "colab": {
          "base_uri": "https://localhost:8080/"
        },
        "id": "tasV2uZfsnoV",
        "outputId": "f5579a88-c4cf-432d-e7f2-ca169524bbfc"
      },
      "source": [
        "from google.colab import drive\n",
        "drive.mount('/content/drive')"
      ],
      "id": "tasV2uZfsnoV",
      "execution_count": null,
      "outputs": [
        {
          "output_type": "stream",
          "text": [
            "Drive already mounted at /content/drive; to attempt to forcibly remount, call drive.mount(\"/content/drive\", force_remount=True).\n"
          ],
          "name": "stdout"
        }
      ]
    },
    {
      "cell_type": "code",
      "metadata": {
        "id": "92B_jmfmtCVw"
      },
      "source": [
        "## immport useful utilities from previous coursework\n",
        "import sys\n",
        "sys.path.insert(0,'drive/MyDrive/SNLP/')\n",
        "import utils\n",
        "import models"
      ],
      "id": "92B_jmfmtCVw",
      "execution_count": null,
      "outputs": []
    },
    {
      "cell_type": "code",
      "metadata": {
        "id": "QOWCITtMsw4A"
      },
      "source": [
        "device = torch.device(\"cuda\" if torch.cuda.is_available() else \"cpu\")"
      ],
      "id": "QOWCITtMsw4A",
      "execution_count": null,
      "outputs": []
    },
    {
      "cell_type": "code",
      "metadata": {
        "id": "6QoPfMSds4kV"
      },
      "source": [
        "'''aluminium_inputs = joblib.load('drive/MyDrive/Thesis_Vectors/single_h_aluminium_vectors')\n",
        "aluminium_labels = joblib.load('drive/MyDrive/Thesis_Vectors/single_h_aluminium_labels')\n",
        "aluminium_dates = joblib.load('drive/MyDrive/Thesis_Vectors/single_h_aluminium_dates')'''\n",
        "\n",
        "aluminium_inputs = joblib.load('drive/MyDrive/Thesis_Vectors/single_f_aluminium_vectors')\n",
        "aluminium_labels = joblib.load('drive/MyDrive/Thesis_Vectors/single_f_aluminium_labels')\n",
        "aluminium_dates = joblib.load('drive/MyDrive/Thesis_Vectors/single_f_aluminium_dates')"
      ],
      "id": "6QoPfMSds4kV",
      "execution_count": null,
      "outputs": []
    },
    {
      "cell_type": "code",
      "metadata": {
        "id": "051640f6"
      },
      "source": [
        ""
      ],
      "id": "051640f6",
      "execution_count": null,
      "outputs": []
    },
    {
      "cell_type": "code",
      "metadata": {
        "id": "fe60f47a"
      },
      "source": [
        "train_batches,validation_batches,test_batches = utils.train_test_split(aluminium_inputs,aluminium_labels,aluminium_dates,aluminium_inputs.shape[0],0.8,0.7,0)"
      ],
      "id": "fe60f47a",
      "execution_count": null,
      "outputs": []
    },
    {
      "cell_type": "code",
      "metadata": {
        "id": "dfbdf0a2"
      },
      "source": [
        "train_data,train_labels,train_dates = train_batches[0]\n",
        "test_data,test_labels,test_dates = test_batches[0]\n",
        "val_data,val_labels,val_dates = validation_batches[0]"
      ],
      "id": "dfbdf0a2",
      "execution_count": null,
      "outputs": []
    },
    {
      "cell_type": "code",
      "metadata": {
        "id": "bb7fa056"
      },
      "source": [
        "train_data = torch.from_numpy(train_data).to(device)\n",
        "train_labels = torch.from_numpy(train_labels).to(device)\n",
        "test_data = torch.from_numpy(test_data).to(device)\n",
        "test_labels = torch.from_numpy(test_labels).to(device)\n",
        "val_data = torch.from_numpy(val_data).to(device)\n",
        "val_labels = torch.from_numpy(val_labels).to(device)\n",
        "train_data = torch.squeeze(train_data, dim = 1)\n",
        "test_data = torch.squeeze(test_data, dim = 1)\n",
        "val_data = torch.squeeze(val_data, dim = 1)"
      ],
      "id": "bb7fa056",
      "execution_count": null,
      "outputs": []
    },
    {
      "cell_type": "code",
      "metadata": {
        "colab": {
          "base_uri": "https://localhost:8080/"
        },
        "id": "e6217881",
        "outputId": "50600155-8769-4895-c85c-3ef9b9c5243c"
      },
      "source": [
        "print(train_data.shape)\n",
        "print(train_labels.shape)\n",
        "print(test_data.shape)\n",
        "print(test_labels.shape)\n",
        "print(val_data.shape)\n",
        "print(val_labels.shape)"
      ],
      "id": "e6217881",
      "execution_count": null,
      "outputs": [
        {
          "output_type": "stream",
          "text": [
            "torch.Size([672, 55])\n",
            "torch.Size([672])\n",
            "torch.Size([50, 55])\n",
            "torch.Size([50])\n",
            "torch.Size([118, 55])\n",
            "torch.Size([118])\n"
          ],
          "name": "stdout"
        }
      ]
    },
    {
      "cell_type": "code",
      "metadata": {
        "id": "bcdbc32b"
      },
      "source": [
        "representation_dim = 2\n",
        "KERNEL = 'RBF'\n",
        "#KERNEL = 'SKI'\n",
        "#KERNEL = 'MIX'"
      ],
      "id": "bcdbc32b",
      "execution_count": null,
      "outputs": []
    },
    {
      "cell_type": "code",
      "metadata": {
        "id": "18534ecc"
      },
      "source": [
        "class GPRegressionModel(gpytorch.models.ExactGP):\n",
        "        def __init__(self, train_x, train_y, likelihood):\n",
        "            super(GPRegressionModel, self).__init__(train_x, train_y, likelihood)\n",
        "            self.mean_module = gpytorch.means.ConstantMean()\n",
        "            if(KERNEL == 'SKI'):\n",
        "                self.covar_module = gpytorch.kernels.GridInterpolationKernel(\n",
        "                    gpytorch.kernels.ScaleKernel(gpytorch.kernels.RBFKernel(ard_num_dims=representation_dim)),\n",
        "                    num_dims=representation_dim, grid_size=100\n",
        "                )\n",
        "            elif(KERNEL == 'RBF'):\n",
        "                self.covar_module = gpytorch.kernels.ScaleKernel(gpytorch.kernels.RBFKernel())\n",
        "            else:\n",
        "                self.covar_module = gpytorch.kernels.SpectralMixtureKernel(num_mixtures=4, ard_num_dims=representation_dim)\n",
        "                \n",
        "            self.feature_extractor = models.MLPFeatureExtractor(train_data.size(-1),representation_dim)\n",
        "            #self.feature_extractor = RnnRegressor(device,params_dictionary,0)\n",
        "\n",
        "        def forward(self, x):\n",
        "            # We're first putting our data through a deep net (feature extractor)\n",
        "            # We're also scaling the features so that they're nice values\n",
        "            #projected_x = self.feature_extractor((x,None,None))\n",
        "            projected_x = self.feature_extractor(x)\n",
        "            projected_x = projected_x - projected_x.min(0)[0]\n",
        "            projected_x = 2 * (projected_x / projected_x.max(0)[0]) - 1\n",
        "\n",
        "            #projected_x = projected_x.to(dtype=torch.double)\n",
        "\n",
        "            mean_x = self.mean_module(projected_x)\n",
        "            covar_x = self.covar_module(projected_x)\n",
        "            return gpytorch.distributions.MultivariateNormal(mean_x, covar_x)\n",
        "        \n",
        "        \n",
        "        def get_representation(self,x):\n",
        "            return self.feature_extractor(x)   "
      ],
      "id": "18534ecc",
      "execution_count": null,
      "outputs": []
    },
    {
      "cell_type": "code",
      "metadata": {
        "id": "9c47efc1"
      },
      "source": [
        "likelihood = gpytorch.likelihoods.GaussianLikelihood()\n",
        "model = GPRegressionModel(train_data,train_labels, likelihood).double()\n",
        "\n",
        "if torch.cuda.is_available():\n",
        "    model = model.cuda()\n",
        "    likelihood = likelihood.cuda()"
      ],
      "id": "9c47efc1",
      "execution_count": null,
      "outputs": []
    },
    {
      "cell_type": "code",
      "metadata": {
        "colab": {
          "base_uri": "https://localhost:8080/"
        },
        "id": "4e491c29",
        "outputId": "e96553aa-4e11-4efd-aa1f-cd617db9cd07"
      },
      "source": [
        "\n",
        "# Find optimal model hyperparameters\n",
        "model.train()\n",
        "likelihood.train()\n",
        "\n",
        "# Use the adam optimizer\n",
        "optimizer = torch.optim.Adam([\n",
        "    {'params': model.feature_extractor.parameters()},\n",
        "    {'params': model.covar_module.parameters()},\n",
        "    {'params': model.mean_module.parameters()},\n",
        "    {'params': model.likelihood.parameters()},\n",
        "], lr=0.01)\n",
        "\n",
        "# \"Loss\" for GPs - the marginal log likelihood\n",
        "mll = gpytorch.mlls.ExactMarginalLogLikelihood(likelihood, model)\n",
        "\n",
        "training_iterations = 5000\n",
        "\n",
        "training_loss = []\n",
        "validation_loss = []\n",
        "\n",
        "def train():\n",
        "    \n",
        "    best_cost=1000000 \n",
        "    stop = False\n",
        "    last_improvement=0\n",
        "    require_improvement = 100\n",
        "    best_model = None\n",
        "    epoch = 0\n",
        "    \n",
        "    while(stop == False):\n",
        "        # Find optimal model hyperparameters\n",
        "        model.train()\n",
        "        likelihood.train()\n",
        "        \n",
        "        epoch += 1\n",
        "        \n",
        "        # Zero backprop gradients\n",
        "        optimizer.zero_grad()\n",
        "        # Get output from model\n",
        "        output = model(train_data)\n",
        "        # Calc loss and backprop derivatives\n",
        "        loss = -mll(output, train_labels)\n",
        "        training_loss.append(loss.item())\n",
        "        loss.backward()\n",
        "        optimizer.step()\n",
        "        \n",
        "        print(\"epoch  \" + str(epoch+1) + \" \" + str(training_loss[-1]))\n",
        "        clear_output(wait=True)\n",
        "        \n",
        "        # Get into evaluation (predictive posterior) mode\n",
        "        model.eval()\n",
        "        likelihood.eval()\n",
        "                \n",
        "        with torch.no_grad(), gpytorch.settings.fast_pred_var(), gpytorch.settings.use_toeplitz(False):\n",
        "            ## Calculate the validation loss\n",
        "            val_loss = -mll(model(val_data), val_labels)\n",
        "            validation_loss.append(val_loss.item())\n",
        "            \n",
        "            \n",
        "            avg_cost = val_loss\n",
        "            if avg_cost < best_cost:\n",
        "                best_cost = avg_cost\n",
        "                last_improvement = 0\n",
        "                best_model_state = copy.deepcopy(model.state_dict())\n",
        "                torch.save(best_model_state, 'DKL.pt')\n",
        "            else:\n",
        "                last_improvement +=1\n",
        "                \n",
        "            if last_improvement > require_improvement:\n",
        "                print(\"No improvement found during the last iterations, stopping optimization at epoch: \" + str(epoch))\n",
        "                # Break out from the loop.\n",
        "                stop = True\n",
        "        \n",
        "\n",
        "%time train()"
      ],
      "id": "4e491c29",
      "execution_count": null,
      "outputs": [
        {
          "output_type": "stream",
          "text": [
            "No improvement found during the last iterations, stopping optimization at epoch: 111\n",
            "CPU times: user 3.21 s, sys: 179 ms, total: 3.39 s\n",
            "Wall time: 3.25 s\n"
          ],
          "name": "stdout"
        }
      ]
    },
    {
      "cell_type": "code",
      "metadata": {
        "colab": {
          "base_uri": "https://localhost:8080/",
          "height": 295
        },
        "id": "62d57477",
        "outputId": "f8f89eb2-18c9-4a50-9414-f397a13d0c5e"
      },
      "source": [
        "index = [i+1 for i in range(len(training_loss))]\n",
        "plt.plot(index, training_loss, label = \"train loss\")\n",
        "plt.plot(index, validation_loss, label = \"val loss\")\n",
        "plt.xlabel('Iters')\n",
        "plt.ylabel('Loss')\n",
        "plt.title('Loss')\n",
        "plt.legend()\n",
        "plt.show()"
      ],
      "id": "62d57477",
      "execution_count": null,
      "outputs": [
        {
          "output_type": "display_data",
          "data": {
            "image/png": "[encoded data removed]",
            "text/plain": [
              "<Figure size 432x288 with 1 Axes>"
            ]
          },
          "metadata": {
            "tags": [],
            "needs_background": "light"
          }
        }
      ]
    },
    {
      "cell_type": "code",
      "metadata": {
        "id": "674e3958"
      },
      "source": [
        "model.eval()\n",
        "likelihood.eval()\n",
        "predictions = []\n",
        "\n",
        "#data= torch.cat((val_data, test_data), 0)\n",
        "#labels = torch.cat((val_labels, test_labels), 0)\n",
        "data = val_data\n",
        "labels = val_labels\n",
        "\n",
        "\n",
        "with torch.no_grad(), gpytorch.settings.fast_pred_var():\n",
        "    predictions.append(likelihood(model(data)))\n"
      ],
      "id": "674e3958",
      "execution_count": null,
      "outputs": []
    },
    {
      "cell_type": "code",
      "metadata": {
        "id": "16de62cd"
      },
      "source": [
        "pred_means = []\n",
        "pred_uconf = []\n",
        "pred_lconf = []\n",
        "\n",
        "for p in predictions:\n",
        "    pred_means.append(p.mean.cpu().numpy())\n",
        "    l, u = p.confidence_region()\n",
        "    pred_lconf.append(l.cpu().detach().numpy())\n",
        "    pred_uconf.append(u.cpu().detach().numpy())\n",
        "pred_means = pred_means[0]\n",
        "pred_uconf  = pred_uconf[0]\n",
        "pred_lconf = pred_lconf[0]"
      ],
      "id": "16de62cd",
      "execution_count": null,
      "outputs": []
    },
    {
      "cell_type": "code",
      "metadata": {
        "id": "17dcf847"
      },
      "source": [
        "def find_bound_coverage(pred,u_bound,l_bound):\n",
        "    inside = 0\n",
        "    outside = 0\n",
        "    for i,p in enumerate(pred):\n",
        "        if(p < u_bound[i] and p > l_bound[i]):\n",
        "            inside += 1\n",
        "        else:\n",
        "            outside += 1\n",
        "    return (inside * 100)/len(pred), (outside * 100)/len(pred)"
      ],
      "id": "17dcf847",
      "execution_count": null,
      "outputs": []
    },
    {
      "cell_type": "code",
      "metadata": {
        "id": "2bf052a8"
      },
      "source": [
        "inside_percenatge, outside_percentage = find_bound_coverage(labels,pred_uconf,pred_lconf)"
      ],
      "id": "2bf052a8",
      "execution_count": null,
      "outputs": []
    },
    {
      "cell_type": "code",
      "metadata": {
        "colab": {
          "base_uri": "https://localhost:8080/"
        },
        "id": "c518eaf0",
        "outputId": "53008a1f-211c-45d1-cb49-0ad199977e14"
      },
      "source": [
        "print('Inside Percenatge: ' + str(inside_percenatge))\n",
        "print('Outside Percenatge: ' + str(outside_percentage))"
      ],
      "id": "c518eaf0",
      "execution_count": null,
      "outputs": [
        {
          "output_type": "stream",
          "text": [
            "Inside Percenatge: 88.13559322033899\n",
            "Outside Percenatge: 11.864406779661017\n"
          ],
          "name": "stdout"
        }
      ]
    },
    {
      "cell_type": "code",
      "metadata": {
        "id": "f699cff6"
      },
      "source": [
        "index = [i+1 for i in range(pred_means.shape[0])]"
      ],
      "id": "f699cff6",
      "execution_count": null,
      "outputs": []
    },
    {
      "cell_type": "code",
      "metadata": {
        "colab": {
          "base_uri": "https://localhost:8080/"
        },
        "id": "5e5d3ac8",
        "outputId": "89da5e2e-7c74-4f89-8ed4-1dc50e633424"
      },
      "source": [
        "print(len(labels))\n",
        "print(len(pred_means))"
      ],
      "id": "5e5d3ac8",
      "execution_count": null,
      "outputs": [
        {
          "output_type": "stream",
          "text": [
            "118\n",
            "118\n"
          ],
          "name": "stdout"
        }
      ]
    },
    {
      "cell_type": "code",
      "metadata": {
        "colab": {
          "base_uri": "https://localhost:8080/",
          "height": 295
        },
        "id": "8ed0580a",
        "outputId": "a3f3836c-c3bb-4e0c-84a7-4d70a528a4a1"
      },
      "source": [
        "fig, ax = plt.subplots()\n",
        "ax.plot(index,pred_means,label = 'predictions')\n",
        "ax.plot(index,labels.cpu().detach().numpy(),label = 'labels')\n",
        "ax.fill_between(index, pred_lconf, pred_uconf, color='b', alpha=.25)\n",
        "plt.xlabel('Timesteps')\n",
        "plt.ylabel('Predictions')\n",
        "plt.title('Validation and Testing Period')\n",
        "plt.legend()\n",
        "plt.show()"
      ],
      "id": "8ed0580a",
      "execution_count": null,
      "outputs": [
        {
          "output_type": "display_data",
          "data": {
            "image/png": "[encoded data removed]",
            "text/plain": [
              "<Figure size 432x288 with 1 Axes>"
            ]
          },
          "metadata": {
            "tags": [],
            "needs_background": "light"
          }
        }
      ]
    },
    {
      "cell_type": "code",
      "metadata": {
        "id": "18f4787b"
      },
      "source": [
        "low_dim_represenations = model.get_representation(train_data).cpu().detach().numpy()"
      ],
      "id": "18f4787b",
      "execution_count": null,
      "outputs": []
    },
    {
      "cell_type": "code",
      "metadata": {
        "colab": {
          "base_uri": "https://localhost:8080/",
          "height": 201
        },
        "id": "d4581edc",
        "outputId": "bc752f62-b5ec-4cac-ac8a-dc96a34677ac"
      },
      "source": [
        "x = low_dim_represenations[:,0]\n",
        "y = low_dim_represenations[:,1]\n",
        "z = low_dim_represenations[:,2]"
      ],
      "id": "d4581edc",
      "execution_count": null,
      "outputs": [
        {
          "output_type": "error",
          "ename": "IndexError",
          "evalue": "ignored",
          "traceback": [
            "\u001b[0;31m---------------------------------------------------------------------------\u001b[0m",
            "\u001b[0;31mIndexError\u001b[0m                                Traceback (most recent call last)",
            "\u001b[0;32m<ipython-input-25-99cf34b8e8d5>\u001b[0m in \u001b[0;36m<module>\u001b[0;34m()\u001b[0m\n\u001b[1;32m      1\u001b[0m \u001b[0mx\u001b[0m \u001b[0;34m=\u001b[0m \u001b[0mlow_dim_represenations\u001b[0m\u001b[0;34m[\u001b[0m\u001b[0;34m:\u001b[0m\u001b[0;34m,\u001b[0m\u001b[0;36m0\u001b[0m\u001b[0;34m]\u001b[0m\u001b[0;34m\u001b[0m\u001b[0;34m\u001b[0m\u001b[0m\n\u001b[1;32m      2\u001b[0m \u001b[0my\u001b[0m \u001b[0;34m=\u001b[0m \u001b[0mlow_dim_represenations\u001b[0m\u001b[0;34m[\u001b[0m\u001b[0;34m:\u001b[0m\u001b[0;34m,\u001b[0m\u001b[0;36m1\u001b[0m\u001b[0;34m]\u001b[0m\u001b[0;34m\u001b[0m\u001b[0;34m\u001b[0m\u001b[0m\n\u001b[0;32m----> 3\u001b[0;31m \u001b[0mz\u001b[0m \u001b[0;34m=\u001b[0m \u001b[0mlow_dim_represenations\u001b[0m\u001b[0;34m[\u001b[0m\u001b[0;34m:\u001b[0m\u001b[0;34m,\u001b[0m\u001b[0;36m2\u001b[0m\u001b[0;34m]\u001b[0m\u001b[0;34m\u001b[0m\u001b[0;34m\u001b[0m\u001b[0m\n\u001b[0m",
            "\u001b[0;31mIndexError\u001b[0m: index 2 is out of bounds for axis 1 with size 2"
          ]
        }
      ]
    },
    {
      "cell_type": "code",
      "metadata": {
        "id": "439451a3"
      },
      "source": [
        "from mpl_toolkits import mplot3d\n",
        "%matplotlib inline\n",
        "import numpy as np\n",
        "import matplotlib.pyplot as plt"
      ],
      "id": "439451a3",
      "execution_count": null,
      "outputs": []
    },
    {
      "cell_type": "code",
      "metadata": {
        "id": "b4209870"
      },
      "source": [
        "fig = plt.figure()\n",
        "ax = plt.axes(projection='3d')\n",
        "ax.scatter3D(x, y, z)\n",
        "\n",
        "ax.view_init(-140, 600)\n"
      ],
      "id": "b4209870",
      "execution_count": null,
      "outputs": []
    }
  ]
}