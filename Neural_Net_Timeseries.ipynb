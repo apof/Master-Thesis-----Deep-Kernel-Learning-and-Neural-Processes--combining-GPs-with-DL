{
  "nbformat": 4,
  "nbformat_minor": 0,
  "metadata": {
    "kernelspec": {
      "display_name": "Python 3",
      "language": "python",
      "name": "python3"
    },
    "language_info": {
      "codemirror_mode": {
        "name": "ipython",
        "version": 3
      },
      "file_extension": ".py",
      "mimetype": "text/x-python",
      "name": "python",
      "nbconvert_exporter": "python",
      "pygments_lexer": "ipython3",
      "version": "3.7.3"
    },
    "colab": {
      "name": "Neural Net Timeseries.ipynb",
      "provenance": [],
      "collapsed_sections": [],
      "include_colab_link": true
    }
  },
  "cells": [
    {
      "cell_type": "markdown",
      "metadata": {
        "id": "view-in-github",
        "colab_type": "text"
      },
      "source": [
        "<a href=\"https://colab.research.google.com/github/apof/ChAI---GPs---Master-Thesis/blob/main/Neural_Net_Timeseries.ipynb\" target=\"_parent\"><img src=\"https://colab.research.google.com/assets/colab-badge.svg\" alt=\"Open In Colab\"/></a>"
      ]
    },
    {
      "cell_type": "code",
      "metadata": {
        "id": "Q8ndKNkMc4lg"
      },
      "source": [
        "import torch\n",
        "import torch.nn as nn\n",
        "import torch.nn.functional as F\n",
        "import numpy as np\n",
        "import joblib\n",
        "from IPython.display import clear_output\n",
        "import matplotlib.pyplot as plt\n",
        "from torch.autograd import Variable"
      ],
      "execution_count": null,
      "outputs": []
    },
    {
      "cell_type": "code",
      "metadata": {
        "colab": {
          "base_uri": "https://localhost:8080/"
        },
        "id": "gL5Dvsh3eGwL",
        "outputId": "4bd61d14-d6e3-45ce-8306-f5676044b676"
      },
      "source": [
        "from google.colab import drive\n",
        "drive.mount('/content/drive')"
      ],
      "execution_count": null,
      "outputs": [
        {
          "output_type": "stream",
          "text": [
            "Drive already mounted at /content/drive; to attempt to forcibly remount, call drive.mount(\"/content/drive\", force_remount=True).\n"
          ],
          "name": "stdout"
        }
      ]
    },
    {
      "cell_type": "code",
      "metadata": {
        "id": "Y_hlVaQadjLd"
      },
      "source": [
        "## immport useful utilities from previous coursework\n",
        "import sys\n",
        "sys.path.insert(0,'drive/MyDrive/SNLP/')\n",
        "import utils"
      ],
      "execution_count": null,
      "outputs": []
    },
    {
      "cell_type": "code",
      "metadata": {
        "id": "dMPdv3-Sc4lh"
      },
      "source": [
        "device = torch.device(\"cuda\" if torch.cuda.is_available() else \"cpu\")"
      ],
      "execution_count": null,
      "outputs": []
    },
    {
      "cell_type": "code",
      "metadata": {
        "id": "NUMSvmiqc4li"
      },
      "source": [
        "inputs = joblib.load('drive/MyDrive/Datasets/ChAIVectors/aluminium_vectors')\n",
        "labels = joblib.load('drive/MyDrive/Datasets/ChAIVectors/aluminium_labels')\n",
        "dates = joblib.load('drive/MyDrive/Datasets/ChAIVectors/dates')"
      ],
      "execution_count": null,
      "outputs": []
    },
    {
      "cell_type": "code",
      "metadata": {
        "id": "Z0H9sZCvc4li",
        "colab": {
          "base_uri": "https://localhost:8080/"
        },
        "outputId": "241c618e-cb41-4296-f259-104ca699adee"
      },
      "source": [
        "print(inputs.shape)\n",
        "print(labels.shape)\n",
        "print(dates.shape)"
      ],
      "execution_count": null,
      "outputs": [
        {
          "output_type": "stream",
          "text": [
            "(973, 3, 30)\n",
            "(973,)\n",
            "(973,)\n"
          ],
          "name": "stdout"
        }
      ]
    },
    {
      "cell_type": "code",
      "metadata": {
        "id": "poCJ7E6Hc4lj"
      },
      "source": [
        "train_batches,validation_batches,test_batches = utils.train_test_split(inputs,labels,dates,inputs.shape[0],0.9,0)"
      ],
      "execution_count": null,
      "outputs": []
    },
    {
      "cell_type": "code",
      "metadata": {
        "id": "sXFqBdGnc4lj",
        "colab": {
          "base_uri": "https://localhost:8080/"
        },
        "outputId": "7b4a940d-b1bf-46af-b8f3-a5805b1f4632"
      },
      "source": [
        "train_data,train_labels,train_dates = train_batches[0]\n",
        "test_data,test_labels,test_dates = test_batches[0]\n",
        "val_data,val_labels,val_dates = validation_batches[0]\n",
        "print(\"Train Dates: \" + train_dates[0] + \" \" + train_dates[-1])\n",
        "print(\"Val Dates: \" + val_dates[0] + \" \" + val_dates[-1])\n",
        "print(\"Test Dates: \" + test_dates[0] + \" \" + test_dates[-1])"
      ],
      "execution_count": null,
      "outputs": [
        {
          "output_type": "stream",
          "text": [
            "Train Dates: 2017-05-19 2020-09-25\n",
            "Val Dates: 2020-09-28 2020-12-03\n",
            "Test Dates: 2020-12-03 2021-02-09\n"
          ],
          "name": "stdout"
        }
      ]
    },
    {
      "cell_type": "code",
      "metadata": {
        "id": "8rckJkZwc4lk"
      },
      "source": [
        "train_data = torch.from_numpy(train_data).to(dtype=torch.float16).to(device)\n",
        "train_labels = torch.from_numpy(train_labels).to(device)\n",
        "test_data = torch.from_numpy(test_data).to(dtype=torch.float16).to(device)\n",
        "test_labels = torch.from_numpy(test_labels).to(device)\n",
        "val_data = torch.from_numpy(val_data).to(dtype=torch.float16).to(device)\n",
        "val_labels = torch.from_numpy(val_labels).to(device)"
      ],
      "execution_count": null,
      "outputs": []
    },
    {
      "cell_type": "code",
      "metadata": {
        "id": "1jImdNcqc4lk"
      },
      "source": [
        "train_labels = torch.reshape(train_labels, (train_labels.shape[0], 1))\n",
        "test_labels = torch.reshape(test_labels, (test_labels.shape[0], 1))\n",
        "val_labels = torch.reshape(val_labels, (val_labels.shape[0], 1))"
      ],
      "execution_count": null,
      "outputs": []
    },
    {
      "cell_type": "code",
      "metadata": {
        "id": "M0u7Kh3Zc4ll",
        "colab": {
          "base_uri": "https://localhost:8080/"
        },
        "outputId": "29a36965-f457-4fc9-9dcd-c0d72de11de7"
      },
      "source": [
        "print(train_data.shape)\n",
        "print(train_labels.shape)\n",
        "print(test_data.shape)\n",
        "print(test_labels.shape)\n",
        "print(val_data.shape)\n",
        "print(val_labels.shape)"
      ],
      "execution_count": null,
      "outputs": [
        {
          "output_type": "stream",
          "text": [
            "torch.Size([876, 3, 30])\n",
            "torch.Size([876, 1])\n",
            "torch.Size([49, 3, 30])\n",
            "torch.Size([49, 1])\n",
            "torch.Size([49, 3, 30])\n",
            "torch.Size([49, 1])\n"
          ],
          "name": "stdout"
        }
      ]
    },
    {
      "cell_type": "code",
      "metadata": {
        "id": "TBiHB012c4ll"
      },
      "source": [
        "## define a dictionary with the parameters of the Neural Network\n",
        "params_dictionary = {}\n",
        "params_dictionary['embedding_size'] = train_data[0].shape[1]\n",
        "params_dictionary['hidden_dim'] = 64\n",
        "params_dictionary['linear_dims'] = [16,8]\n",
        "params_dictionary['bidirectional'] = False\n",
        "params_dictionary['label_size'] = 1\n",
        "params_dictionary['dropout'] = 0.0\n",
        "params_dictionary['rnn_layers_num'] = 1\n",
        "params_dictionary['attention_layer'] = False"
      ],
      "execution_count": null,
      "outputs": []
    },
    {
      "cell_type": "code",
      "metadata": {
        "id": "3tu34BQMc4ll"
      },
      "source": [
        "class Attention(nn.Module):\n",
        "    def __init__(self, device,hidden_size):\n",
        "        super(Attention, self).__init__()\n",
        "        self.device = device\n",
        "        self.hidden_size = hidden_size\n",
        "\n",
        "        self.concat_linear = nn.Linear(self.hidden_size * 2, self.hidden_size)\n",
        "        self.attn = nn.Linear(self.hidden_size, hidden_size)\n",
        "\n",
        "        ## add this model the same same device with the RNN\n",
        "        self.to(device)\n",
        "\n",
        "    def forward(self, rnn_outputs, final_hidden_state):\n",
        "        attn_weights = self.attn(rnn_outputs) # (batch_size, seq_len, hidden_dim)\n",
        "        attn_weights = torch.bmm(attn_weights, final_hidden_state.unsqueeze(2))\n",
        "        attn_weights = F.softmax(attn_weights.squeeze(2), dim=1)\n",
        "        context = torch.bmm(rnn_outputs.transpose(1, 2), attn_weights.unsqueeze(2)).squeeze(2)\n",
        "        attn_hidden = torch.tanh(self.concat_linear(torch.cat((context, final_hidden_state), dim=1)))\n",
        "        return attn_hidden, attn_weights"
      ],
      "execution_count": null,
      "outputs": []
    },
    {
      "cell_type": "code",
      "metadata": {
        "id": "rm1uXZoTc4lm"
      },
      "source": [
        "class RnnRegressor(nn.Module):\n",
        "    def __init__(self, device, params_dictionary):\n",
        "        super(RnnRegressor, self).__init__()\n",
        "        self.params = params_dictionary\n",
        "        self.device = device\n",
        "\n",
        "        # Calculate number of directions\n",
        "        self.num_directions = 2 if self.params.get('bidirectional') == True else 1\n",
        "\n",
        "        # define an attention model\n",
        "        # Choose attention model\n",
        "        self.attention = Attention(self.device,self.params.get('hidden_dim')* self.num_directions)\n",
        "\n",
        "        ## here store in a list all the dimensions of the layers rnn_output --> linear layers --> labels layer\n",
        "        self.linear_dims = [self.params.get('hidden_dim') * self.num_directions] + self.params.get('linear_dims')\n",
        "        self.linear_dims.append(self.params.get('label_size'))\n",
        "\n",
        "        # Work with LSTM cell for now\n",
        "        self.rnn = nn.LSTM\n",
        "\n",
        "        ## define the RNN layer\n",
        "        self.rnn = self.rnn(self.params.get('embedding_size'),\n",
        "                            self.params.get('hidden_dim'),\n",
        "                            num_layers=self.params.get('rnn_layers_num'),\n",
        "                            bidirectional=self.params.get('bidirectional'),\n",
        "                            dropout=float(self.params.get('dropout')),\n",
        "                            batch_first=True)\n",
        "        \n",
        "        ## the hidden state of the RNN empty for now\n",
        "        self.hidden = None\n",
        "        \n",
        "        # Define set of fully connected layers (Linear Layer + Activation Layer)\n",
        "        ## this set of layers takes the output of the RNN or the Attention layer and applies a feedforward NN on it\n",
        "        ## consecutive linear + Relu layers are applied (the final layer does not have a relu activation!)\n",
        "        self.linears = nn.ModuleList()\n",
        "        for i in range(0, len(self.linear_dims)-1):\n",
        "            if self.params.get('dropout') > 0.0:\n",
        "                self.linears.append(nn.Dropout(p=self.params.get('dropout')))\n",
        "            linear_layer = nn.Linear(self.linear_dims[i], self.linear_dims[i+1])\n",
        "            self.init_weights(linear_layer)\n",
        "            self.linears.append(linear_layer)\n",
        "            if i == len(self.linear_dims) - 1:\n",
        "                break\n",
        "            self.linears.append(nn.ReLU())\n",
        "\n",
        "        self.to(self.device)\n",
        "\n",
        "    def init_weights(self, layer):\n",
        "        if type(layer) == nn.Linear:\n",
        "            torch.nn.init.xavier_uniform_(layer.weight)\n",
        "            layer.bias.data.fill_(0.01)\n",
        "\n",
        "    def init_hidden(self, batch_size):\n",
        "        return (torch.zeros(self.params.get('rnn_layers_num') * self.num_directions, batch_size, self.params.get('hidden_dim')).to(self.device),\n",
        "              torch.zeros(self.params.get('rnn_layers_num') * self.num_directions, batch_size, self.params.get('hidden_dim')).to(self.device))\n",
        "      \n",
        "\n",
        "    def forward(self, inputs):\n",
        "        batch_size, seq_len, embedding_size = inputs.shape\n",
        "\n",
        "\n",
        "        embedded_inputs = inputs\n",
        "\n",
        "        ## initialise the hidden state of the RNN\n",
        "        self.hidden = self.init_hidden(batch_size)\n",
        "\n",
        "        ## pass the data through the recurrent layer\n",
        "        rnn_output, self.hidden = self.rnn(embedded_inputs.float(), self.hidden)\n",
        "\n",
        "        ## Collect last hidden state\n",
        "        final_state = self.hidden[0].view(self.params.get('rnn_layers_num'), self.num_directions, batch_size, self.params.get('hidden_dim'))[-1]\n",
        "\n",
        "        # Handle directions if more than one\n",
        "        final_hidden_state = None\n",
        "        ## in case we have only one direction\n",
        "        if self.num_directions == 1:\n",
        "            final_hidden_state = final_state.squeeze(0)\n",
        "        ## in case we have 2 directions concatenate these two states\n",
        "        elif self.num_directions == 2:\n",
        "            h_1, h_2 = final_state[0], final_state[1]\n",
        "            final_hidden_state = torch.cat((h_1, h_2), 1)  # Concatenate both states\n",
        "\n",
        "        ## Attention Layer\n",
        "        if(self.params.get('attention_layer') == False):\n",
        "            X = final_hidden_state\n",
        "        else:\n",
        "            rnn_output = rnn_output.permute(1, 0, 2)\n",
        "            X, attention_weights = self.attention(rnn_output, final_hidden_state)\n",
        "\n",
        "        # Push through linear layers\n",
        "        for l in self.linears:\n",
        "            X = l(X)\n",
        "\n",
        "        return X"
      ],
      "execution_count": null,
      "outputs": []
    },
    {
      "cell_type": "code",
      "metadata": {
        "id": "qGLCOpl-c4lo"
      },
      "source": [
        "model = RnnRegressor(device,params_dictionary)"
      ],
      "execution_count": null,
      "outputs": []
    },
    {
      "cell_type": "code",
      "metadata": {
        "id": "kS7quHZNc4lo"
      },
      "source": [
        "loss = nn.MSELoss()\n",
        "optimizer =  torch.optim.Adam(model.parameters(), lr=0.01)"
      ],
      "execution_count": null,
      "outputs": []
    },
    {
      "cell_type": "code",
      "metadata": {
        "id": "3uOOyyauc4lo",
        "colab": {
          "base_uri": "https://localhost:8080/"
        },
        "outputId": "52cd2423-7543-417d-ad9d-fcafbffb9ecd"
      },
      "source": [
        "train_loss = []\n",
        "valid_loss = []\n",
        "\n",
        "training_iter = 1000\n",
        "    \n",
        "#for early stopping :\n",
        "best_cost=1000000 \n",
        "stop = False\n",
        "last_improvement=0\n",
        "require_improvement = 15\n",
        "best_model = None\n",
        "epoch = 0\n",
        "\n",
        "while epoch < training_iter and stop == False:\n",
        "\n",
        "    epoch += 1\n",
        "    loss_batches = []\n",
        "    optimizer.zero_grad()\n",
        "    y_pred = model.forward(train_data)\n",
        "    single_loss = loss(y_pred,train_labels.float()).to(device)\n",
        "    single_loss.backward()\n",
        "    optimizer.step()\n",
        "    train_loss.append(single_loss.item())\n",
        "\n",
        "    ## compute and store the validation loss\n",
        "    valid_pred = model.forward(val_data)\n",
        "    val_loss = loss(valid_pred,val_labels.float().to(device)).item()\n",
        "    valid_loss.append(val_loss)\n",
        "\n",
        "    print(\"epoch  \" + str(epoch) + \" \" + str(train_loss[-1]))\n",
        "    print(\"epoch  \" + str(epoch) + \" \" + str(valid_loss[-1]))\n",
        "    clear_output(wait=True)\n",
        "\n",
        "    avg_cost = val_loss\n",
        "    if avg_cost < best_cost:\n",
        "      best_cost = avg_cost\n",
        "      last_improvement = 0\n",
        "      best_model = model\n",
        "    else:\n",
        "      last_improvement +=1\n",
        "            \n",
        "    if last_improvement > require_improvement:\n",
        "      print(\"No improvement found during the last iterations, stopping optimization at epoch: \" + str(epoch))\n",
        "      # Break out from the loop.\n",
        "      stop = True\n",
        "      model = best_model\n",
        "            "
      ],
      "execution_count": null,
      "outputs": [
        {
          "output_type": "stream",
          "text": [
            "No improvement found during the last iterations, stopping optimization at epoch: 59\n"
          ],
          "name": "stdout"
        }
      ]
    },
    {
      "cell_type": "code",
      "metadata": {
        "id": "QP4_mxwXc4lp",
        "colab": {
          "base_uri": "https://localhost:8080/",
          "height": 295
        },
        "outputId": "4e6a7206-d6b6-49c2-d652-899821bf9753"
      },
      "source": [
        "iters = [i+1 for i in range(len(train_loss))]\n",
        "plt.plot(iters, train_loss ,label = \"training loss\")\n",
        "plt.plot(iters, valid_loss, label = \"validation loss\")\n",
        "plt.xlabel('Loss')\n",
        "plt.ylabel('Iterations')\n",
        "plt.title('Validation vs Training Loss during Training')\n",
        "plt.legend()\n",
        "plt.show()"
      ],
      "execution_count": null,
      "outputs": [
        {
          "output_type": "display_data",
          "data": {
            "image/png": "[encoded data removed]",
            "text/plain": [
              "<Figure size 432x288 with 1 Axes>"
            ]
          },
          "metadata": {
            "tags": [],
            "needs_background": "light"
          }
        }
      ]
    },
    {
      "cell_type": "code",
      "metadata": {
        "id": "tJMtKNsBs7ba"
      },
      "source": [
        "validation_predictions = model.forward(val_data).detach().numpy()\n",
        "test_predictions = model.forward(test_data).detach().numpy()\n",
        "test_labels = test_labels.detach().numpy()\n",
        "val_labels = val_labels.detach().numpy()"
      ],
      "execution_count": null,
      "outputs": []
    },
    {
      "cell_type": "code",
      "metadata": {
        "id": "Url6rCQGtaWQ"
      },
      "source": [
        "index_1 = [i+1 for i in range(len(validation_predictions))]\n",
        "index_2 = [i+1 for i in range(len(test_predictions))]"
      ],
      "execution_count": null,
      "outputs": []
    },
    {
      "cell_type": "code",
      "metadata": {
        "colab": {
          "base_uri": "https://localhost:8080/",
          "height": 295
        },
        "id": "rH7DDI6NsNhr",
        "outputId": "60b74cd1-b65d-44dc-946c-c50041851218"
      },
      "source": [
        "plt.plot(index_1, validation_predictions ,label = \"predictions\")\n",
        "plt.plot(index_1, val_labels, label = \"ground truth\")\n",
        "plt.xlabel('Values')\n",
        "plt.ylabel('dates')\n",
        "plt.title('Predictions Vs Ground Truth')\n",
        "plt.legend()\n",
        "plt.show()"
      ],
      "execution_count": null,
      "outputs": [
        {
          "output_type": "display_data",
          "data": {
            "image/png": "[encoded data removed]",
            "text/plain": [
              "<Figure size 432x288 with 1 Axes>"
            ]
          },
          "metadata": {
            "tags": [],
            "needs_background": "light"
          }
        }
      ]
    },
    {
      "cell_type": "code",
      "metadata": {
        "colab": {
          "base_uri": "https://localhost:8080/",
          "height": 295
        },
        "id": "NZrTChgkuBA8",
        "outputId": "f3cc81b0-3ea9-4679-b4f5-00939446d04f"
      },
      "source": [
        "plt.plot(index_2, test_predictions ,label = \"predictions\")\n",
        "plt.plot(index_2, test_labels, label = \"ground truth\")\n",
        "plt.xlabel('Values')\n",
        "plt.ylabel('dates')\n",
        "plt.title('Predictions Vs Ground Truth')\n",
        "plt.legend()\n",
        "plt.show()"
      ],
      "execution_count": null,
      "outputs": [
        {
          "output_type": "display_data",
          "data": {
            "image/png": "[encoded data removed]",
            "text/plain": [
              "<Figure size 432x288 with 1 Axes>"
            ]
          },
          "metadata": {
            "tags": [],
            "needs_background": "light"
          }
        }
      ]
    },
    {
      "cell_type": "code",
      "metadata": {
        "colab": {
          "base_uri": "https://localhost:8080/"
        },
        "id": "NQL4_TsSFU9k",
        "outputId": "5db8bbf1-e0cc-42ea-a1a8-c4e3e98500f7"
      },
      "source": [
        "print(test_labels.shape)\n",
        "print(test_predictions.shape)"
      ],
      "execution_count": null,
      "outputs": [
        {
          "output_type": "stream",
          "text": [
            "(49, 1)\n",
            "(49, 1)\n"
          ],
          "name": "stdout"
        }
      ]
    },
    {
      "cell_type": "code",
      "metadata": {
        "colab": {
          "base_uri": "https://localhost:8080/"
        },
        "id": "2-qyBqB7EhV5",
        "outputId": "151948cf-0d2e-4a56-d7d8-30a597c02cf9"
      },
      "source": [
        "print(\"Mean Directional Accuracy: \" + str(utils.mean_directional_accuracy(test_labels,test_predictions)))\n",
        "print(\"Root Mean Squared Error : \" + str(utils.rmse(test_predictions, test_labels)))"
      ],
      "execution_count": null,
      "outputs": [
        {
          "output_type": "stream",
          "text": [
            "Mean Directional Accuracy: 0.5625\n",
            "Root Mean Squared Error : 0.9994401618240579\n"
          ],
          "name": "stdout"
        }
      ]
    },
    {
      "cell_type": "code",
      "metadata": {
        "colab": {
          "base_uri": "https://localhost:8080/"
        },
        "id": "Ejcnwtt3Em5f",
        "outputId": "1236f531-7854-4c88-ee6f-abe9c47d3655"
      },
      "source": [
        "print(\"Mean Directional Accuracy: \" + str(utils.mean_directional_accuracy(val_labels,validation_predictions)))\n",
        "print(\"Root Mean Squared Error : \" + str(utils.rmse(validation_predictions, val_labels)))"
      ],
      "execution_count": null,
      "outputs": [
        {
          "output_type": "stream",
          "text": [
            "Mean Directional Accuracy: 0.5625\n",
            "Root Mean Squared Error : 0.731702502211773\n"
          ],
          "name": "stdout"
        }
      ]
    }
  ]
}