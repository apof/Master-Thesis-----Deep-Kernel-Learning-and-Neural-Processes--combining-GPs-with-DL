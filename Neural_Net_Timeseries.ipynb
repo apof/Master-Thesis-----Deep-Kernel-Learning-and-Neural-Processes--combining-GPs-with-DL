{
  "nbformat": 4,
  "nbformat_minor": 0,
  "metadata": {
    "kernelspec": {
      "display_name": "Python 3",
      "language": "python",
      "name": "python3"
    },
    "language_info": {
      "codemirror_mode": {
        "name": "ipython",
        "version": 3
      },
      "file_extension": ".py",
      "mimetype": "text/x-python",
      "name": "python",
      "nbconvert_exporter": "python",
      "pygments_lexer": "ipython3",
      "version": "3.7.3"
    },
    "colab": {
      "name": "Neural Net Timeseries.ipynb",
      "provenance": [],
      "collapsed_sections": [],
      "include_colab_link": true
    }
  },
  "cells": [
    {
      "cell_type": "markdown",
      "metadata": {
        "id": "view-in-github",
        "colab_type": "text"
      },
      "source": [
        "<a href=\"https://colab.research.google.com/github/apof/ChAI---GPs---Master-Thesis/blob/main/Neural_Net_Timeseries.ipynb\" target=\"_parent\"><img src=\"https://colab.research.google.com/assets/colab-badge.svg\" alt=\"Open In Colab\"/></a>"
      ]
    },
    {
      "cell_type": "code",
      "metadata": {
        "id": "Q8ndKNkMc4lg"
      },
      "source": [
        "import torch\n",
        "import torch.nn as nn\n",
        "import torch.nn.functional as F\n",
        "import numpy as np\n",
        "import joblib\n",
        "from IPython.display import clear_output\n",
        "import matplotlib.pyplot as plt\n",
        "from torch.autograd import Variable"
      ],
      "execution_count": 1,
      "outputs": []
    },
    {
      "cell_type": "code",
      "metadata": {
        "colab": {
          "base_uri": "https://localhost:8080/"
        },
        "id": "gL5Dvsh3eGwL",
        "outputId": "acec1098-af8d-41eb-c373-dabf1e38556b"
      },
      "source": [
        "from google.colab import drive\n",
        "drive.mount('/content/drive')"
      ],
      "execution_count": 2,
      "outputs": [
        {
          "output_type": "stream",
          "text": [
            "Drive already mounted at /content/drive; to attempt to forcibly remount, call drive.mount(\"/content/drive\", force_remount=True).\n"
          ],
          "name": "stdout"
        }
      ]
    },
    {
      "cell_type": "code",
      "metadata": {
        "id": "Y_hlVaQadjLd"
      },
      "source": [
        "## immport useful utilities from previous coursework\n",
        "import sys\n",
        "sys.path.insert(0,'drive/MyDrive/SNLP/')\n",
        "import utils"
      ],
      "execution_count": 3,
      "outputs": []
    },
    {
      "cell_type": "code",
      "metadata": {
        "id": "dMPdv3-Sc4lh"
      },
      "source": [
        "device = torch.device(\"cuda\" if torch.cuda.is_available() else \"cpu\")"
      ],
      "execution_count": 4,
      "outputs": []
    },
    {
      "cell_type": "code",
      "metadata": {
        "id": "NUMSvmiqc4li"
      },
      "source": [
        "aluminium_inputs = joblib.load('drive/MyDrive/Thesis_Vectors/aluminium_vectors')\n",
        "aluminium_labels = joblib.load('drive/MyDrive/Thesis_Vectors/aluminium_labels')\n",
        "aluminium_dates = joblib.load('drive/MyDrive/Thesis_Vectors/aluminium_dates')\n",
        "\n",
        "copper_inputs = joblib.load('drive/MyDrive/Thesis_Vectors/copper_vectors')\n",
        "copper_labels = joblib.load('drive/MyDrive/Thesis_Vectors/copper_labels')\n",
        "copper_dates = joblib.load('drive/MyDrive/Thesis_Vectors/copper_dates')"
      ],
      "execution_count": 5,
      "outputs": []
    },
    {
      "cell_type": "code",
      "metadata": {
        "id": "Z0H9sZCvc4li",
        "colab": {
          "base_uri": "https://localhost:8080/"
        },
        "outputId": "caa3609b-caa3-4216-cf79-c9fcc22116c8"
      },
      "source": [
        "print(aluminium_inputs.shape)\n",
        "print(aluminium_labels.shape)\n",
        "print(aluminium_dates.shape)\n",
        "\n",
        "print(copper_inputs.shape)\n",
        "print(copper_labels.shape)\n",
        "print(copper_dates.shape)"
      ],
      "execution_count": 6,
      "outputs": [
        {
          "output_type": "stream",
          "text": [
            "(948, 28, 56)\n",
            "(948,)\n",
            "(948,)\n",
            "(1282, 28, 48)\n",
            "(1282,)\n",
            "(1282,)\n"
          ],
          "name": "stdout"
        }
      ]
    },
    {
      "cell_type": "code",
      "metadata": {
        "id": "VRafwr8EbYKq"
      },
      "source": [
        "def align_timeseries(aluminium_inputs,aluminium_labels,aluminium_dates,copper_inputs,copper_labels,copper_dates):\n",
        "  \n",
        "  al_in = []\n",
        "  al_lbl = []\n",
        "  d = []\n",
        "  c_in = []\n",
        "  c_lbl = []\n",
        "\n",
        "  al_dict = {}\n",
        "\n",
        "  for i,inp in enumerate(aluminium_inputs):\n",
        "    al_dict[aluminium_dates[i]] = (inp,aluminium_labels[i])\n",
        "\n",
        "  for i,inp in enumerate(copper_inputs):\n",
        "    if(al_dict.get(copper_dates[i]) != None):\n",
        "      al_in.append(al_dict.get(copper_dates[i])[0])\n",
        "      al_lbl.append(al_dict.get(copper_dates[i])[1])\n",
        "      c_in.append(inp)\n",
        "      c_lbl.append(copper_labels[i])\n",
        "      d.append(copper_dates[i])\n",
        "\n",
        "  return np.array(al_in),np.array(al_lbl),np.array(c_in),np.array(c_lbl),d\n",
        "\n"
      ],
      "execution_count": 7,
      "outputs": []
    },
    {
      "cell_type": "code",
      "metadata": {
        "id": "SLXICFGoc9mV"
      },
      "source": [
        "aluminium_inputs,aluminium_labels,copper_inputs,copper_labels,dates =  align_timeseries(aluminium_inputs,aluminium_labels,aluminium_dates,copper_inputs,copper_labels,copper_dates)"
      ],
      "execution_count": 8,
      "outputs": []
    },
    {
      "cell_type": "code",
      "metadata": {
        "colab": {
          "base_uri": "https://localhost:8080/"
        },
        "id": "5xawt76idR3n",
        "outputId": "0c709321-6791-4f91-b052-340617c657cb"
      },
      "source": [
        "print(aluminium_inputs.shape)\n",
        "print(aluminium_labels.shape)\n",
        "\n",
        "print(copper_inputs.shape)\n",
        "print(copper_labels.shape)\n",
        "\n",
        "print(len(dates))"
      ],
      "execution_count": 9,
      "outputs": [
        {
          "output_type": "stream",
          "text": [
            "(948, 28, 56)\n",
            "(948,)\n",
            "(948, 28, 48)\n",
            "(948,)\n",
            "948\n"
          ],
          "name": "stdout"
        }
      ]
    },
    {
      "cell_type": "code",
      "metadata": {
        "id": "poCJ7E6Hc4lj"
      },
      "source": [
        "al_train_batches,al_validation_batches,al_test_batches = utils.train_test_split(aluminium_inputs,aluminium_labels,dates,aluminium_inputs.shape[0],0.95,0.7,0)"
      ],
      "execution_count": 10,
      "outputs": []
    },
    {
      "cell_type": "code",
      "metadata": {
        "id": "I0rcbyaVdrAv"
      },
      "source": [
        "c_train_batches,c_validation_batches,c_test_batches = utils.train_test_split(copper_inputs,copper_labels,dates,copper_inputs.shape[0],0.95,0.7,0)"
      ],
      "execution_count": 11,
      "outputs": []
    },
    {
      "cell_type": "code",
      "metadata": {
        "id": "sXFqBdGnc4lj",
        "colab": {
          "base_uri": "https://localhost:8080/"
        },
        "outputId": "37a47548-8559-4e13-c67f-34a12fa2979a"
      },
      "source": [
        "al_train_data,al_train_labels,al_train_dates = al_train_batches[0]\n",
        "al_test_data,al_test_labels,al_test_dates = al_test_batches[0]\n",
        "al_val_data,al_val_labels,al_val_dates = al_validation_batches[0]\n",
        "print(\"Train Dates: \" + al_train_dates[0] + \" \" + al_train_dates[-1])\n",
        "print(\"Val Dates: \" + al_val_dates[0] + \" \" + al_val_dates[-1])\n",
        "print(\"Test Dates: \" + al_test_dates[0] + \" \" + al_test_dates[-1])"
      ],
      "execution_count": 12,
      "outputs": [
        {
          "output_type": "stream",
          "text": [
            "Train Dates: 2017-06-23 2020-12-04\n",
            "Val Dates: 2020-12-07 2021-01-20\n",
            "Test Dates: 2021-01-21 2021-02-09\n"
          ],
          "name": "stdout"
        }
      ]
    },
    {
      "cell_type": "code",
      "metadata": {
        "colab": {
          "base_uri": "https://localhost:8080/"
        },
        "id": "iIJWmOoMeGbv",
        "outputId": "0200e6df-ce8a-4b7e-8c7c-7c75bee80db1"
      },
      "source": [
        "c_train_data,c_train_labels,c_train_dates = c_train_batches[0]\n",
        "c_test_data,c_test_labels,c_test_dates = c_test_batches[0]\n",
        "c_val_data,c_val_labels,c_val_dates = c_validation_batches[0]\n",
        "print(\"Train Dates: \" + c_train_dates[0] + \" \" + c_train_dates[-1])\n",
        "print(\"Val Dates: \" + c_val_dates[0] + \" \" + c_val_dates[-1])\n",
        "print(\"Test Dates: \" + c_test_dates[0] + \" \" + c_test_dates[-1])"
      ],
      "execution_count": 13,
      "outputs": [
        {
          "output_type": "stream",
          "text": [
            "Train Dates: 2017-06-23 2020-12-04\n",
            "Val Dates: 2020-12-07 2021-01-20\n",
            "Test Dates: 2021-01-21 2021-02-09\n"
          ],
          "name": "stdout"
        }
      ]
    },
    {
      "cell_type": "code",
      "metadata": {
        "id": "8rckJkZwc4lk"
      },
      "source": [
        "al_train_data = torch.from_numpy(al_train_data).to(dtype=torch.float16).to(device)\n",
        "al_train_labels = torch.from_numpy(al_train_labels).to(device)\n",
        "al_test_data = torch.from_numpy(al_test_data).to(dtype=torch.float16).to(device)\n",
        "al_test_labels = torch.from_numpy(al_test_labels).to(device)\n",
        "al_val_data = torch.from_numpy(al_val_data).to(dtype=torch.float16).to(device)\n",
        "al_val_labels = torch.from_numpy(al_val_labels).to(device)"
      ],
      "execution_count": 14,
      "outputs": []
    },
    {
      "cell_type": "code",
      "metadata": {
        "id": "H7KIQATqemNe"
      },
      "source": [
        "c_train_data = torch.from_numpy(c_train_data).to(dtype=torch.float16).to(device)\n",
        "c_train_labels = torch.from_numpy(c_train_labels).to(device)\n",
        "c_test_data = torch.from_numpy(c_test_data).to(dtype=torch.float16).to(device)\n",
        "c_test_labels = torch.from_numpy(c_test_labels).to(device)\n",
        "c_val_data = torch.from_numpy(c_val_data).to(dtype=torch.float16).to(device)\n",
        "c_val_labels = torch.from_numpy(c_val_labels).to(device)"
      ],
      "execution_count": 15,
      "outputs": []
    },
    {
      "cell_type": "code",
      "metadata": {
        "id": "1jImdNcqc4lk"
      },
      "source": [
        "al_train_labels = torch.reshape(al_train_labels, (al_train_labels.shape[0], 1))\n",
        "al_test_labels = torch.reshape(al_test_labels, (al_test_labels.shape[0], 1))\n",
        "al_val_labels = torch.reshape(al_val_labels, (al_val_labels.shape[0], 1))"
      ],
      "execution_count": 16,
      "outputs": []
    },
    {
      "cell_type": "code",
      "metadata": {
        "id": "uv8c19Mse49-"
      },
      "source": [
        "c_train_labels = torch.reshape(c_train_labels, (c_train_labels.shape[0], 1))\n",
        "c_test_labels = torch.reshape(c_test_labels, (c_test_labels.shape[0], 1))\n",
        "c_val_labels = torch.reshape(c_val_labels, (c_val_labels.shape[0], 1))"
      ],
      "execution_count": 17,
      "outputs": []
    },
    {
      "cell_type": "code",
      "metadata": {
        "id": "M0u7Kh3Zc4ll",
        "colab": {
          "base_uri": "https://localhost:8080/"
        },
        "outputId": "cc90b735-1dd1-4376-b420-134e069d9395"
      },
      "source": [
        "print(al_train_data.shape)\n",
        "print(al_train_labels.shape)\n",
        "print(al_test_data.shape)\n",
        "print(al_test_labels.shape)\n",
        "print(al_val_data.shape)\n",
        "print(al_val_labels.shape)"
      ],
      "execution_count": 18,
      "outputs": [
        {
          "output_type": "stream",
          "text": [
            "torch.Size([901, 28, 56])\n",
            "torch.Size([901, 1])\n",
            "torch.Size([14, 28, 56])\n",
            "torch.Size([14, 1])\n",
            "torch.Size([33, 28, 56])\n",
            "torch.Size([33, 1])\n"
          ],
          "name": "stdout"
        }
      ]
    },
    {
      "cell_type": "code",
      "metadata": {
        "colab": {
          "base_uri": "https://localhost:8080/"
        },
        "id": "J8bmf1lVfFsN",
        "outputId": "dd9d4416-8bd7-43cb-eeed-50dcb8b3508b"
      },
      "source": [
        "print(c_train_data.shape)\n",
        "print(c_train_labels.shape)\n",
        "print(c_test_data.shape)\n",
        "print(c_test_labels.shape)\n",
        "print(c_val_data.shape)\n",
        "print(c_val_labels.shape)"
      ],
      "execution_count": 19,
      "outputs": [
        {
          "output_type": "stream",
          "text": [
            "torch.Size([901, 28, 48])\n",
            "torch.Size([901, 1])\n",
            "torch.Size([14, 28, 48])\n",
            "torch.Size([14, 1])\n",
            "torch.Size([33, 28, 48])\n",
            "torch.Size([33, 1])\n"
          ],
          "name": "stdout"
        }
      ]
    },
    {
      "cell_type": "code",
      "metadata": {
        "id": "EbT_l8tiflJh"
      },
      "source": [
        "joint_train_labels = torch.cat((al_train_labels, c_train_labels), 1)\n",
        "joint_valid_labels = torch.cat((al_val_labels, c_val_labels), 1)\n",
        "joint_test_labels = torch.cat((al_test_labels, c_test_labels), 1)"
      ],
      "execution_count": 20,
      "outputs": []
    },
    {
      "cell_type": "code",
      "metadata": {
        "colab": {
          "base_uri": "https://localhost:8080/"
        },
        "id": "nKWxJSNffxcC",
        "outputId": "3c118329-99e1-4b3f-8c67-5f0ebfe2b166"
      },
      "source": [
        "print(joint_train_labels.shape)\n",
        "print(joint_valid_labels.shape)\n",
        "print(joint_test_labels.shape)"
      ],
      "execution_count": 21,
      "outputs": [
        {
          "output_type": "stream",
          "text": [
            "torch.Size([901, 2])\n",
            "torch.Size([33, 2])\n",
            "torch.Size([14, 2])\n"
          ],
          "name": "stdout"
        }
      ]
    },
    {
      "cell_type": "code",
      "metadata": {
        "id": "TBiHB012c4ll"
      },
      "source": [
        "## define a dictionary with the parameters of the Neural Network\n",
        "params_dictionary = {}\n",
        "params_dictionary['embedding_size'] = (al_train_data[0].shape[1],c_train_data[0].shape[1])\n",
        "params_dictionary['hidden_dim'] = 32\n",
        "params_dictionary['linear_dims'] = [16,8]\n",
        "params_dictionary['bidirectional'] = False\n",
        "params_dictionary['label_size'] = 2\n",
        "params_dictionary['dropout'] = 0.0\n",
        "params_dictionary['rnn_layers_num'] = 1\n",
        "params_dictionary['attention_layer'] = False\n",
        "params_dictionary['concat_layer'] = [32]\n"
      ],
      "execution_count": 22,
      "outputs": []
    },
    {
      "cell_type": "code",
      "metadata": {
        "id": "rm1uXZoTc4lm"
      },
      "source": [
        "class RnnRegressor(nn.Module):\n",
        "    def __init__(self, device, params_dictionary,index):\n",
        "        super(RnnRegressor, self).__init__()\n",
        "        self.params = params_dictionary\n",
        "        self.device = device\n",
        "\n",
        "        # Calculate number of directions\n",
        "        self.num_directions = 2 if self.params.get('bidirectional') == True else 1\n",
        "\n",
        "        ## here store in a list all the dimensions of the layers rnn_output --> linear layers --> labels layer\n",
        "        self.linear_dims = [self.params.get('hidden_dim') * self.num_directions] + self.params.get('linear_dims')\n",
        "\n",
        "        # Work with LSTM cell for now\n",
        "        self.rnn = nn.LSTM\n",
        "\n",
        "\n",
        "        ## define the RNN layer\n",
        "        self.rnn = self.rnn(self.params.get('embedding_size')[index],\n",
        "                            self.params.get('hidden_dim'),\n",
        "                            num_layers=self.params.get('rnn_layers_num'),\n",
        "                            bidirectional=self.params.get('bidirectional'),\n",
        "                            dropout=float(self.params.get('dropout')),\n",
        "                            batch_first=True)\n",
        "        \n",
        "        ## the hidden state of the RNN empty for now\n",
        "        self.hidden = None\n",
        "        \n",
        "        # Define set of fully connected layers (Linear Layer + Activation Layer)\n",
        "        ## this set of layers takes the output of the RNN or the Attention layer and applies a feedforward NN on it\n",
        "        ## consecutive linear + Relu layers are applied (the final layer does not have a relu activation!)\n",
        "        self.linears = nn.ModuleList()\n",
        "        for i in range(0, len(self.linear_dims)-1):\n",
        "            if self.params.get('dropout') > 0.0:\n",
        "                self.linears.append(nn.Dropout(p=self.params.get('dropout')))\n",
        "            linear_layer = nn.Linear(self.linear_dims[i], self.linear_dims[i+1])\n",
        "            self.init_weights(linear_layer)\n",
        "            self.linears.append(linear_layer)\n",
        "            self.linears.append(nn.ReLU())\n",
        "\n",
        "        self.to(self.device)\n",
        "\n",
        "    def init_weights(self, layer):\n",
        "        if type(layer) == nn.Linear:\n",
        "            torch.nn.init.xavier_uniform_(layer.weight)\n",
        "            layer.bias.data.fill_(0.01)\n",
        "\n",
        "    def init_hidden(self, batch_size):\n",
        "        return (torch.zeros(self.params.get('rnn_layers_num') * self.num_directions, batch_size, self.params.get('hidden_dim')).to(self.device),\n",
        "              torch.zeros(self.params.get('rnn_layers_num') * self.num_directions, batch_size, self.params.get('hidden_dim')).to(self.device))\n",
        "      \n",
        "\n",
        "    def forward(self, inputs):\n",
        "        batch_size, seq_len, embedding_size = inputs.shape\n",
        "\n",
        "\n",
        "        embedded_inputs = inputs\n",
        "\n",
        "        ## initialise the hidden state of the RNN\n",
        "        self.hidden = self.init_hidden(batch_size)\n",
        "\n",
        "        ## pass the data through the recurrent layer\n",
        "        rnn_output, self.hidden = self.rnn(embedded_inputs.float(), self.hidden)\n",
        "\n",
        "        ## Collect last hidden state\n",
        "        final_state = self.hidden[0].view(self.params.get('rnn_layers_num'), self.num_directions, batch_size, self.params.get('hidden_dim'))[-1]\n",
        "\n",
        "        # Handle directions if more than one\n",
        "        final_hidden_state = None\n",
        "        ## in case we have only one direction\n",
        "        if self.num_directions == 1:\n",
        "            final_hidden_state = final_state.squeeze(0)\n",
        "        ## in case we have 2 directions concatenate these two states\n",
        "        elif self.num_directions == 2:\n",
        "            h_1, h_2 = final_state[0], final_state[1]\n",
        "            final_hidden_state = torch.cat((h_1, h_2), 1)  # Concatenate both states\n",
        "\n",
        "        X = final_hidden_state\n",
        "        # Push through linear layers\n",
        "        for l in self.linears:\n",
        "            X = l(X)\n",
        "\n",
        "        return X"
      ],
      "execution_count": 23,
      "outputs": []
    },
    {
      "cell_type": "code",
      "metadata": {
        "id": "GIbu2nATgv5D"
      },
      "source": [
        "class MultiTaskModel(nn.Module):\n",
        "\n",
        "  def __init__(self, device, params_dictionary):\n",
        "        super(MultiTaskModel, self).__init__()\n",
        "\n",
        "        self.params = params_dictionary\n",
        "        self.device = device\n",
        "\n",
        "        self.net1 = RnnRegressor(device,params_dictionary,0)\n",
        "        self.net2 = RnnRegressor(device,params_dictionary,1)\n",
        "\n",
        "        self.linear_dims = [self.params.get('linear_dims')[-1]*2] + self.params.get('concat_layer')\n",
        "        self.linear_dims.append(self.params.get('label_size'))\n",
        "\n",
        "        self.linears = nn.ModuleList()\n",
        "        for i in range(0, len(self.linear_dims)-1):\n",
        "            if self.params.get('dropout') > 0.0:\n",
        "                self.linears.append(nn.Dropout(p=self.params.get('dropout')))\n",
        "            linear_layer = nn.Linear(self.linear_dims[i], self.linear_dims[i+1])\n",
        "            self.init_weights(linear_layer)\n",
        "            self.linears.append(linear_layer)\n",
        "            if i == len(self.linear_dims) - 1:\n",
        "                break\n",
        "            self.linears.append(nn.ReLU())\n",
        "\n",
        "        self.to(self.device)\n",
        "\n",
        "  def init_weights(self, layer):\n",
        "    if type(layer) == nn.Linear:\n",
        "      torch.nn.init.xavier_uniform_(layer.weight)\n",
        "      layer.bias.data.fill_(0.01)\n",
        "\n",
        "  def forward(self, inp_1,inp_2):\n",
        "\n",
        "    out_1 = self.net1.forward(inp_1)\n",
        "    out_2 = self.net2.forward(inp_2)\n",
        "    concatenated_output = torch.cat((out_1,out_2),dim=1)\n",
        "\n",
        "    X = concatenated_output\n",
        "\n",
        "    for l in self.linears:\n",
        "      X = l(X)\n",
        "\n",
        "    return X"
      ],
      "execution_count": 24,
      "outputs": []
    },
    {
      "cell_type": "code",
      "metadata": {
        "id": "qGLCOpl-c4lo"
      },
      "source": [
        "model = MultiTaskModel(device,params_dictionary)"
      ],
      "execution_count": 25,
      "outputs": []
    },
    {
      "cell_type": "code",
      "metadata": {
        "id": "kS7quHZNc4lo"
      },
      "source": [
        "loss = nn.MSELoss()\n",
        "optimizer =  torch.optim.Adam(model.parameters(), lr=0.001)"
      ],
      "execution_count": 26,
      "outputs": []
    },
    {
      "cell_type": "code",
      "metadata": {
        "id": "3uOOyyauc4lo",
        "colab": {
          "base_uri": "https://localhost:8080/"
        },
        "outputId": "5123e4fe-1ed0-4d5f-86d0-c569b1209623"
      },
      "source": [
        "train_loss = []\n",
        "valid_loss = []\n",
        "\n",
        "training_iter = 1000\n",
        "    \n",
        "#for early stopping :\n",
        "best_cost=1000000 \n",
        "stop = False\n",
        "last_improvement=0\n",
        "require_improvement = 100\n",
        "best_model = None\n",
        "epoch = 0\n",
        "\n",
        "while epoch < training_iter and stop == False:\n",
        "\n",
        "    epoch += 1\n",
        "    loss_batches = []\n",
        "    optimizer.zero_grad()\n",
        "    y_pred = model.forward(al_train_data,c_train_data)\n",
        "    single_loss = loss(y_pred,joint_train_labels.float()).to(device)\n",
        "    single_loss.backward()\n",
        "    optimizer.step()\n",
        "    train_loss.append(single_loss.item())\n",
        "\n",
        "    ## compute and store the validation loss\n",
        "    valid_pred = model.forward(al_val_data,c_val_data)\n",
        "    val_loss = loss(valid_pred,joint_valid_labels.float().to(device)).item()\n",
        "    valid_loss.append(val_loss)\n",
        "\n",
        "    print(\"epoch  \" + str(epoch) + \" \" + str(train_loss[-1]))\n",
        "    print(\"epoch  \" + str(epoch) + \" \" + str(valid_loss[-1]))\n",
        "    clear_output(wait=True)\n",
        "\n",
        "    avg_cost = val_loss\n",
        "    if avg_cost < best_cost:\n",
        "      best_cost = avg_cost\n",
        "      last_improvement = 0\n",
        "      best_model = model\n",
        "    else:\n",
        "      last_improvement +=1\n",
        "            \n",
        "    if last_improvement > require_improvement:\n",
        "      print(\"No improvement found during the last iterations, stopping optimization at epoch: \" + str(epoch))\n",
        "      # Break out from the loop.\n",
        "      #stop = True\n",
        "      model = best_model\n",
        "            "
      ],
      "execution_count": 27,
      "outputs": [
        {
          "output_type": "stream",
          "text": [
            "No improvement found during the last iterations, stopping optimization at epoch: 1000\n"
          ],
          "name": "stdout"
        }
      ]
    },
    {
      "cell_type": "code",
      "metadata": {
        "id": "QP4_mxwXc4lp",
        "colab": {
          "base_uri": "https://localhost:8080/",
          "height": 295
        },
        "outputId": "297a744a-f542-47aa-cef7-9fe28dda779e"
      },
      "source": [
        "iters = [i+1 for i in range(len(train_loss))]\n",
        "plt.plot(iters, train_loss ,label = \"training loss\")\n",
        "plt.plot(iters, valid_loss, label = \"validation loss\")\n",
        "plt.xlabel('Loss')\n",
        "plt.ylabel('Iterations')\n",
        "plt.title('Validation vs Training Loss during Training')\n",
        "plt.legend()\n",
        "plt.show()"
      ],
      "execution_count": 28,
      "outputs": [
        {
          "output_type": "display_data",
          "data": {
            "image/png": "[encoded data removed]",
            "text/plain": [
              "<Figure size 432x288 with 1 Axes>"
            ]
          },
          "metadata": {
            "tags": [],
            "needs_background": "light"
          }
        }
      ]
    },
    {
      "cell_type": "code",
      "metadata": {
        "id": "tJMtKNsBs7ba"
      },
      "source": [
        "validation_predictions = model.forward(al_val_data,c_val_data).detach().numpy()\n",
        "test_predictions = model.forward(al_test_data,c_test_data).detach().numpy()\n",
        "joint_test_labels = joint_test_labels.detach().numpy()\n",
        "joint_valid_labels = joint_valid_labels.detach().numpy()"
      ],
      "execution_count": 29,
      "outputs": []
    },
    {
      "cell_type": "code",
      "metadata": {
        "id": "Url6rCQGtaWQ"
      },
      "source": [
        "index_1 = [i+1 for i in range(len(validation_predictions))]\n",
        "index_2 = [i+1 for i in range(len(test_predictions))]"
      ],
      "execution_count": 30,
      "outputs": []
    },
    {
      "cell_type": "code",
      "metadata": {
        "colab": {
          "base_uri": "https://localhost:8080/",
          "height": 295
        },
        "id": "rH7DDI6NsNhr",
        "outputId": "479f7a46-ce02-4e28-fd75-42390c4be335"
      },
      "source": [
        "plt.plot(index_1, validation_predictions ,label = \"predictions\")\n",
        "plt.plot(index_1, joint_valid_labels, label = \"ground truth\")\n",
        "plt.xlabel('Values')\n",
        "plt.ylabel('dates')\n",
        "plt.title('Predictions Vs Ground Truth')\n",
        "plt.legend()\n",
        "plt.show()"
      ],
      "execution_count": 31,
      "outputs": [
        {
          "output_type": "display_data",
          "data": {
            "image/png": "[encoded data removed]",
            "text/plain": [
              "<Figure size 432x288 with 1 Axes>"
            ]
          },
          "metadata": {
            "tags": [],
            "needs_background": "light"
          }
        }
      ]
    },
    {
      "cell_type": "code",
      "metadata": {
        "colab": {
          "base_uri": "https://localhost:8080/",
          "height": 295
        },
        "id": "NZrTChgkuBA8",
        "outputId": "507d7e1d-b616-44d8-9eeb-c3c251835f9f"
      },
      "source": [
        "plt.plot(index_2, test_predictions ,label = \"predictions\")\n",
        "plt.plot(index_2, joint_test_labels, label = \"ground truth\")\n",
        "plt.xlabel('Values')\n",
        "plt.ylabel('dates')\n",
        "plt.title('Predictions Vs Ground Truth')\n",
        "plt.legend()\n",
        "plt.show()"
      ],
      "execution_count": 32,
      "outputs": [
        {
          "output_type": "display_data",
          "data": {
            "image/png": "[encoded data removed]",
            "text/plain": [
              "<Figure size 432x288 with 1 Axes>"
            ]
          },
          "metadata": {
            "tags": [],
            "needs_background": "light"
          }
        }
      ]
    },
    {
      "cell_type": "code",
      "metadata": {
        "colab": {
          "base_uri": "https://localhost:8080/"
        },
        "id": "NQL4_TsSFU9k",
        "outputId": "cb818e70-65b9-469d-ac17-811941e7c935"
      },
      "source": [
        "print(joint_test_labels.shape)\n",
        "print(test_predictions.shape)"
      ],
      "execution_count": 33,
      "outputs": [
        {
          "output_type": "stream",
          "text": [
            "(14, 2)\n",
            "(14, 2)\n"
          ],
          "name": "stdout"
        }
      ]
    },
    {
      "cell_type": "code",
      "metadata": {
        "colab": {
          "base_uri": "https://localhost:8080/"
        },
        "id": "2-qyBqB7EhV5",
        "outputId": "e63b68a2-fa8a-4091-d638-c3aee1bf51c3"
      },
      "source": [
        "print(\"Mean Directional Accuracy: \" + str(utils.mean_directional_accuracy(joint_test_labels,test_predictions)))\n",
        "print(\"Root Mean Squared Error : \" + str(utils.rmse(test_predictions, joint_test_labels)))"
      ],
      "execution_count": 34,
      "outputs": [
        {
          "output_type": "stream",
          "text": [
            "Mean Directional Accuracy: 0.6538461538461539\n",
            "Root Mean Squared Error : 1.1869522716349636\n"
          ],
          "name": "stdout"
        }
      ]
    },
    {
      "cell_type": "code",
      "metadata": {
        "colab": {
          "base_uri": "https://localhost:8080/"
        },
        "id": "Ejcnwtt3Em5f",
        "outputId": "98f22b75-cdad-45f5-a23d-5905198add0c"
      },
      "source": [
        "print(\"Mean Directional Accuracy: \" + str(utils.mean_directional_accuracy(joint_valid_labels,validation_predictions)))\n",
        "print(\"Root Mean Squared Error : \" + str(utils.rmse(validation_predictions, joint_valid_labels)))"
      ],
      "execution_count": 35,
      "outputs": [
        {
          "output_type": "stream",
          "text": [
            "Mean Directional Accuracy: 0.484375\n",
            "Root Mean Squared Error : 0.7251945281786807\n"
          ],
          "name": "stdout"
        }
      ]
    }
  ]
}