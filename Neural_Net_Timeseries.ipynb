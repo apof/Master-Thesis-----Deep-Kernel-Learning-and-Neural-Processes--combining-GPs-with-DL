{
  "nbformat": 4,
  "nbformat_minor": 0,
  "metadata": {
    "kernelspec": {
      "display_name": "Python 3",
      "language": "python",
      "name": "python3"
    },
    "language_info": {
      "codemirror_mode": {
        "name": "ipython",
        "version": 3
      },
      "file_extension": ".py",
      "mimetype": "text/x-python",
      "name": "python",
      "nbconvert_exporter": "python",
      "pygments_lexer": "ipython3",
      "version": "3.7.3"
    },
    "colab": {
      "name": "Neural Net Timeseries.ipynb",
      "provenance": [],
      "collapsed_sections": [],
      "machine_shape": "hm",
      "include_colab_link": true
    },
    "accelerator": "GPU"
  },
  "cells": [
    {
      "cell_type": "markdown",
      "metadata": {
        "id": "view-in-github",
        "colab_type": "text"
      },
      "source": [
        "<a href=\"https://colab.research.google.com/github/apof/ChAI---GPs---Master-Thesis/blob/main/Neural_Net_Timeseries.ipynb\" target=\"_parent\"><img src=\"https://colab.research.google.com/assets/colab-badge.svg\" alt=\"Open In Colab\"/></a>"
      ]
    },
    {
      "cell_type": "code",
      "metadata": {
        "id": "Q8ndKNkMc4lg"
      },
      "source": [
        "import torch\n",
        "import torch.nn as nn\n",
        "import torch.nn.functional as F\n",
        "import numpy as np\n",
        "import joblib\n",
        "from IPython.display import clear_output\n",
        "import matplotlib.pyplot as plt\n",
        "from torch.autograd import Variable\n",
        "import copy"
      ],
      "execution_count": 47,
      "outputs": []
    },
    {
      "cell_type": "code",
      "metadata": {
        "id": "n8Q6Lbf2yCR-"
      },
      "source": [
        "batch_size= 256"
      ],
      "execution_count": 48,
      "outputs": []
    },
    {
      "cell_type": "code",
      "metadata": {
        "id": "fcQAGIQir9ru"
      },
      "source": [
        "def var(tensor):\n",
        "    if torch.cuda.is_available():\n",
        "        return Variable(tensor.cuda())\n",
        "    else:\n",
        "        return Variable(tensor)"
      ],
      "execution_count": 49,
      "outputs": []
    },
    {
      "cell_type": "code",
      "metadata": {
        "colab": {
          "base_uri": "https://localhost:8080/"
        },
        "id": "gL5Dvsh3eGwL",
        "outputId": "50244bb3-7df4-4f60-c350-76c740995b71"
      },
      "source": [
        "from google.colab import drive\n",
        "drive.mount('/content/drive')"
      ],
      "execution_count": 50,
      "outputs": [
        {
          "output_type": "stream",
          "text": [
            "Drive already mounted at /content/drive; to attempt to forcibly remount, call drive.mount(\"/content/drive\", force_remount=True).\n"
          ],
          "name": "stdout"
        }
      ]
    },
    {
      "cell_type": "code",
      "metadata": {
        "id": "Y_hlVaQadjLd"
      },
      "source": [
        "## immport useful utilities from previous coursework\n",
        "import sys\n",
        "sys.path.insert(0,'drive/MyDrive/SNLP/')\n",
        "import utils"
      ],
      "execution_count": 51,
      "outputs": []
    },
    {
      "cell_type": "code",
      "metadata": {
        "id": "dMPdv3-Sc4lh"
      },
      "source": [
        "device = torch.device(\"cuda\" if torch.cuda.is_available() else \"cpu\")"
      ],
      "execution_count": 52,
      "outputs": []
    },
    {
      "cell_type": "code",
      "metadata": {
        "id": "NUMSvmiqc4li"
      },
      "source": [
        "aluminium_inputs = joblib.load('drive/MyDrive/Thesis_Vectors/h_aluminium_vectors')\n",
        "aluminium_labels = joblib.load('drive/MyDrive/Thesis_Vectors/h_aluminium_labels')\n",
        "aluminium_dates = joblib.load('drive/MyDrive/Thesis_Vectors/h_aluminium_dates')\n",
        "\n",
        "copper_inputs = joblib.load('drive/MyDrive/Thesis_Vectors/h_copper_vectors')\n",
        "copper_labels = joblib.load('drive/MyDrive/Thesis_Vectors/h_copper_labels')\n",
        "copper_dates = joblib.load('drive/MyDrive/Thesis_Vectors/h_copper_dates')\n",
        "\n",
        "dates = copper_dates"
      ],
      "execution_count": 53,
      "outputs": []
    },
    {
      "cell_type": "code",
      "metadata": {
        "id": "Z0H9sZCvc4li",
        "colab": {
          "base_uri": "https://localhost:8080/"
        },
        "outputId": "c7e64c9a-0d3a-4def-8df3-95a89f57f211"
      },
      "source": [
        "print(aluminium_inputs.shape)\n",
        "print(aluminium_labels.shape)\n",
        "print(aluminium_dates.shape)\n",
        "\n",
        "print(copper_inputs.shape)\n",
        "print(copper_labels.shape)\n",
        "print(copper_dates.shape)"
      ],
      "execution_count": 54,
      "outputs": [
        {
          "output_type": "stream",
          "text": [
            "(3796, 22, 28)\n",
            "(3796,)\n",
            "(3796,)\n",
            "(3796, 22, 18)\n",
            "(3796,)\n",
            "(3796,)\n"
          ],
          "name": "stdout"
        }
      ]
    },
    {
      "cell_type": "code",
      "metadata": {
        "id": "VRafwr8EbYKq"
      },
      "source": [
        "def align_timeseries(aluminium_inputs,aluminium_labels,aluminium_dates,copper_inputs,copper_labels,copper_dates):\n",
        "  \n",
        "  al_in = []\n",
        "  al_lbl = []\n",
        "  d = []\n",
        "  c_in = []\n",
        "  c_lbl = []\n",
        "\n",
        "  al_dict = {}\n",
        "\n",
        "  for i,inp in enumerate(aluminium_inputs):\n",
        "    al_dict[aluminium_dates[i]] = (inp,aluminium_labels[i])\n",
        "\n",
        "  for i,inp in enumerate(copper_inputs):\n",
        "    if(al_dict.get(copper_dates[i]) != None):\n",
        "      al_in.append(al_dict.get(copper_dates[i])[0])\n",
        "      al_lbl.append(al_dict.get(copper_dates[i])[1])\n",
        "      c_in.append(inp)\n",
        "      c_lbl.append(copper_labels[i])\n",
        "      d.append(copper_dates[i])\n",
        "\n",
        "  return np.array(al_in),np.array(al_lbl),np.array(c_in),np.array(c_lbl),d\n",
        "\n"
      ],
      "execution_count": 55,
      "outputs": []
    },
    {
      "cell_type": "code",
      "metadata": {
        "id": "SLXICFGoc9mV"
      },
      "source": [
        "#aluminium_inputs,aluminium_labels,copper_inputs,copper_labels,dates =  align_timeseries(aluminium_inputs,aluminium_labels,aluminium_dates,copper_inputs,copper_labels,copper_dates)"
      ],
      "execution_count": 56,
      "outputs": []
    },
    {
      "cell_type": "code",
      "metadata": {
        "colab": {
          "base_uri": "https://localhost:8080/"
        },
        "id": "5xawt76idR3n",
        "outputId": "b005039b-9e39-45cc-f711-aff4bbd9d2de"
      },
      "source": [
        "print(aluminium_inputs.shape)\n",
        "print(aluminium_labels.shape)\n",
        "\n",
        "print(copper_inputs.shape)\n",
        "print(copper_labels.shape)\n",
        "\n",
        "print(len(dates))"
      ],
      "execution_count": 57,
      "outputs": [
        {
          "output_type": "stream",
          "text": [
            "(3796, 22, 28)\n",
            "(3796,)\n",
            "(3796, 22, 18)\n",
            "(3796,)\n",
            "3796\n"
          ],
          "name": "stdout"
        }
      ]
    },
    {
      "cell_type": "code",
      "metadata": {
        "id": "poCJ7E6Hc4lj"
      },
      "source": [
        "al_train_batches,al_validation_batches,al_test_batches = utils.train_test_split(aluminium_inputs,aluminium_labels,dates,aluminium_inputs.shape[0],0.8,0.5,0)"
      ],
      "execution_count": 58,
      "outputs": []
    },
    {
      "cell_type": "code",
      "metadata": {
        "id": "I0rcbyaVdrAv"
      },
      "source": [
        "c_train_batches,c_validation_batches,c_test_batches = utils.train_test_split(copper_inputs,copper_labels,dates,copper_inputs.shape[0],0.8,0.5,0)"
      ],
      "execution_count": 59,
      "outputs": []
    },
    {
      "cell_type": "code",
      "metadata": {
        "id": "sXFqBdGnc4lj"
      },
      "source": [
        "al_train_data,al_train_labels,al_train_dates = al_train_batches[0]\n",
        "al_test_data,al_test_labels,al_test_dates = al_test_batches[0]\n",
        "al_val_data,al_val_labels,al_val_dates = al_validation_batches[0]\n",
        "#print(\"Train Dates: \" + al_train_dates[0] + \" \" + al_train_dates[-1])\n",
        "#print(\"Val Dates: \" + al_val_dates[0] + \" \" + al_val_dates[-1])\n",
        "#print(\"Test Dates: \" + al_test_dates[0] + \" \" + al_test_dates[-1])"
      ],
      "execution_count": 60,
      "outputs": []
    },
    {
      "cell_type": "code",
      "metadata": {
        "id": "Wv6tSYbrzLXx"
      },
      "source": [
        "n = int(len(al_train_data)/batch_size)\n",
        "index = n*batch_size\n",
        "al_train_data = al_train_data[0:index]\n",
        "al_train_labels = al_train_labels[0:index]\n",
        "al_train_dates = al_train_dates[0:index]\n",
        "al_test_data = al_test_data[0:batch_size]\n",
        "al_test_labels = al_test_labels[0:batch_size]\n",
        "al_test_dates = al_test_dates[0:batch_size]\n",
        "al_val_data = al_val_data[0:batch_size]\n",
        "al_val_labels = al_val_labels[0:batch_size]\n",
        "al_val_dates = al_val_dates[0:batch_size]"
      ],
      "execution_count": 61,
      "outputs": []
    },
    {
      "cell_type": "code",
      "metadata": {
        "id": "iIJWmOoMeGbv"
      },
      "source": [
        "c_train_data,c_train_labels,c_train_dates = c_train_batches[0]\n",
        "c_test_data,c_test_labels,c_test_dates = c_test_batches[0]\n",
        "c_val_data,c_val_labels,c_val_dates = c_validation_batches[0]\n",
        "#print(\"Train Dates: \" + c_train_dates[0] + \" \" + c_train_dates[-1])\n",
        "#print(\"Val Dates: \" + c_val_dates[0] + \" \" + c_val_dates[-1])\n",
        "#print(\"Test Dates: \" + c_test_dates[0] + \" \" + c_test_dates[-1])\n",
        "\n",
        "n = int(len(al_train_data)/batch_size)\n",
        "index = n*batch_size\n",
        "c_train_data = c_train_data[0:index]\n",
        "c_train_labels = c_train_labels[0:index]\n",
        "c_train_dates = c_train_dates[0:index]\n",
        "c_test_data = c_test_data[0:batch_size]\n",
        "c_test_labels = c_test_labels[0:batch_size]\n",
        "c_test_dates = c_test_dates[0:batch_size]\n",
        "c_val_data = c_val_data[0:batch_size]\n",
        "c_val_labels = c_val_labels[0:batch_size]\n",
        "c_val_dates = c_val_dates[0:batch_size]"
      ],
      "execution_count": 62,
      "outputs": []
    },
    {
      "cell_type": "code",
      "metadata": {
        "id": "8rckJkZwc4lk"
      },
      "source": [
        "al_train_data = torch.from_numpy(al_train_data).to(dtype=torch.float16).to(device)\n",
        "al_train_labels = torch.from_numpy(al_train_labels).to(device)\n",
        "al_test_data = torch.from_numpy(al_test_data).to(dtype=torch.float16).to(device)\n",
        "al_test_labels = torch.from_numpy(al_test_labels).to(device)\n",
        "al_val_data = torch.from_numpy(al_val_data).to(dtype=torch.float16).to(device)\n",
        "al_val_labels = torch.from_numpy(al_val_labels).to(device)"
      ],
      "execution_count": 63,
      "outputs": []
    },
    {
      "cell_type": "code",
      "metadata": {
        "id": "H7KIQATqemNe"
      },
      "source": [
        "c_train_data = torch.from_numpy(c_train_data).to(dtype=torch.float16).to(device)\n",
        "c_train_labels = torch.from_numpy(c_train_labels).to(device)\n",
        "c_test_data = torch.from_numpy(c_test_data).to(dtype=torch.float16).to(device)\n",
        "c_test_labels = torch.from_numpy(c_test_labels).to(device)\n",
        "c_val_data = torch.from_numpy(c_val_data).to(dtype=torch.float16).to(device)\n",
        "c_val_labels = torch.from_numpy(c_val_labels).to(device)"
      ],
      "execution_count": 64,
      "outputs": []
    },
    {
      "cell_type": "code",
      "metadata": {
        "id": "1jImdNcqc4lk"
      },
      "source": [
        "al_train_labels = torch.reshape(al_train_labels, (al_train_labels.shape[0], 1))\n",
        "al_test_labels = torch.reshape(al_test_labels, (al_test_labels.shape[0], 1))\n",
        "al_val_labels = torch.reshape(al_val_labels, (al_val_labels.shape[0], 1))"
      ],
      "execution_count": 65,
      "outputs": []
    },
    {
      "cell_type": "code",
      "metadata": {
        "id": "uv8c19Mse49-"
      },
      "source": [
        "c_train_labels = torch.reshape(c_train_labels, (c_train_labels.shape[0], 1))\n",
        "c_test_labels = torch.reshape(c_test_labels, (c_test_labels.shape[0], 1))\n",
        "c_val_labels = torch.reshape(c_val_labels, (c_val_labels.shape[0], 1))"
      ],
      "execution_count": 66,
      "outputs": []
    },
    {
      "cell_type": "code",
      "metadata": {
        "id": "M0u7Kh3Zc4ll",
        "colab": {
          "base_uri": "https://localhost:8080/"
        },
        "outputId": "268c1db3-afbf-4255-d92e-8d9cf1f03e12"
      },
      "source": [
        "print(al_train_data.shape)\n",
        "print(al_train_labels.shape)\n",
        "print(al_test_data.shape)\n",
        "print(al_test_labels.shape)\n",
        "print(al_val_data.shape)\n",
        "print(al_val_labels.shape)"
      ],
      "execution_count": 67,
      "outputs": [
        {
          "output_type": "stream",
          "text": [
            "torch.Size([2816, 22, 28])\n",
            "torch.Size([2816, 1])\n",
            "torch.Size([256, 22, 28])\n",
            "torch.Size([256, 1])\n",
            "torch.Size([256, 22, 28])\n",
            "torch.Size([256, 1])\n"
          ],
          "name": "stdout"
        }
      ]
    },
    {
      "cell_type": "code",
      "metadata": {
        "id": "J8bmf1lVfFsN",
        "colab": {
          "base_uri": "https://localhost:8080/"
        },
        "outputId": "bbc91916-0bf0-4394-cc5b-054aa3c13c99"
      },
      "source": [
        "print(c_train_data.shape)\n",
        "print(c_train_labels.shape)\n",
        "print(c_test_data.shape)\n",
        "print(c_test_labels.shape)\n",
        "print(c_val_data.shape)\n",
        "print(c_val_labels.shape)"
      ],
      "execution_count": 68,
      "outputs": [
        {
          "output_type": "stream",
          "text": [
            "torch.Size([2816, 22, 18])\n",
            "torch.Size([2816, 1])\n",
            "torch.Size([256, 22, 18])\n",
            "torch.Size([256, 1])\n",
            "torch.Size([256, 22, 18])\n",
            "torch.Size([256, 1])\n"
          ],
          "name": "stdout"
        }
      ]
    },
    {
      "cell_type": "code",
      "metadata": {
        "id": "EbT_l8tiflJh"
      },
      "source": [
        "joint_train_labels = torch.cat((al_train_labels, c_train_labels), 1)\n",
        "joint_valid_labels = torch.cat((al_val_labels, c_val_labels), 1)\n",
        "joint_test_labels = torch.cat((al_test_labels, c_test_labels), 1)"
      ],
      "execution_count": 69,
      "outputs": []
    },
    {
      "cell_type": "code",
      "metadata": {
        "id": "nKWxJSNffxcC",
        "colab": {
          "base_uri": "https://localhost:8080/"
        },
        "outputId": "6d5d1678-fbba-4ed6-9812-78b02b04a5af"
      },
      "source": [
        "print(joint_train_labels.shape)\n",
        "print(joint_valid_labels.shape)\n",
        "print(joint_test_labels.shape)"
      ],
      "execution_count": 70,
      "outputs": [
        {
          "output_type": "stream",
          "text": [
            "torch.Size([2816, 2])\n",
            "torch.Size([256, 2])\n",
            "torch.Size([256, 2])\n"
          ],
          "name": "stdout"
        }
      ]
    },
    {
      "cell_type": "code",
      "metadata": {
        "id": "XPM3mUZxfN4Q"
      },
      "source": [
        "train_set = torch.utils.data.TensorDataset(al_train_data, c_train_data, joint_train_labels)\n",
        "train_set_loader = torch.utils.data.DataLoader(train_set, batch_size=batch_size, shuffle=False)"
      ],
      "execution_count": 71,
      "outputs": []
    },
    {
      "cell_type": "code",
      "metadata": {
        "id": "TBiHB012c4ll"
      },
      "source": [
        "## define a dictionary with the parameters of the Neural Network\n",
        "params_dictionary = {}\n",
        "params_dictionary['embedding_size'] = (al_train_data[0].shape[1],c_train_data[0].shape[1])\n",
        "params_dictionary['hidden_dim'] = 512\n",
        "params_dictionary['linear_dims'] = [128,64]\n",
        "params_dictionary['bidirectional'] = False\n",
        "params_dictionary['label_size'] = 2\n",
        "params_dictionary['dropout'] = 0.4\n",
        "params_dictionary['rnn_layers_num'] = 2\n",
        "params_dictionary['attention_layer'] = False\n",
        "params_dictionary['concat_layer'] = [32,16,8]\n"
      ],
      "execution_count": 72,
      "outputs": []
    },
    {
      "cell_type": "code",
      "metadata": {
        "id": "rm1uXZoTc4lm"
      },
      "source": [
        "class RnnRegressor(nn.Module):\n",
        "    def __init__(self, device, params_dictionary,index):\n",
        "        super(RnnRegressor, self).__init__()\n",
        "        self.params = params_dictionary\n",
        "        self.device = device\n",
        "\n",
        "        # Calculate number of directions\n",
        "        self.num_directions = 2 if self.params.get('bidirectional') == True else 1\n",
        "\n",
        "        ## here store in a list all the dimensions of the layers rnn_output --> linear layers --> labels layer\n",
        "        self.linear_dims = [self.params.get('hidden_dim') * self.num_directions] + self.params.get('linear_dims')\n",
        "\n",
        "        # Work with LSTM cell for now\n",
        "        self.rnn = nn.LSTM\n",
        "\n",
        "\n",
        "        ## define the RNN layer\n",
        "        self.rnn = self.rnn(self.params.get('embedding_size')[index],\n",
        "                            self.params.get('hidden_dim'),\n",
        "                            num_layers=self.params.get('rnn_layers_num'),\n",
        "                            bidirectional=self.params.get('bidirectional'),\n",
        "                            dropout=float(self.params.get('dropout')),\n",
        "                            batch_first=True)\n",
        "        \n",
        "        ## the hidden state of the RNN empty for now\n",
        "        self.hidden = None\n",
        "        \n",
        "        # Define set of fully connected layers (Linear Layer + Activation Layer)\n",
        "        ## this set of layers takes the output of the RNN or the Attention layer and applies a feedforward NN on it\n",
        "        ## consecutive linear + Relu layers are applied (the final layer does not have a relu activation!)\n",
        "        self.linears = nn.ModuleList()\n",
        "        for i in range(0, len(self.linear_dims)-1):\n",
        "            if self.params.get('dropout') > 0.0:\n",
        "                self.linears.append(nn.Dropout(p=self.params.get('dropout')))\n",
        "            linear_layer = nn.Linear(self.linear_dims[i], self.linear_dims[i+1])\n",
        "            #self.init_weights(linear_layer)\n",
        "            self.linears.append(linear_layer)\n",
        "            self.linears.append(nn.Tanh())\n",
        "\n",
        "        self.to(self.device)\n",
        "\n",
        "    def init_weights(self, layer):\n",
        "        if type(layer) == nn.Linear:\n",
        "            torch.nn.init.xavier_uniform_(layer.weight)\n",
        "            layer.bias.data.fill_(0.01)\n",
        "\n",
        "    def init_hidden(self, batch_size):\n",
        "        return (torch.zeros(self.params.get('rnn_layers_num') * self.num_directions, batch_size, self.params.get('hidden_dim')).to(self.device),\n",
        "              torch.zeros(self.params.get('rnn_layers_num') * self.num_directions, batch_size, self.params.get('hidden_dim')).to(self.device))\n",
        "      \n",
        "\n",
        "    def forward(self, inp):\n",
        "\n",
        "        (inputs,stateful,hidden_state) = inp\n",
        "\n",
        "        batch_size, seq_len, embedding_size = inputs.shape\n",
        "\n",
        "\n",
        "        embedded_inputs = inputs\n",
        "\n",
        "        if(stateful == True):\n",
        "          ## initialise the hidden state of the RNN\n",
        "          self.hidden = self.init_hidden(batch_size)\n",
        "        # use the previous hidden state to make the rnn stateful alomg the batches\n",
        "        else:\n",
        "          self.hidden = hidden_state\n",
        "\n",
        "\n",
        "        ## pass the data through the recurrent layer\n",
        "        rnn_output, self.hidden = self.rnn(embedded_inputs.float(), self.hidden)\n",
        "\n",
        "        ## Collect last hidden state\n",
        "        final_state = self.hidden[0].view(self.params.get('rnn_layers_num'), self.num_directions, batch_size, self.params.get('hidden_dim'))[-1]\n",
        "\n",
        "        # Handle directions if more than one\n",
        "        final_hidden_state = None\n",
        "        ## in case we have only one direction\n",
        "        if self.num_directions == 1:\n",
        "            final_hidden_state = final_state.squeeze(0)\n",
        "        ## in case we have 2 directions concatenate these two states\n",
        "        elif self.num_directions == 2:\n",
        "            h_1, h_2 = final_state[0], final_state[1]\n",
        "            final_hidden_state = torch.cat((h_1, h_2), 1)  # Concatenate both states\n",
        "\n",
        "        X = final_hidden_state\n",
        "        # Push through linear layers\n",
        "        for l in self.linears:\n",
        "            X = l(X)\n",
        "\n",
        "\n",
        "        if(self.hidden[0].shape[1] == batch_size ):\n",
        "          hidden = (var(self.hidden[0].data), var(self.hidden[1].data))\n",
        "        else:\n",
        "          hidden = hidden_state\n",
        "\n",
        "        return X, hidden"
      ],
      "execution_count": 73,
      "outputs": []
    },
    {
      "cell_type": "code",
      "metadata": {
        "id": "GIbu2nATgv5D"
      },
      "source": [
        "class MultiTaskModel(nn.Module):\n",
        "\n",
        "  def __init__(self, device, params_dictionary):\n",
        "        super(MultiTaskModel, self).__init__()\n",
        "\n",
        "        self.params = params_dictionary\n",
        "        self.device = device\n",
        "\n",
        "        self.net1 = RnnRegressor(device,params_dictionary,0)\n",
        "        self.net2 = RnnRegressor(device,params_dictionary,1)\n",
        "\n",
        "        self.linear_dims = [self.params.get('linear_dims')[-1]*2] + self.params.get('concat_layer')\n",
        "        self.linear_dims.append(self.params.get('label_size'))\n",
        "\n",
        "        self.linears = nn.ModuleList()\n",
        "        for i in range(0, len(self.linear_dims)-1):\n",
        "            if self.params.get('dropout') > 0.0:\n",
        "                self.linears.append(nn.Dropout(p=self.params.get('dropout')))\n",
        "            linear_layer = nn.Linear(self.linear_dims[i], self.linear_dims[i+1])\n",
        "            #self.init_weights(linear_layer)\n",
        "            self.linears.append(linear_layer)\n",
        "            if i == len(self.linear_dims) - 1:\n",
        "                break\n",
        "            self.linears.append(nn.Tanh())\n",
        "\n",
        "        self.to(self.device)\n",
        "\n",
        "\n",
        "  def multitask_reg(self,reg_rate,reg_type):\n",
        "    params_1 = []\n",
        "    params_2 = []\n",
        "    for p in self.net1.parameters():\n",
        "      params_1.append(p)\n",
        "    for p in self.net2.parameters():\n",
        "      params_2.append(p)\n",
        "\n",
        "    subtracted_params = []\n",
        "    added_squares = []\n",
        "    for i,p1 in enumerate(params_1):\n",
        "      if(i!=0):\n",
        "        #print(str(p1.shape) + \" \" + str(params_2[i].shape))\n",
        "        subtracted_params.append(torch.subtract(p1, params_2[i]))\n",
        "        added_squares.append(torch.sqrt(torch.add(torch.square(p1),torch.square(params_2[i]))))\n",
        "\n",
        "    #for p in subtracted_params:\n",
        "    #  print(p.shape)\n",
        "\n",
        "    reg = None\n",
        "    if(reg_type == 'l2'):\n",
        "      reg = sum(p.pow(2.0).sum() for p in subtracted_params)\n",
        "    elif(reg_type == 'l1'):\n",
        "      reg = sum(torch.norm(p, 1).sum() for p in subtracted_params)\n",
        "\n",
        "    return reg_rate*reg\n",
        "\n",
        "  def init_weights(self, layer):\n",
        "    if type(layer) == nn.Linear:\n",
        "      torch.nn.init.xavier_uniform_(layer.weight)\n",
        "      layer.bias.data.fill_(0.01)\n",
        "\n",
        "  \n",
        "  def forward(self, inp):\n",
        "\n",
        "    (inp_1,inp_2,stateful,hidden_state_1,hidden_state_2) = inp\n",
        "\n",
        "    out_1,hidden_state_1 = self.net1.forward((inp_1,stateful,hidden_state_1))\n",
        "    out_2,hidden_state_2 = self.net2.forward((inp_2,stateful,hidden_state_2))\n",
        "    concatenated_output = torch.cat((out_1,out_2),dim=1)\n",
        "\n",
        "    X = concatenated_output\n",
        "\n",
        "    for l in self.linears:\n",
        "      X = l(X)\n",
        "\n",
        "    return X, hidden_state_1, hidden_state_2"
      ],
      "execution_count": 74,
      "outputs": []
    },
    {
      "cell_type": "code",
      "metadata": {
        "id": "qGLCOpl-c4lo"
      },
      "source": [
        "model = MultiTaskModel(device,params_dictionary)"
      ],
      "execution_count": 29,
      "outputs": []
    },
    {
      "cell_type": "code",
      "metadata": {
        "id": "kS7quHZNc4lo"
      },
      "source": [
        "#loss = nn.MSELoss()\n",
        "loss = nn.L1Loss()\n",
        "optimizer =  torch.optim.Adam(model.parameters(), lr=0.001)"
      ],
      "execution_count": 30,
      "outputs": []
    },
    {
      "cell_type": "code",
      "metadata": {
        "id": "3uOOyyauc4lo",
        "colab": {
          "base_uri": "https://localhost:8080/"
        },
        "outputId": "1fb49388-655b-425d-ea18-3a7d20d9ddf6"
      },
      "source": [
        "train_loss = []\n",
        "valid_loss = []\n",
        "\n",
        "training_iter = 10000\n",
        "    \n",
        "#for early stopping :\n",
        "best_cost=1000000 \n",
        "stop = False\n",
        "last_improvement=0\n",
        "require_improvement = 100\n",
        "best_model = None\n",
        "epoch = 0\n",
        "\n",
        "reg_rate = 0.0001\n",
        "regularisation = None\n",
        "#regularisation = 'l2'\n",
        "\n",
        "while epoch < training_iter and stop == False:\n",
        "  epoch += 1\n",
        "  loss_batches = []\n",
        "  stateful_flag = True\n",
        "  hidden1 = None\n",
        "  hidden2 = None\n",
        "\n",
        "  for batch_index,training_batch in enumerate (train_set_loader,0):\n",
        "\n",
        "    al_input_batch,c_input_batch,joint_labels = training_batch\n",
        "    optimizer.zero_grad()\n",
        "\n",
        "    y_pred,hidden1,hidden2 = model.forward((al_input_batch,c_input_batch,stateful_flag,hidden1,hidden2))\n",
        "\n",
        "    if(regularisation == None):\n",
        "      single_loss = loss(y_pred,joint_labels.float()).to(device)\n",
        "    else:\n",
        "      single_loss = loss(y_pred,joint_labels.float()).to(device) + model.multitask_reg(reg_rate,regularisation)\n",
        "\n",
        "    single_loss.backward()\n",
        "    optimizer.step()\n",
        "    optimizer.zero_grad()\n",
        "\n",
        "    loss_batches.append(single_loss.item())\n",
        "    stateful_flag = False\n",
        "  train_loss.append(np.mean(np.array(loss_batches[-1])))\n",
        "\n",
        "  ## compute and store the validation loss\n",
        "  valid_pred,_,_ = model.forward((al_val_data,c_val_data,stateful_flag,hidden1,hidden2))\n",
        "  val_loss = loss(valid_pred,joint_valid_labels.float().to(device)).item()\n",
        "  valid_loss.append(val_loss)\n",
        "\n",
        "  print(\"epoch  \" + str(epoch) + \" \" + str(train_loss[-1]))\n",
        "  print(\"epoch  \" + str(epoch) + \" \" + str(valid_loss[-1]))\n",
        "  clear_output(wait=True)\n",
        "\n",
        "  avg_cost = val_loss\n",
        "  if avg_cost < best_cost:\n",
        "    best_cost = avg_cost\n",
        "    last_improvement = 0\n",
        "    best_model_state = copy.deepcopy(model.state_dict())\n",
        "    torch.save(best_model_state, 'drive/MyDrive/Thesis_Models/multitask_model.pt')\n",
        "  else:\n",
        "    last_improvement +=1\n",
        "            \n",
        "  if last_improvement > require_improvement:\n",
        "    print(\"No improvement found during the last iterations, stopping optimization at epoch: \" + str(epoch))\n",
        "    # Break out from the loop.\n",
        "    stop = True\n",
        "            "
      ],
      "execution_count": 31,
      "outputs": [
        {
          "output_type": "stream",
          "text": [
            "No improvement found during the last iterations, stopping optimization at epoch: 615\n"
          ],
          "name": "stdout"
        }
      ]
    },
    {
      "cell_type": "code",
      "metadata": {
        "id": "GQkWz5uTRnQw",
        "colab": {
          "base_uri": "https://localhost:8080/"
        },
        "outputId": "79740617-2ec3-4af2-cafc-648b6998342b"
      },
      "source": [
        "model = MultiTaskModel(device,params_dictionary)\n",
        "model.load_state_dict(torch.load('drive/MyDrive/Thesis_Models/multitask_model.pt'))\n",
        "model.eval()"
      ],
      "execution_count": 75,
      "outputs": [
        {
          "output_type": "execute_result",
          "data": {
            "text/plain": [
              "MultiTaskModel(\n",
              "  (net1): RnnRegressor(\n",
              "    (rnn): LSTM(28, 512, num_layers=2, batch_first=True, dropout=0.4)\n",
              "    (linears): ModuleList(\n",
              "      (0): Dropout(p=0.4, inplace=False)\n",
              "      (1): Linear(in_features=512, out_features=128, bias=True)\n",
              "      (2): Tanh()\n",
              "      (3): Dropout(p=0.4, inplace=False)\n",
              "      (4): Linear(in_features=128, out_features=64, bias=True)\n",
              "      (5): Tanh()\n",
              "    )\n",
              "  )\n",
              "  (net2): RnnRegressor(\n",
              "    (rnn): LSTM(18, 512, num_layers=2, batch_first=True, dropout=0.4)\n",
              "    (linears): ModuleList(\n",
              "      (0): Dropout(p=0.4, inplace=False)\n",
              "      (1): Linear(in_features=512, out_features=128, bias=True)\n",
              "      (2): Tanh()\n",
              "      (3): Dropout(p=0.4, inplace=False)\n",
              "      (4): Linear(in_features=128, out_features=64, bias=True)\n",
              "      (5): Tanh()\n",
              "    )\n",
              "  )\n",
              "  (linears): ModuleList(\n",
              "    (0): Dropout(p=0.4, inplace=False)\n",
              "    (1): Linear(in_features=128, out_features=32, bias=True)\n",
              "    (2): Tanh()\n",
              "    (3): Dropout(p=0.4, inplace=False)\n",
              "    (4): Linear(in_features=32, out_features=16, bias=True)\n",
              "    (5): Tanh()\n",
              "    (6): Dropout(p=0.4, inplace=False)\n",
              "    (7): Linear(in_features=16, out_features=8, bias=True)\n",
              "    (8): Tanh()\n",
              "    (9): Dropout(p=0.4, inplace=False)\n",
              "    (10): Linear(in_features=8, out_features=2, bias=True)\n",
              "    (11): Tanh()\n",
              "  )\n",
              ")"
            ]
          },
          "metadata": {
            "tags": []
          },
          "execution_count": 75
        }
      ]
    },
    {
      "cell_type": "code",
      "metadata": {
        "id": "QP4_mxwXc4lp",
        "colab": {
          "base_uri": "https://localhost:8080/",
          "height": 295
        },
        "outputId": "fc2fbb82-2bc3-4e4d-8345-11c688b6513e"
      },
      "source": [
        "iters = [i+1 for i in range(len(train_loss))]\n",
        "plt.plot(iters, train_loss ,label = \"training loss\")\n",
        "plt.plot(iters, valid_loss, label = \"validation loss\")\n",
        "plt.xlabel('Loss')\n",
        "plt.ylabel('Iterations')\n",
        "plt.title('Validation vs Training Loss during Training')\n",
        "plt.legend()\n",
        "plt.show()"
      ],
      "execution_count": 76,
      "outputs": [
        {
          "output_type": "display_data",
          "data": {
            "image/png": "[encoded data removed]",
            "text/plain": [
              "<Figure size 432x288 with 1 Axes>"
            ]
          },
          "metadata": {
            "tags": [],
            "needs_background": "light"
          }
        }
      ]
    },
    {
      "cell_type": "code",
      "metadata": {
        "id": "tJMtKNsBs7ba"
      },
      "source": [
        "validation_predictions,_,_ = model.forward((al_val_data,c_val_data,None,hidden1,hidden2))\n",
        "test_predictions,_,_ = model.forward((al_test_data,c_test_data,None,hidden1,hidden2))\n",
        "#training_predictions,_,_ = model.forward((al_train_data,c_train_data,None,hidden1,hidden2))\n",
        "joint_test_labels = joint_test_labels\n",
        "joint_valid_labels = joint_valid_labels\n",
        "joint_train_labels = joint_train_labels"
      ],
      "execution_count": 77,
      "outputs": []
    },
    {
      "cell_type": "code",
      "metadata": {
        "colab": {
          "base_uri": "https://localhost:8080/"
        },
        "id": "AxgaF2MTENc_",
        "outputId": "11fcac8c-9465-4fcc-e49c-d7393d0c0b90"
      },
      "source": [
        "print(loss(validation_predictions,joint_valid_labels.float()))"
      ],
      "execution_count": 78,
      "outputs": [
        {
          "output_type": "stream",
          "text": [
            "tensor(0.0373, device='cuda:0', grad_fn=<L1LossBackward>)\n"
          ],
          "name": "stdout"
        }
      ]
    },
    {
      "cell_type": "code",
      "metadata": {
        "id": "Url6rCQGtaWQ"
      },
      "source": [
        "index_1 = [i+1 for i in range(len(validation_predictions))]\n",
        "index_2 = [i+1 for i in range(len(test_predictions))]\n",
        "#index_3 = [i+1 for i in range(len(training_predictions))]"
      ],
      "execution_count": 79,
      "outputs": []
    },
    {
      "cell_type": "code",
      "metadata": {
        "id": "JJH1jkxJ8yVQ"
      },
      "source": [
        "validation_predictions = validation_predictions.cpu().detach().numpy()\n",
        "joint_valid_labels = joint_valid_labels.cpu().detach().numpy()\n",
        "test_predictions = test_predictions.cpu().detach().numpy()\n",
        "joint_test_labels = joint_test_labels.cpu().detach().numpy()"
      ],
      "execution_count": 80,
      "outputs": []
    },
    {
      "cell_type": "code",
      "metadata": {
        "id": "rH7DDI6NsNhr",
        "colab": {
          "base_uri": "https://localhost:8080/",
          "height": 295
        },
        "outputId": "4f4907b4-5f22-401e-ac54-81e7b4f060e7"
      },
      "source": [
        "plt.plot(index_1, validation_predictions ,label = \"predictions\")\n",
        "plt.plot(index_1, joint_valid_labels, label = \"ground truth\")\n",
        "plt.xlabel('Values')\n",
        "plt.ylabel('dates')\n",
        "plt.title('Predictions Vs Ground Truth')\n",
        "plt.legend()\n",
        "plt.show()"
      ],
      "execution_count": 82,
      "outputs": [
        {
          "output_type": "display_data",
          "data": {
            "image/png": "[encoded data removed]",
            "text/plain": [
              "<Figure size 432x288 with 1 Axes>"
            ]
          },
          "metadata": {
            "tags": [],
            "needs_background": "light"
          }
        }
      ]
    },
    {
      "cell_type": "code",
      "metadata": {
        "id": "NZrTChgkuBA8",
        "colab": {
          "base_uri": "https://localhost:8080/",
          "height": 295
        },
        "outputId": "71833893-b2b3-42ac-e3f1-befab13bd148"
      },
      "source": [
        "plt.plot(index_2,  test_predictions,label = \"predictions\")\n",
        "plt.plot(index_2, joint_test_labels, label = \"ground truth\")\n",
        "plt.xlabel('Values')\n",
        "plt.ylabel('dates')\n",
        "plt.title('Predictions Vs Ground Truth')\n",
        "plt.legend()\n",
        "plt.show()"
      ],
      "execution_count": 85,
      "outputs": [
        {
          "output_type": "display_data",
          "data": {
            "image/png": "[encoded data removed]",
            "text/plain": [
              "<Figure size 432x288 with 1 Axes>"
            ]
          },
          "metadata": {
            "tags": [],
            "needs_background": "light"
          }
        }
      ]
    },
    {
      "cell_type": "code",
      "metadata": {
        "id": "NQL4_TsSFU9k",
        "colab": {
          "base_uri": "https://localhost:8080/"
        },
        "outputId": "71be254c-e5d3-4275-9e67-80e0a5746f17"
      },
      "source": [
        "print(joint_test_labels.shape)\n",
        "print(test_predictions.shape)"
      ],
      "execution_count": 86,
      "outputs": [
        {
          "output_type": "stream",
          "text": [
            "(256, 2)\n",
            "(256, 2)\n"
          ],
          "name": "stdout"
        }
      ]
    },
    {
      "cell_type": "code",
      "metadata": {
        "id": "2-qyBqB7EhV5",
        "colab": {
          "base_uri": "https://localhost:8080/"
        },
        "outputId": "2bdc107c-59b9-42e4-bebe-ea5e98b9270e"
      },
      "source": [
        "print(\"Mean Directional Accuracy: \" + str(utils.mean_directional_accuracy(joint_test_labels,test_predictions)))\n",
        "print(\"Root Mean Squared Error : \" + str(utils.rmse(test_predictions, joint_test_labels)))"
      ],
      "execution_count": 87,
      "outputs": [
        {
          "output_type": "stream",
          "text": [
            "Mean Directional Accuracy: 0.5686274509803921\n",
            "Root Mean Squared Error : 0.06912729010980466\n"
          ],
          "name": "stdout"
        }
      ]
    },
    {
      "cell_type": "code",
      "metadata": {
        "id": "Ejcnwtt3Em5f",
        "colab": {
          "base_uri": "https://localhost:8080/"
        },
        "outputId": "cd2ecf15-74f7-4bcd-ff27-af5e5c9311c1"
      },
      "source": [
        "print(\"Mean Directional Accuracy: \" + str(utils.mean_directional_accuracy(joint_valid_labels,validation_predictions)))\n",
        "print(\"Root Mean Squared Error : \" + str(utils.rmse(validation_predictions, joint_valid_labels)))"
      ],
      "execution_count": 88,
      "outputs": [
        {
          "output_type": "stream",
          "text": [
            "Mean Directional Accuracy: 0.5568627450980392\n",
            "Root Mean Squared Error : 0.04638889307865985\n"
          ],
          "name": "stdout"
        }
      ]
    }
  ]
}