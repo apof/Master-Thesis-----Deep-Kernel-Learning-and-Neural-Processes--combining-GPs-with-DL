{
  "nbformat": 4,
  "nbformat_minor": 5,
  "metadata": {
    "colab": {
      "name": "Deep Kernel Learning.ipynb",
      "provenance": [],
      "collapsed_sections": [],
      "machine_shape": "hm",
      "include_colab_link": true
    },
    "kernelspec": {
      "display_name": "Python 3",
      "language": "python",
      "name": "python3"
    },
    "language_info": {
      "codemirror_mode": {
        "name": "ipython",
        "version": 3
      },
      "file_extension": ".py",
      "mimetype": "text/x-python",
      "name": "python",
      "nbconvert_exporter": "python",
      "pygments_lexer": "ipython3",
      "version": "3.8.8"
    },
    "accelerator": "GPU"
  },
  "cells": [
    {
      "cell_type": "markdown",
      "metadata": {
        "id": "view-in-github",
        "colab_type": "text"
      },
      "source": [
        "<a href=\"https://colab.research.google.com/github/apof/ChAI---Deep-Kernel-Learning-combining-GPs-with-DL/blob/main/Deep_Kernel_Learning.ipynb\" target=\"_parent\"><img src=\"https://colab.research.google.com/assets/colab-badge.svg\" alt=\"Open In Colab\"/></a>"
      ]
    },
    {
      "cell_type": "code",
      "metadata": {
        "colab": {
          "base_uri": "https://localhost:8080/"
        },
        "id": "64uVW5pgsQS7",
        "outputId": "c1945bc7-d68a-4699-9b7c-2ab1ecb1e4ba"
      },
      "source": [
        "!pip install gpytorch"
      ],
      "id": "64uVW5pgsQS7",
      "execution_count": 1,
      "outputs": [
        {
          "output_type": "stream",
          "text": [
            "Requirement already satisfied: gpytorch in /usr/local/lib/python3.7/dist-packages (1.5.0)\n",
            "Requirement already satisfied: torch>=1.8.1 in /usr/local/lib/python3.7/dist-packages (from gpytorch) (1.9.0+cu102)\n",
            "Requirement already satisfied: scikit-learn in /usr/local/lib/python3.7/dist-packages (from gpytorch) (0.22.2.post1)\n",
            "Requirement already satisfied: scipy in /usr/local/lib/python3.7/dist-packages (from gpytorch) (1.4.1)\n",
            "Requirement already satisfied: typing-extensions in /usr/local/lib/python3.7/dist-packages (from torch>=1.8.1->gpytorch) (3.7.4.3)\n",
            "Requirement already satisfied: joblib>=0.11 in /usr/local/lib/python3.7/dist-packages (from scikit-learn->gpytorch) (1.0.1)\n",
            "Requirement already satisfied: numpy>=1.11.0 in /usr/local/lib/python3.7/dist-packages (from scikit-learn->gpytorch) (1.19.5)\n"
          ],
          "name": "stdout"
        }
      ]
    },
    {
      "cell_type": "code",
      "metadata": {
        "id": "c7122c8a"
      },
      "source": [
        "import torch\n",
        "import torch.nn as nn\n",
        "import torch.nn.functional as F\n",
        "import numpy as np\n",
        "import joblib\n",
        "from IPython.display import clear_output\n",
        "import matplotlib.pyplot as plt\n",
        "from torch.autograd import Variable\n",
        "import copy\n",
        "\n",
        "\n",
        "import math\n",
        "import tqdm\n",
        "import torch\n",
        "import gpytorch\n",
        "from matplotlib import pyplot as plt\n",
        "\n",
        "# Make plots inline\n",
        "%matplotlib inline"
      ],
      "id": "c7122c8a",
      "execution_count": 2,
      "outputs": []
    },
    {
      "cell_type": "code",
      "metadata": {
        "id": "2VmPA7WZom5f"
      },
      "source": [
        "#NN = 'MLP'\n",
        "NN = 'RNN'\n",
        "#NN = None"
      ],
      "id": "2VmPA7WZom5f",
      "execution_count": 4,
      "outputs": []
    },
    {
      "cell_type": "code",
      "metadata": {
        "colab": {
          "base_uri": "https://localhost:8080/"
        },
        "id": "tasV2uZfsnoV",
        "outputId": "a037097e-d63f-4cce-c4e7-5bb968b14e1b"
      },
      "source": [
        "from google.colab import drive\n",
        "drive.mount('/content/drive')"
      ],
      "id": "tasV2uZfsnoV",
      "execution_count": 5,
      "outputs": [
        {
          "output_type": "stream",
          "text": [
            "Drive already mounted at /content/drive; to attempt to forcibly remount, call drive.mount(\"/content/drive\", force_remount=True).\n"
          ],
          "name": "stdout"
        }
      ]
    },
    {
      "cell_type": "code",
      "metadata": {
        "id": "92B_jmfmtCVw"
      },
      "source": [
        "## immport useful utilities from previous coursework\n",
        "import sys\n",
        "sys.path.insert(0,'drive/MyDrive/SNLP/')\n",
        "import utils\n",
        "import models"
      ],
      "id": "92B_jmfmtCVw",
      "execution_count": 6,
      "outputs": []
    },
    {
      "cell_type": "code",
      "metadata": {
        "id": "QOWCITtMsw4A"
      },
      "source": [
        "device = torch.device(\"cuda\" if torch.cuda.is_available() else \"cpu\")"
      ],
      "id": "QOWCITtMsw4A",
      "execution_count": 7,
      "outputs": []
    },
    {
      "cell_type": "code",
      "metadata": {
        "id": "6QoPfMSds4kV"
      },
      "source": [
        "if(NN == 'RNN'):\n",
        "  '''aluminium_inputs = joblib.load('drive/MyDrive/Thesis_Vectors/small_h_aluminium_vectors')\n",
        "  aluminium_labels = joblib.load('drive/MyDrive/Thesis_Vectors/small_h_aluminium_labels')\n",
        "  aluminium_dates = joblib.load('drive/MyDrive/Thesis_Vectors/small_h_aluminium_dates')'''\n",
        "\n",
        "  aluminium_inputs = joblib.load('drive/MyDrive/Thesis_Vectors/small_f_aluminium_vectors')\n",
        "  aluminium_labels = joblib.load('drive/MyDrive/Thesis_Vectors/small_f_aluminium_labels')\n",
        "  aluminium_dates = joblib.load('drive/MyDrive/Thesis_Vectors/small_f_aluminium_dates')\n",
        "else:\n",
        "\n",
        "  '''aluminium_inputs = joblib.load('drive/MyDrive/Thesis_Vectors/single_h_aluminium_vectors')\n",
        "  aluminium_labels = joblib.load('drive/MyDrive/Thesis_Vectors/single_h_aluminium_labels')\n",
        "  aluminium_dates = joblib.load('drive/MyDrive/Thesis_Vectors/single_h_aluminium_dates')'''\n",
        "\n",
        "  aluminium_inputs = joblib.load('drive/MyDrive/Thesis_Vectors/single_f_aluminium_vectors')\n",
        "  aluminium_labels = joblib.load('drive/MyDrive/Thesis_Vectors/single_f_aluminium_labels')\n",
        "  aluminium_dates = joblib.load('drive/MyDrive/Thesis_Vectors/single_f_aluminium_dates')"
      ],
      "id": "6QoPfMSds4kV",
      "execution_count": 8,
      "outputs": []
    },
    {
      "cell_type": "code",
      "metadata": {
        "id": "fe60f47a"
      },
      "source": [
        "train_batches,validation_batches,test_batches = utils.train_test_split(aluminium_inputs,aluminium_labels,aluminium_dates,aluminium_inputs.shape[0],0.8,0.7,0)"
      ],
      "id": "fe60f47a",
      "execution_count": 9,
      "outputs": []
    },
    {
      "cell_type": "code",
      "metadata": {
        "id": "dfbdf0a2"
      },
      "source": [
        "train_data,train_labels,train_dates = train_batches[0]\n",
        "test_data,test_labels,test_dates = test_batches[0]\n",
        "val_data,val_labels,val_dates = validation_batches[0]"
      ],
      "id": "dfbdf0a2",
      "execution_count": 10,
      "outputs": []
    },
    {
      "cell_type": "code",
      "metadata": {
        "id": "bb7fa056"
      },
      "source": [
        "train_data = torch.from_numpy(train_data).to(device)\n",
        "train_labels = torch.from_numpy(train_labels).to(device)\n",
        "test_data = torch.from_numpy(test_data).to(device)\n",
        "test_labels = torch.from_numpy(test_labels).to(device)\n",
        "val_data = torch.from_numpy(val_data).to(device)\n",
        "val_labels = torch.from_numpy(val_labels).to(device)\n",
        "train_data = torch.squeeze(train_data, dim = 1)\n",
        "test_data = torch.squeeze(test_data, dim = 1)\n",
        "val_data = torch.squeeze(val_data, dim = 1)"
      ],
      "id": "bb7fa056",
      "execution_count": 11,
      "outputs": []
    },
    {
      "cell_type": "code",
      "metadata": {
        "id": "cm4rTk7WKfzE",
        "colab": {
          "base_uri": "https://localhost:8080/"
        },
        "outputId": "379d92d6-815d-4667-8780-6c11d6867b42"
      },
      "source": [
        "if(NN == 'RNN'):\n",
        "  timesteps = train_data.shape[1]\n",
        "  features_num = train_data.shape[2]\n",
        "  print(timesteps)\n",
        "  print(features_num)\n",
        "  train_data = torch.reshape(train_data, (-1,timesteps*features_num))\n",
        "  val_data = torch.reshape(val_data, (-1,timesteps*features_num))\n",
        "  test_data = torch.reshape(test_data, (-1,timesteps*features_num))"
      ],
      "id": "cm4rTk7WKfzE",
      "execution_count": 12,
      "outputs": [
        {
          "output_type": "stream",
          "text": [
            "3\n",
            "55\n"
          ],
          "name": "stdout"
        }
      ]
    },
    {
      "cell_type": "code",
      "metadata": {
        "id": "e6217881",
        "colab": {
          "base_uri": "https://localhost:8080/"
        },
        "outputId": "f4e7e383-8f27-43d1-d82e-b0afd4d9cb00"
      },
      "source": [
        "print(train_data.shape)\n",
        "print(train_labels.shape)\n",
        "print(test_data.shape)\n",
        "print(test_labels.shape)\n",
        "print(val_data.shape)\n",
        "print(val_labels.shape)"
      ],
      "id": "e6217881",
      "execution_count": 13,
      "outputs": [
        {
          "output_type": "stream",
          "text": [
            "torch.Size([670, 165])\n",
            "torch.Size([670])\n",
            "torch.Size([50, 165])\n",
            "torch.Size([50])\n",
            "torch.Size([118, 165])\n",
            "torch.Size([118])\n"
          ],
          "name": "stdout"
        }
      ]
    },
    {
      "cell_type": "code",
      "metadata": {
        "id": "bcdbc32b"
      },
      "source": [
        "if(NN!=None):\n",
        "  representation_dim = 10\n",
        "else:\n",
        "  representation_dim = train_data.shape[1]\n",
        "#KERNEL = 'RBF'\n",
        "#KERNEL = 'MIX'\n",
        "KERNEL = 'MATERN'"
      ],
      "id": "bcdbc32b",
      "execution_count": 14,
      "outputs": []
    },
    {
      "cell_type": "code",
      "metadata": {
        "id": "mWIoiHcCkaCB"
      },
      "source": [
        "## define a dictionary with the parameters of the Neural Network\n",
        "params_dictionary = {}\n",
        "if(NN == 'RNN'):\n",
        "  params_dictionary['embedding_size'] = (features_num,features_num)\n",
        "else:\n",
        "  params_dictionary['embedding_size'] = (train_data[0].shape[0],train_data[0].shape[0])\n",
        "params_dictionary['hidden_dim'] = 512\n",
        "params_dictionary['linear_dims'] = [256,128,representation_dim]\n",
        "params_dictionary['bidirectional'] = False\n",
        "params_dictionary['label_size'] = 2\n",
        "params_dictionary['dropout'] = 0.3\n",
        "params_dictionary['rnn_layers_num'] = 1\n",
        "params_dictionary['concat_layer'] = [32]\n",
        "params_dictionary['timesteps'] = train_data[0].shape[0]\n",
        "params_dictionary['attention_layer'] = True\n",
        "params_dictionary['kernel_size'] = 5\n",
        "params_dictionary['cnn_reduced_dim_1'] = 25\n",
        "params_dictionary['cnn_reduced_dim_2'] = 14\n",
        "params_dictionary['cnn_layer'] = False"
      ],
      "id": "mWIoiHcCkaCB",
      "execution_count": 15,
      "outputs": []
    },
    {
      "cell_type": "code",
      "metadata": {
        "id": "N6auprlnDojx",
        "colab": {
          "base_uri": "https://localhost:8080/"
        },
        "outputId": "f9bae332-d08f-4659-e04e-e0ff2162147f"
      },
      "source": [
        "if(NN == 'MLP'):    \n",
        "  feature_extractor = models.MLPFeatureExtractor(train_data.size(-1),representation_dim).to(device)\n",
        "else:\n",
        "  feature_extractor = models.RnnRegressor(device,params_dictionary,0)"
      ],
      "id": "N6auprlnDojx",
      "execution_count": 16,
      "outputs": [
        {
          "output_type": "stream",
          "text": [
            "/usr/local/lib/python3.7/dist-packages/torch/nn/modules/rnn.py:65: UserWarning: dropout option adds dropout after all but last recurrent layer, so non-zero dropout expects num_layers greater than 1, but got dropout=0.3 and num_layers=1\n",
            "  \"num_layers={}\".format(dropout, num_layers))\n"
          ],
          "name": "stderr"
        }
      ]
    },
    {
      "cell_type": "code",
      "metadata": {
        "id": "18534ecc"
      },
      "source": [
        "class GPRegressionModel(gpytorch.models.ExactGP):\n",
        "        def __init__(self, train_x, train_y, likelihood, params_dictionary):\n",
        "            super(GPRegressionModel, self).__init__(train_x, train_y, likelihood)\n",
        "\n",
        "            self.mean_module = gpytorch.means.ConstantMean()\n",
        "            self.param_dict = params_dictionary\n",
        "\n",
        "            if(KERNEL == 'RBF'):\n",
        "                self.covar_module = gpytorch.kernels.ScaleKernel(gpytorch.kernels.RBFKernel())\n",
        "            elif(KERNEL == 'MIX'):\n",
        "                self.covar_module = gpytorch.kernels.SpectralMixtureKernel(num_mixtures=4, ard_num_dims=representation_dim)\n",
        "            else:\n",
        "                self.covar_module = gpytorch.kernels.ScaleKernel(gpytorch.kernels.MaternKernel(nu=0.5))\n",
        "\n",
        "        def set_feature_extractor(self,nn):  \n",
        "            self.feature_extractor = nn\n",
        "           \n",
        "        def forward(self, x):\n",
        "            #print('forward shape:  ' + str(x.shape))\n",
        "            # We're first putting our data through a deep net (feature extractor)\n",
        "            # We're also scaling the features so that they're nice values\n",
        "            if(NN == 'RNN'):\n",
        "              x = torch.reshape(x, (-1,timesteps,features_num))\n",
        "              projected_x,_ = self.feature_extractor((x.to(dtype=torch.float16),True,None),self.param_dict)\n",
        "            elif(NN == 'MLP'):\n",
        "              projected_x = self.feature_extractor(x.float())\n",
        "            else:\n",
        "              projected_x = x\n",
        "              \n",
        "            #print(projected_x.shape)\n",
        "            #print(projected_x.dtype)\n",
        "            \n",
        "            #projected_x = projected_x - projected_x.min(0)[0]\n",
        "            #projected_x = 2 * (projected_x / projected_x.max(0)[0]) - 1\n",
        "\n",
        "            mean_x = self.mean_module(projected_x)\n",
        "            covar_x = self.covar_module(projected_x)\n",
        "            return gpytorch.distributions.MultivariateNormal(mean_x, covar_x)\n",
        "        \n",
        "        \n",
        "        def get_representation(self,x):\n",
        "            return self.feature_extractor(x)   "
      ],
      "id": "18534ecc",
      "execution_count": 17,
      "outputs": []
    },
    {
      "cell_type": "code",
      "metadata": {
        "id": "9c47efc1"
      },
      "source": [
        "likelihood = gpytorch.likelihoods.GaussianLikelihood()\n",
        "model = GPRegressionModel(train_data,train_labels, likelihood, params_dictionary).double()\n",
        "model.set_feature_extractor(feature_extractor)\n",
        "\n",
        "model = model.to(device)\n",
        "likelihood = likelihood.to(device)"
      ],
      "id": "9c47efc1",
      "execution_count": 18,
      "outputs": []
    },
    {
      "cell_type": "code",
      "metadata": {
        "id": "4e491c29",
        "colab": {
          "base_uri": "https://localhost:8080/"
        },
        "outputId": "acf3fe88-ef56-4dc6-bb64-51965c01216b"
      },
      "source": [
        "\n",
        "# Find optimal model hyperparameters\n",
        "model.train()\n",
        "likelihood.train()\n",
        "\n",
        "# Use the adam optimizer\n",
        "optimizer = torch.optim.Adam([\n",
        "    {'params': model.feature_extractor.parameters()},\n",
        "    {'params': model.covar_module.parameters()},\n",
        "    {'params': model.mean_module.parameters()},\n",
        "    {'params': model.likelihood.parameters()},\n",
        "], lr=0.01)\n",
        "\n",
        "# \"Loss\" for GPs - the marginal log likelihood\n",
        "mll = gpytorch.mlls.ExactMarginalLogLikelihood(likelihood, model)\n",
        "\n",
        "training_iterations = 5000\n",
        "\n",
        "training_loss = []\n",
        "validation_loss = []\n",
        "\n",
        "def train():\n",
        "    \n",
        "    best_cost=1000000 \n",
        "    stop = False\n",
        "    last_improvement=0\n",
        "    require_improvement = 30\n",
        "    best_model = None\n",
        "    epoch = 0\n",
        "    \n",
        "    while(stop == False):\n",
        "        # Find optimal model hyperparameters\n",
        "        model.train()\n",
        "        likelihood.train()\n",
        "        \n",
        "        epoch += 1\n",
        "        \n",
        "        # Zero backprop gradients\n",
        "        optimizer.zero_grad()\n",
        "        # Get output from model\n",
        "        output = model(train_data)\n",
        "        # Calc loss and backprop derivatives\n",
        "        loss = -mll(output, train_labels)\n",
        "        training_loss.append(loss.item())\n",
        "        loss.backward()\n",
        "        optimizer.step()\n",
        "        \n",
        "        print(\"epoch  \" + str(epoch+1) + \" \" + str(training_loss[-1]))\n",
        "        clear_output(wait=True)\n",
        "        \n",
        "        # Get into evaluation (predictive posterior) mode\n",
        "        model.eval()\n",
        "        likelihood.eval()\n",
        "                \n",
        "        with torch.no_grad(), gpytorch.settings.fast_pred_var(), gpytorch.settings.use_toeplitz(False):\n",
        "\n",
        "            #print(val_data.shape)\n",
        "            #print(val_labels.shape)\n",
        "            ## Calculate the validation loss\n",
        "            val_loss = -mll(model(val_data), val_labels)\n",
        "            validation_loss.append(val_loss.item())\n",
        "            \n",
        "            \n",
        "            avg_cost = val_loss\n",
        "            if avg_cost < best_cost:\n",
        "                best_cost = avg_cost\n",
        "                last_improvement = 0\n",
        "                best_model_state = copy.deepcopy(model.state_dict())\n",
        "                torch.save(best_model_state, 'DKL.pt')\n",
        "            else:\n",
        "                last_improvement +=1\n",
        "                \n",
        "            if last_improvement > require_improvement:\n",
        "                print(\"No improvement found during the last iterations, stopping optimization at epoch: \" + str(epoch))\n",
        "                # Break out from the loop.\n",
        "                stop = True\n",
        "        \n",
        "\n",
        "%time train()"
      ],
      "id": "4e491c29",
      "execution_count": 19,
      "outputs": [
        {
          "output_type": "stream",
          "text": [
            "No improvement found during the last iterations, stopping optimization at epoch: 220\n",
            "CPU times: user 11.4 s, sys: 1.4 s, total: 12.8 s\n",
            "Wall time: 15.3 s\n"
          ],
          "name": "stdout"
        }
      ]
    },
    {
      "cell_type": "code",
      "metadata": {
        "id": "62d57477",
        "colab": {
          "base_uri": "https://localhost:8080/",
          "height": 295
        },
        "outputId": "49374c73-70ed-4b12-e6e9-fe04efc63056"
      },
      "source": [
        "index = [i+1 for i in range(len(training_loss))]\n",
        "plt.plot(index, training_loss, label = \"train loss\")\n",
        "plt.plot(index, validation_loss, label = \"val loss\")\n",
        "plt.xlabel('Iters')\n",
        "plt.ylabel('Loss')\n",
        "plt.title('Loss')\n",
        "plt.legend()\n",
        "plt.show()"
      ],
      "id": "62d57477",
      "execution_count": 20,
      "outputs": [
        {
          "output_type": "display_data",
          "data": {
            "image/png": "[encoded data removed]",
            "text/plain": [
              "<Figure size 432x288 with 1 Axes>"
            ]
          },
          "metadata": {
            "tags": [],
            "needs_background": "light"
          }
        }
      ]
    },
    {
      "cell_type": "code",
      "metadata": {
        "id": "674e3958"
      },
      "source": [
        "model.eval()\n",
        "likelihood.eval()\n",
        "predictions = []\n",
        "\n",
        "#data= torch.cat((val_data, test_data), 0)\n",
        "#labels = torch.cat((val_labels, test_labels), 0)\n",
        "data = val_data\n",
        "labels = val_labels\n",
        "\n",
        "\n",
        "with torch.no_grad(), gpytorch.settings.fast_pred_var():\n",
        "    predictions.append(likelihood(model(data)))\n"
      ],
      "id": "674e3958",
      "execution_count": 21,
      "outputs": []
    },
    {
      "cell_type": "code",
      "metadata": {
        "id": "16de62cd"
      },
      "source": [
        "pred_means = []\n",
        "pred_uconf = []\n",
        "pred_lconf = []\n",
        "\n",
        "for p in predictions:\n",
        "    pred_means.append(p.mean.cpu().numpy())\n",
        "    l, u = p.confidence_region()\n",
        "    pred_lconf.append(l.cpu().detach().numpy())\n",
        "    pred_uconf.append(u.cpu().detach().numpy())\n",
        "pred_means = pred_means[0]\n",
        "pred_uconf  = pred_uconf[0]\n",
        "pred_lconf = pred_lconf[0]"
      ],
      "id": "16de62cd",
      "execution_count": 22,
      "outputs": []
    },
    {
      "cell_type": "code",
      "metadata": {
        "id": "17dcf847"
      },
      "source": [
        "def find_bound_coverage(pred,u_bound,l_bound):\n",
        "    inside = 0\n",
        "    outside = 0\n",
        "    for i,p in enumerate(pred):\n",
        "        if(p < u_bound[i] and p > l_bound[i]):\n",
        "            inside += 1\n",
        "        else:\n",
        "            outside += 1\n",
        "    return (inside * 100)/len(pred), (outside * 100)/len(pred)"
      ],
      "id": "17dcf847",
      "execution_count": 23,
      "outputs": []
    },
    {
      "cell_type": "code",
      "metadata": {
        "id": "2bf052a8"
      },
      "source": [
        "inside_percenatge, outside_percentage = find_bound_coverage(labels,pred_uconf,pred_lconf)"
      ],
      "id": "2bf052a8",
      "execution_count": 24,
      "outputs": []
    },
    {
      "cell_type": "code",
      "metadata": {
        "id": "c518eaf0",
        "colab": {
          "base_uri": "https://localhost:8080/"
        },
        "outputId": "9fd882a7-7ae9-410f-c264-95f77ee72e57"
      },
      "source": [
        "print('Inside Percenatge: ' + str(inside_percenatge))\n",
        "print('Outside Percenatge: ' + str(outside_percentage))"
      ],
      "id": "c518eaf0",
      "execution_count": 25,
      "outputs": [
        {
          "output_type": "stream",
          "text": [
            "Inside Percenatge: 78.8135593220339\n",
            "Outside Percenatge: 21.1864406779661\n"
          ],
          "name": "stdout"
        }
      ]
    },
    {
      "cell_type": "code",
      "metadata": {
        "id": "f699cff6"
      },
      "source": [
        "index = [i+1 for i in range(pred_means.shape[0])]"
      ],
      "id": "f699cff6",
      "execution_count": 26,
      "outputs": []
    },
    {
      "cell_type": "code",
      "metadata": {
        "id": "5e5d3ac8",
        "colab": {
          "base_uri": "https://localhost:8080/"
        },
        "outputId": "f95d7e3a-e166-4435-dd32-4b36e7e0bcef"
      },
      "source": [
        "print(len(labels))\n",
        "print(len(pred_means))"
      ],
      "id": "5e5d3ac8",
      "execution_count": 27,
      "outputs": [
        {
          "output_type": "stream",
          "text": [
            "118\n",
            "118\n"
          ],
          "name": "stdout"
        }
      ]
    },
    {
      "cell_type": "code",
      "metadata": {
        "colab": {
          "base_uri": "https://localhost:8080/"
        },
        "id": "3rknkcFMrRfp",
        "outputId": "fa6d4c9a-ce1b-4972-a5f4-34d32a18333e"
      },
      "source": [
        "pred_means"
      ],
      "id": "3rknkcFMrRfp",
      "execution_count": 28,
      "outputs": [
        {
          "output_type": "execute_result",
          "data": {
            "text/plain": [
              "array([-0.23047508, -0.07214965, -0.01946895, -0.0058545 ,  0.06229081,\n",
              "        0.13562838, -0.06453837, -0.00538219, -0.04900612, -0.07810875,\n",
              "       -0.07430342, -0.14263149, -0.19942874, -0.23758842, -0.24665874,\n",
              "       -0.27497982, -0.23918188, -0.25262481, -0.27481099, -0.30243336,\n",
              "       -0.32154294, -0.40691889, -0.3960355 , -0.40459353, -0.39038144,\n",
              "       -0.3608681 , -0.28557825, -0.29916917, -0.28063558, -0.25358738,\n",
              "       -0.2230252 , -0.17163615, -0.11509215, -0.11948031, -0.12072825,\n",
              "       -0.16636338, -0.10994137, -0.10996269, -0.10989933, -0.12873807,\n",
              "       -0.11990278, -0.24978581, -0.26579443, -0.24440164, -0.19500545,\n",
              "       -0.16128028, -0.20195417, -0.22503836, -0.2280765 , -0.20902412,\n",
              "       -0.16780942, -0.25240646, -0.26285197, -0.29281615, -0.51821795,\n",
              "        0.36199452,  0.29243541,  0.64042911,  0.63308047,  0.01794651,\n",
              "       -0.26304513, -0.26076242, -0.00128544, -0.24969601, -0.19528789,\n",
              "       -0.44094594,  0.28397844,  0.63961793,  0.09994685, -0.01550947,\n",
              "       -0.14984404, -0.43143504, -0.2274042 , -0.0397319 ,  0.00249638,\n",
              "        0.09827467, -0.1455655 ,  0.01509619,  0.03434171,  0.00439248,\n",
              "       -0.43906424, -0.08948115, -0.2400134 ,  0.63439175,  0.62408086,\n",
              "        0.56037844,  0.44491159,  0.63589728,  0.6392928 ,  0.4545375 ,\n",
              "        0.01646027, -0.22324205, -0.60587402, -0.47572462, -0.36838367,\n",
              "       -0.21842537, -0.64049914, -0.65015129, -0.22247763,  0.20879471,\n",
              "        0.36093673,  0.01982993,  0.2093037 ,  0.28977887,  0.31929464,\n",
              "       -0.22188471,  0.09821192,  0.56409723,  0.27659863,  0.52032918,\n",
              "        0.63887413,  0.63791522,  0.63969007,  0.63545157,  0.40582182,\n",
              "        0.42923263,  0.37934915,  0.58689494])"
            ]
          },
          "metadata": {
            "tags": []
          },
          "execution_count": 28
        }
      ]
    },
    {
      "cell_type": "code",
      "metadata": {
        "id": "AMV645OlZWlX",
        "colab": {
          "base_uri": "https://localhost:8080/",
          "height": 1000
        },
        "outputId": "f8d19f4f-ead4-44c1-d388-afc50194b9c4"
      },
      "source": [
        "utils.plot_directional_results(pred_means,labels.cpu().detach().numpy(),index)"
      ],
      "id": "AMV645OlZWlX",
      "execution_count": 29,
      "outputs": [
        {
          "output_type": "display_data",
          "data": {
            "image/png": "[encoded data removed]",
            "text/plain": [
              "<Figure size 1440x1440 with 1 Axes>"
            ]
          },
          "metadata": {
            "tags": [],
            "needs_background": "light"
          }
        }
      ]
    },
    {
      "cell_type": "code",
      "metadata": {
        "id": "8ed0580a",
        "colab": {
          "base_uri": "https://localhost:8080/",
          "height": 295
        },
        "outputId": "a7515e28-df1f-4af7-9925-3f39540da6a4"
      },
      "source": [
        "fig, ax = plt.subplots()\n",
        "ax.plot(index,pred_means,label = 'predictions')\n",
        "ax.plot(index,labels.cpu().detach().numpy(),label = 'labels')\n",
        "ax.fill_between(index, pred_lconf, pred_uconf, color='b', alpha=.25)\n",
        "plt.xlabel('Timesteps')\n",
        "plt.ylabel('Predictions')\n",
        "plt.title('Validation and Testing Period')\n",
        "plt.legend()\n",
        "plt.show()"
      ],
      "id": "8ed0580a",
      "execution_count": 30,
      "outputs": [
        {
          "output_type": "display_data",
          "data": {
            "image/png": "[encoded data removed]",
            "text/plain": [
              "<Figure size 432x288 with 1 Axes>"
            ]
          },
          "metadata": {
            "tags": [],
            "needs_background": "light"
          }
        }
      ]
    },
    {
      "cell_type": "code",
      "metadata": {
        "id": "18f4787b"
      },
      "source": [
        "#low_dim_represenations = model.get_representation(train_data.float()).cpu().detach().numpy()"
      ],
      "id": "18f4787b",
      "execution_count": 31,
      "outputs": []
    },
    {
      "cell_type": "code",
      "metadata": {
        "id": "d4581edc",
        "colab": {
          "base_uri": "https://localhost:8080/",
          "height": 35
        },
        "outputId": "4a32c11d-e26d-4278-e1a0-80ae185a19b9"
      },
      "source": [
        "'''x = low_dim_represenations[:,0]\n",
        "y = low_dim_represenations[:,1]\n",
        "z = low_dim_represenations[:,2]'''"
      ],
      "id": "d4581edc",
      "execution_count": 32,
      "outputs": [
        {
          "output_type": "execute_result",
          "data": {
            "application/vnd.google.colaboratory.intrinsic+json": {
              "type": "string"
            },
            "text/plain": [
              "'x = low_dim_represenations[:,0]\\ny = low_dim_represenations[:,1]\\nz = low_dim_represenations[:,2]'"
            ]
          },
          "metadata": {
            "tags": []
          },
          "execution_count": 32
        }
      ]
    },
    {
      "cell_type": "code",
      "metadata": {
        "id": "439451a3",
        "colab": {
          "base_uri": "https://localhost:8080/",
          "height": 35
        },
        "outputId": "77aba99b-e75d-4722-9599-ace28d56220c"
      },
      "source": [
        "'''from mpl_toolkits import mplot3d\n",
        "%matplotlib inline\n",
        "import numpy as np\n",
        "import matplotlib.pyplot as plt'''"
      ],
      "id": "439451a3",
      "execution_count": 33,
      "outputs": [
        {
          "output_type": "execute_result",
          "data": {
            "application/vnd.google.colaboratory.intrinsic+json": {
              "type": "string"
            },
            "text/plain": [
              "'from mpl_toolkits import mplot3d\\n%matplotlib inline\\nimport numpy as np\\nimport matplotlib.pyplot as plt'"
            ]
          },
          "metadata": {
            "tags": []
          },
          "execution_count": 33
        }
      ]
    },
    {
      "cell_type": "code",
      "metadata": {
        "id": "b4209870",
        "colab": {
          "base_uri": "https://localhost:8080/",
          "height": 35
        },
        "outputId": "19bfa7e6-99eb-4e53-ecbd-9253306b3c31"
      },
      "source": [
        "'''fig = plt.figure()\n",
        "ax = plt.axes(projection='3d')\n",
        "ax.scatter3D(x, y, z)\n",
        "ax.view_init(-140, 600)'''\n"
      ],
      "id": "b4209870",
      "execution_count": 34,
      "outputs": [
        {
          "output_type": "execute_result",
          "data": {
            "application/vnd.google.colaboratory.intrinsic+json": {
              "type": "string"
            },
            "text/plain": [
              "\"fig = plt.figure()\\nax = plt.axes(projection='3d')\\nax.scatter3D(x, y, z)\\nax.view_init(-140, 600)\""
            ]
          },
          "metadata": {
            "tags": []
          },
          "execution_count": 34
        }
      ]
    },
    {
      "cell_type": "code",
      "metadata": {
        "id": "4SJOOr8Ndlpw",
        "colab": {
          "base_uri": "https://localhost:8080/"
        },
        "outputId": "90f992b8-af85-407a-a89f-fa47f5814d92"
      },
      "source": [
        "print(\"Mean Directional Accuracy: \" + str(utils.mean_directional_accuracy(labels.cpu().detach().numpy(),pred_means)))\n",
        "print(\"Root Mean Squared Error : \" + str(utils.rmse(pred_means, labels.cpu().detach().numpy())))"
      ],
      "id": "4SJOOr8Ndlpw",
      "execution_count": 35,
      "outputs": [
        {
          "output_type": "stream",
          "text": [
            "Mean Directional Accuracy: 0.5641025641025641\n",
            "Root Mean Squared Error : 0.47629807941072205\n"
          ],
          "name": "stdout"
        }
      ]
    }
  ]
}